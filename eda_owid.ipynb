{
 "cells": [
  {
   "cell_type": "markdown",
   "id": "f9aea9e1",
   "metadata": {},
   "source": [
    "# OWID Exploratory Data Analysis\n",
    "\n",
    "CO2 and Greenhouse Gas Emissions Data by Our World in Data: https://github.com/owid/co2-data"
   ]
  },
  {
   "cell_type": "code",
   "execution_count": null,
   "id": "bbf824d9",
   "metadata": {},
   "outputs": [],
   "source": [
    "import pandas as pd\n",
    "import numpy as np\n",
    "import matplotlib.pyplot as plt\n",
    "import seaborn as sns\n",
    "import plotly.express as px\n",
    "import plotly.graph_objects as go\n",
    "import altair as alt\n",
    "import math\n",
    "\n",
    "from sklearn.experimental import enable_iterative_imputer\n",
    "from sklearn.impute import IterativeImputer"
   ]
  },
  {
   "cell_type": "code",
   "execution_count": null,
   "id": "10e2c4ac",
   "metadata": {},
   "outputs": [],
   "source": [
    "df = pd.read_csv('dataset/owid/owid-co2-data.csv')\n",
    "codebook = pd.read_csv('dataset/owid/owid-co2-codebook.csv')"
   ]
  },
  {
   "cell_type": "code",
   "execution_count": null,
   "id": "5118f006",
   "metadata": {},
   "outputs": [],
   "source": [
    "df"
   ]
  },
  {
   "cell_type": "markdown",
   "id": "f39e7948",
   "metadata": {},
   "source": [
    "The codebook provides description and the source for each variable in the dataset."
   ]
  },
  {
   "cell_type": "code",
   "execution_count": null,
   "id": "38a83de5",
   "metadata": {
    "scrolled": true
   },
   "outputs": [],
   "source": [
    "codebook.head()"
   ]
  },
  {
   "cell_type": "markdown",
   "id": "f81f5984",
   "metadata": {},
   "source": [
    "## Dataset Overview"
   ]
  },
  {
   "cell_type": "code",
   "execution_count": null,
   "id": "2aabc399",
   "metadata": {},
   "outputs": [],
   "source": [
    "df.info()"
   ]
  },
  {
   "cell_type": "code",
   "execution_count": null,
   "id": "5afd6bc9",
   "metadata": {},
   "outputs": [],
   "source": [
    "df.describe()"
   ]
  },
  {
   "cell_type": "code",
   "execution_count": null,
   "id": "e2cceae8",
   "metadata": {},
   "outputs": [],
   "source": [
    "# change 'year' to string object\n",
    "df = df.astype({'year': str})\n",
    "print(df['year'].dtypes)"
   ]
  },
  {
   "cell_type": "markdown",
   "id": "cc80dde3",
   "metadata": {},
   "source": [
    "## Missing value identification"
   ]
  },
  {
   "cell_type": "code",
   "execution_count": null,
   "id": "4c4fa3ac",
   "metadata": {
    "scrolled": true
   },
   "outputs": [],
   "source": [
    "# function to count missing value\n",
    "def get_nan(df, sort=False):\n",
    "    missing_value = df[df.isna().values.any(axis=1)]\n",
    "    rows = missing_value.shape[0]\n",
    "    print(rows, \"rows with missing values\")\n",
    "    \n",
    "    if rows < 0:\n",
    "        return 0\n",
    "    if sort:\n",
    "        print(df.isna().sum().sort_values())\n",
    "    else:\n",
    "        print(df.isna().sum())\n",
    "        "
   ]
  },
  {
   "cell_type": "code",
   "execution_count": null,
   "id": "1b34e103",
   "metadata": {},
   "outputs": [],
   "source": [
    "get_nan(df, sort=True)"
   ]
  },
  {
   "cell_type": "code",
   "execution_count": null,
   "id": "61f9f6bc",
   "metadata": {
    "scrolled": false
   },
   "outputs": [],
   "source": [
    "# function to visualize the proportion of missing value\n",
    "def visual_nan(df, name=\"\", isSorted=False):\n",
    "    \n",
    "    sort = ''\n",
    "    if isSorted:\n",
    "        df=df[df.isna().sum().sort_values().keys()]\n",
    "        sort = '_sorted'\n",
    "    missing_value = df.isna().melt(value_name=\"missing\")\n",
    "\n",
    "    ax = sns.displot(data=missing_value,\n",
    "                     y=\"variable\",\n",
    "                     hue=\"missing\",\n",
    "                     multiple=\"fill\",\n",
    "                     height=10,\n",
    "                     aspect=1.5)\n",
    "    plt.xlabel(\"Proportion of missing value\")\n",
    "    plt.title(f\"Missing values of {name}\")\n",
    "    \n",
    "    filename = name.split('.')\n",
    "    plt.savefig(f\"plot/{filename[0]}{sort}.png\")\n",
    "\n",
    "    return ax"
   ]
  },
  {
   "cell_type": "code",
   "execution_count": null,
   "id": "c2274177",
   "metadata": {},
   "outputs": [],
   "source": [
    "visual_nan(df, 'owid-co2-data.csv', True)"
   ]
  },
  {
   "cell_type": "code",
   "execution_count": null,
   "id": "ede412e1",
   "metadata": {
    "scrolled": false
   },
   "outputs": [],
   "source": [
    "def missing_ratio_summary(df):\n",
    "    missing = pd.DataFrame(df.isna().sum(), columns=['missing'])\n",
    "    missing.reset_index(inplace=True)\n",
    "    missing.rename(columns={'index':'col'}, inplace=True)\n",
    "    missing['ratio'] = (missing['missing']/len(df)*100).round(2)\n",
    "\n",
    "    display(missing.sort_values(by=['ratio']))\n",
    "    \n",
    "missing_ratio_summary(df)"
   ]
  },
  {
   "cell_type": "markdown",
   "id": "da95c25a",
   "metadata": {},
   "source": [
    "... something to do .."
   ]
  },
  {
   "cell_type": "code",
   "execution_count": null,
   "id": "ffd60ebb",
   "metadata": {},
   "outputs": [],
   "source": []
  },
  {
   "cell_type": "code",
   "execution_count": null,
   "id": "8058ce4f",
   "metadata": {},
   "outputs": [],
   "source": []
  },
  {
   "cell_type": "code",
   "execution_count": null,
   "id": "b2730c38",
   "metadata": {},
   "outputs": [],
   "source": []
  },
  {
   "cell_type": "markdown",
   "id": "e3db2e62",
   "metadata": {},
   "source": [
    "## Outlier detection"
   ]
  },
  {
   "cell_type": "code",
   "execution_count": null,
   "id": "b920e19e",
   "metadata": {
    "scrolled": false
   },
   "outputs": [],
   "source": [
    "# function to plot boxplot\n",
    "def plot_boxplot(series, title='', xlabel=''):\n",
    "    bp = sns.boxplot(x=series)\n",
    "    bp.set(title=title,\n",
    "           xlabel=xlabel)\n",
    "    return bp\n",
    "\n",
    "# function to plot boxplot for all numeric columns\n",
    "def check_outlier(df):\n",
    "    numeric_columns = df.describe().columns.copy()\n",
    "    num_of_columns = len(numeric_columns)\n",
    "    \n",
    "    for i in range(math.ceil(num_of_columns/3)):\n",
    "        c = 3*i\n",
    "        \n",
    "        plt.figure(figsize=(20,2))\n",
    "        \n",
    "        plt.subplot(1, 3, 1)\n",
    "        plot_boxplot(df[numeric_columns[c]], xlabel=numeric_columns[c])\n",
    "        \n",
    "        plt.subplot(1, 3, 2)\n",
    "        try:\n",
    "            plot_boxplot(df[numeric_columns[c+1]], xlabel=numeric_columns[c+1])\n",
    "        except IndexError:\n",
    "            plt.xticks([]), plt.yticks([])\n",
    "            plt.axis(\"off\")\n",
    "            break\n",
    "        \n",
    "        plt.subplot(1, 3, 3)\n",
    "        try:\n",
    "            plot_boxplot(df[numeric_columns[c+1]], xlabel=numeric_columns[c+2])\n",
    "        except IndexError:\n",
    "            plt.xticks([]), plt.yticks([])\n",
    "            plt.axis(\"off\")\n",
    "            break\n",
    "        plt.show()\n",
    "\n",
    "        \n",
    "check_outlier(df)"
   ]
  },
  {
   "cell_type": "code",
   "execution_count": null,
   "id": "d2dcfb98",
   "metadata": {
    "scrolled": false
   },
   "outputs": [],
   "source": [
    "# function to plot an interactive boxplot \n",
    "def check_outlier_px(df, col_name):    \n",
    "    try:\n",
    "        fig = px.box(df, y=col_name)\n",
    "        fig.show()\n",
    "    except Exception as ex:\n",
    "        print('Something went wrong')"
   ]
  },
  {
   "cell_type": "code",
   "execution_count": null,
   "id": "5608f680",
   "metadata": {
    "scrolled": false
   },
   "outputs": [],
   "source": [
    "check_outlier_px(df, 'year')"
   ]
  },
  {
   "cell_type": "markdown",
   "id": "059b6e13",
   "metadata": {},
   "source": [
    "## Categorical data"
   ]
  },
  {
   "cell_type": "code",
   "execution_count": null,
   "id": "3a41ff34",
   "metadata": {},
   "outputs": [],
   "source": [
    "unique_iso_codes = df.iso_code.unique()\n",
    "unique_countries = df.country.unique()\n",
    "unique_years = df.year.unique()"
   ]
  },
  {
   "cell_type": "code",
   "execution_count": null,
   "id": "1e35df43",
   "metadata": {},
   "outputs": [],
   "source": [
    "print(unique_iso_codes)\n",
    "print(len(unique_iso_codes))"
   ]
  },
  {
   "cell_type": "code",
   "execution_count": null,
   "id": "26e7c673",
   "metadata": {},
   "outputs": [],
   "source": [
    "print(unique_countries)\n",
    "print(len(unique_countries))"
   ]
  },
  {
   "cell_type": "code",
   "execution_count": null,
   "id": "402b2821",
   "metadata": {},
   "outputs": [],
   "source": [
    "unique_years.sort()\n",
    "print(unique_years)\n",
    "print(len(unique_years))"
   ]
  },
  {
   "cell_type": "code",
   "execution_count": null,
   "id": "ca9c1787",
   "metadata": {},
   "outputs": [],
   "source": [
    "# plt.figure(figsize=(30, 3))\n",
    "# sns.countplot(x=\"iso_code\", data=df, palette='rocket')"
   ]
  },
  {
   "cell_type": "code",
   "execution_count": null,
   "id": "30fd03dc",
   "metadata": {},
   "outputs": [],
   "source": [
    "px.histogram(df, x=\"iso_code\")"
   ]
  },
  {
   "cell_type": "code",
   "execution_count": null,
   "id": "b626dcc7",
   "metadata": {},
   "outputs": [],
   "source": [
    "px.histogram(df, x=\"country\")"
   ]
  },
  {
   "cell_type": "code",
   "execution_count": null,
   "id": "2837dd00",
   "metadata": {},
   "outputs": [],
   "source": [
    "px.histogram(df.sort_values(by=['year']), x=\"year\")"
   ]
  },
  {
   "cell_type": "code",
   "execution_count": null,
   "id": "616000cd",
   "metadata": {},
   "outputs": [],
   "source": []
  },
  {
   "cell_type": "code",
   "execution_count": null,
   "id": "ce000028",
   "metadata": {},
   "outputs": [],
   "source": []
  },
  {
   "cell_type": "code",
   "execution_count": null,
   "id": "dfc59464",
   "metadata": {},
   "outputs": [],
   "source": []
  },
  {
   "cell_type": "code",
   "execution_count": null,
   "id": "d3afb3c0",
   "metadata": {},
   "outputs": [],
   "source": []
  },
  {
   "cell_type": "code",
   "execution_count": null,
   "id": "4508ba21",
   "metadata": {},
   "outputs": [],
   "source": []
  },
  {
   "cell_type": "markdown",
   "id": "474efdf4",
   "metadata": {},
   "source": [
    "## Top countries that produce the most Carbon Dioxide \n",
    "\n",
    "China, US, India"
   ]
  },
  {
   "cell_type": "code",
   "execution_count": null,
   "id": "2b784765",
   "metadata": {},
   "outputs": [],
   "source": [
    "def get_country_data(df, country_name):\n",
    "    df_country = df[df['country'] == f'{country_name}']\n",
    "    df_country.reset_index(inplace=True, drop=True)\n",
    "    return df_country"
   ]
  },
  {
   "cell_type": "markdown",
   "id": "c81f1f91",
   "metadata": {},
   "source": [
    "### China"
   ]
  },
  {
   "cell_type": "code",
   "execution_count": null,
   "id": "0047f34f",
   "metadata": {},
   "outputs": [],
   "source": [
    "df_china = get_country_data(df, 'China')"
   ]
  },
  {
   "cell_type": "code",
   "execution_count": null,
   "id": "48ec8c35",
   "metadata": {},
   "outputs": [],
   "source": [
    "visual_nan(df_china, sort=True)"
   ]
  },
  {
   "cell_type": "code",
   "execution_count": null,
   "id": "7adcfb85",
   "metadata": {
    "scrolled": false
   },
   "outputs": [],
   "source": [
    "missing_ratio_summary(df_china)"
   ]
  },
  {
   "cell_type": "markdown",
   "id": "8fe44fcc",
   "metadata": {},
   "source": [
    "## Handling Missing Values\n",
    "\n",
    "| Percentage of Missing values | Action                                           |\n",
    "| :--------------------------- | :----------------------------------------------- |\n",
    "| 0 % - 30 %                   | Fill with mean or median (univariate imputation) |\n",
    "| 31% - 70%                    | Multivariate imputation                          |\n",
    "| 71% - 100%                   | Drop column                                      |\n",
    "\n",
    "\n",
    "**Columns to drop in this case**:  \n",
    "\n",
    "`consumption_co2_per_capita`  \n",
    "`trade_co2`  \n",
    "`consumption_co2`   \n",
    "`trade_co2_share`  \n",
    "`consumption_co2_per_gdp`   \n",
    "`total_ghg ghg_per_capita`  \n",
    "`methane`  \n",
    "`methane_per_capita`  \n",
    "`nitrous_oxide`  \n",
    "`nitrous_oxide_per_capita`  \t\n",
    "`share_global_flaring_co2`  \n",
    "`share_global_cumulative_flaring_co2`   \n",
    "`flaring_co2_per_capita`  \n",
    "`flaring_co2`  \n",
    "`cumulative_flaring_co2`  \n"
   ]
  },
  {
   "cell_type": "markdown",
   "id": "9b2f1a69",
   "metadata": {},
   "source": [
    "## Multivariate Imputation"
   ]
  },
  {
   "cell_type": "code",
   "execution_count": null,
   "id": "f4a5de74",
   "metadata": {},
   "outputs": [],
   "source": [
    "df_china"
   ]
  },
  {
   "cell_type": "code",
   "execution_count": null,
   "id": "13373266",
   "metadata": {},
   "outputs": [],
   "source": [
    "122*0.8"
   ]
  },
  {
   "cell_type": "code",
   "execution_count": null,
   "id": "b14c77f2",
   "metadata": {},
   "outputs": [],
   "source": [
    "df_china_train = df_china[:100]\n",
    "df_china_train"
   ]
  },
  {
   "cell_type": "code",
   "execution_count": null,
   "id": "1cdf7adf",
   "metadata": {},
   "outputs": [],
   "source": [
    "df_china_test = df_china[-22:]\n",
    "df_china_test"
   ]
  },
  {
   "cell_type": "code",
   "execution_count": null,
   "id": "bfe607fc",
   "metadata": {},
   "outputs": [],
   "source": [
    "df_china_test['year'].to_list()"
   ]
  },
  {
   "cell_type": "code",
   "execution_count": null,
   "id": "82692b79",
   "metadata": {},
   "outputs": [],
   "source": [
    "imp = IterativeImputer(max_iter=10, random_state=2022)\n",
    "imp.fit(df_china_train.iloc[:,3:])\n",
    "\n",
    "df_china_predicted_array = imp.transform(df_china_test.iloc[:,3:])"
   ]
  },
  {
   "cell_type": "code",
   "execution_count": null,
   "id": "7f24cc54",
   "metadata": {},
   "outputs": [],
   "source": [
    "df_china_predicted_array"
   ]
  },
  {
   "cell_type": "code",
   "execution_count": null,
   "id": "f6280197",
   "metadata": {},
   "outputs": [],
   "source": [
    "columns=df_china_test.columns.tolist()[3:]\n",
    "print(len(columns))\n",
    "print(columns)"
   ]
  },
  {
   "cell_type": "code",
   "execution_count": null,
   "id": "7b8aa28c",
   "metadata": {},
   "outputs": [],
   "source": [
    "df_china_predicted = pd.DataFrame(df_china_predicted_array, columns=columns)\n",
    "df_china_predicted"
   ]
  },
  {
   "cell_type": "code",
   "execution_count": null,
   "id": "1e2bdbe1",
   "metadata": {},
   "outputs": [],
   "source": [
    "df_china_predicted['iso_code'] = df_china['iso_code']\n",
    "df_china_predicted['country'] = df_china['country']\n",
    "df_china_predicted['year'] = df_china_test['year'].to_list() # predicted years\n",
    "\n",
    "df_china_predicted.reindex(columns=df_china_test.columns.tolist())"
   ]
  },
  {
   "cell_type": "code",
   "execution_count": null,
   "id": "4e254079",
   "metadata": {},
   "outputs": [],
   "source": [
    "missing_ratio_summary(df_china_predicted)"
   ]
  },
  {
   "cell_type": "markdown",
   "id": "6e974d00",
   "metadata": {},
   "source": [
    "No missing value✌️"
   ]
  },
  {
   "cell_type": "code",
   "execution_count": null,
   "id": "4d8686ef",
   "metadata": {},
   "outputs": [],
   "source": []
  },
  {
   "cell_type": "code",
   "execution_count": null,
   "id": "ea25b68c",
   "metadata": {},
   "outputs": [],
   "source": []
  },
  {
   "cell_type": "code",
   "execution_count": null,
   "id": "03577825",
   "metadata": {},
   "outputs": [],
   "source": [
    "df_us = get_country_data(df, 'United States')\n",
    "df_us"
   ]
  },
  {
   "cell_type": "code",
   "execution_count": null,
   "id": "03a7f0e0",
   "metadata": {},
   "outputs": [],
   "source": [
    "print(len(df_us))\n",
    "df_us.isnull().any(axis = 1).sum()"
   ]
  },
  {
   "cell_type": "code",
   "execution_count": null,
   "id": "5f5b61f4",
   "metadata": {},
   "outputs": [],
   "source": [
    "df_india = get_country_data(df, 'India')\n",
    "df_india"
   ]
  },
  {
   "cell_type": "code",
   "execution_count": null,
   "id": "ce0cd053",
   "metadata": {},
   "outputs": [],
   "source": [
    "print(len(df_india))\n",
    "df_india.isnull().any(axis = 1).sum()"
   ]
  }
 ],
 "metadata": {
  "interpreter": {
   "hash": "5e0e143810b327d5e077938793196a872c643ae5d9cadd9e9dd1877f5ab05453"
  },
  "kernelspec": {
   "display_name": "Anaconda (base)",
   "language": "python",
   "name": "python3"
  },
  "language_info": {
   "codemirror_mode": {
    "name": "ipython",
    "version": 3
   },
   "file_extension": ".py",
   "mimetype": "text/x-python",
   "name": "python",
   "nbconvert_exporter": "python",
   "pygments_lexer": "ipython3",
   "version": "3.8.8"
  }
 },
 "nbformat": 4,
 "nbformat_minor": 5
}
