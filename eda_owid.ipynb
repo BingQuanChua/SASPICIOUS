{
 "cells": [
  {
   "cell_type": "markdown",
   "id": "f9aea9e1",
   "metadata": {},
   "source": [
    "# OWID Exploratory Data Analysis\n",
    "\n",
    "CO2 and Greenhouse Gas Emissions Data by Our World in Data: https://github.com/owid/co2-data"
   ]
  },
  {
   "cell_type": "code",
   "execution_count": null,
   "id": "bbf824d9",
   "metadata": {},
   "outputs": [],
   "source": [
    "import pandas as pd\n",
    "import numpy as np\n",
    "import matplotlib.pyplot as plt\n",
    "import seaborn as sns\n",
    "import plotly.express as px\n",
    "import plotly.graph_objects as go\n",
    "import altair as alt\n",
    "import math\n",
    "\n",
    "from sklearn.experimental import enable_iterative_imputer\n",
    "from sklearn.impute import IterativeImputer\n",
    "from sklearn.impute import KNNImputer"
   ]
  },
  {
   "cell_type": "code",
   "execution_count": null,
   "id": "10e2c4ac",
   "metadata": {},
   "outputs": [],
   "source": [
    "df = pd.read_csv('dataset/owid/owid-co2-data.csv')\n",
    "codebook = pd.read_csv('dataset/owid/owid-co2-codebook.csv')"
   ]
  },
  {
   "cell_type": "code",
   "execution_count": null,
   "id": "5118f006",
   "metadata": {},
   "outputs": [],
   "source": [
    "df"
   ]
  },
  {
   "cell_type": "markdown",
   "id": "f39e7948",
   "metadata": {},
   "source": [
    "The codebook provides description and the source for each variable in the dataset."
   ]
  },
  {
   "cell_type": "code",
   "execution_count": null,
   "id": "38a83de5",
   "metadata": {
    "scrolled": true
   },
   "outputs": [],
   "source": [
    "codebook.head()"
   ]
  },
  {
   "cell_type": "markdown",
   "id": "f81f5984",
   "metadata": {},
   "source": [
    "## Dataset Overview"
   ]
  },
  {
   "cell_type": "code",
   "execution_count": null,
   "id": "2aabc399",
   "metadata": {},
   "outputs": [],
   "source": [
    "df.info()"
   ]
  },
  {
   "cell_type": "code",
   "execution_count": null,
   "id": "5afd6bc9",
   "metadata": {},
   "outputs": [],
   "source": [
    "df.describe()"
   ]
  },
  {
   "cell_type": "code",
   "execution_count": null,
   "id": "e2cceae8",
   "metadata": {},
   "outputs": [],
   "source": [
    "# change 'year' to string object\n",
    "df = df.astype({'year': str})\n",
    "print(df['year'].dtypes)"
   ]
  },
  {
   "cell_type": "markdown",
   "id": "cc80dde3",
   "metadata": {},
   "source": [
    "## Missing value identification"
   ]
  },
  {
   "cell_type": "code",
   "execution_count": null,
   "id": "4c4fa3ac",
   "metadata": {
    "scrolled": true
   },
   "outputs": [],
   "source": [
    "# function to count missing value\n",
    "def get_nan(df, sort=False):\n",
    "    missing_value = df[df.isna().values.any(axis=1)]\n",
    "    rows = missing_value.shape[0]\n",
    "    print(rows, \"rows with missing values\")\n",
    "    \n",
    "    if rows < 0:\n",
    "        return 0\n",
    "    if sort:\n",
    "        print(df.isna().sum().sort_values())\n",
    "    else:\n",
    "        print(df.isna().sum())\n",
    "        "
   ]
  },
  {
   "cell_type": "code",
   "execution_count": null,
   "id": "1b34e103",
   "metadata": {},
   "outputs": [],
   "source": [
    "get_nan(df, sort=True)"
   ]
  },
  {
   "cell_type": "code",
   "execution_count": null,
   "id": "61f9f6bc",
   "metadata": {
    "scrolled": false
   },
   "outputs": [],
   "source": [
    "# function to visualize the proportion of missing value\n",
    "def visual_nan(df, name=\"\", isSorted=False, savePlot=True):\n",
    "    \n",
    "    sort = ''\n",
    "    if isSorted:\n",
    "        df=df[df.isna().sum().sort_values().keys()]\n",
    "        sort = '_sorted'\n",
    "    missing_value = df.isna().melt(value_name=\"missing\")\n",
    "\n",
    "    ax = sns.displot(data=missing_value,\n",
    "                      y=\"variable\",\n",
    "                      hue=\"missing\",\n",
    "                      multiple=\"fill\",\n",
    "                      height=10,\n",
    "                      aspect=1.5)\n",
    "    plt.xlabel(\"Proportion of missing value\")\n",
    "    plt.title(f\"Missing values of {name}\")\n",
    "    \n",
    "    if savePlot:\n",
    "        filename = name.split('.')\n",
    "        plt.savefig(f\"plot/{filename[0]}{sort}.png\")\n",
    "\n",
    "    return ax"
   ]
  },
  {
   "cell_type": "code",
   "execution_count": null,
   "id": "c2274177",
   "metadata": {},
   "outputs": [],
   "source": [
    "visual_nan(df, 'owid-co2-data.csv', isSorted=True)"
   ]
  },
  {
   "cell_type": "code",
   "execution_count": null,
   "id": "3f3f3df8",
   "metadata": {},
   "outputs": [],
   "source": [
    "missing = pd.DataFrame(df.isna().sum(), columns=['missing'])\n",
    "missing.reset_index(inplace=True)\n",
    "missing.rename(columns={'index':'col'}, inplace=True)\n",
    "missing['ratio'] = (missing['missing']/len(df)*100).round(2)\n",
    "missing_list = missing[missing['ratio'] > 70]['col'].tolist()\n",
    "missing_list"
   ]
  },
  {
   "cell_type": "code",
   "execution_count": null,
   "id": "ede412e1",
   "metadata": {
    "scrolled": false
   },
   "outputs": [],
   "source": [
    "# function to display the number of missing values and missing ratio\n",
    "def missing_ratio_summary(df):\n",
    "    missing = pd.DataFrame(df.isna().sum(), columns=['missing'])\n",
    "    missing.reset_index(inplace=True)\n",
    "    missing.rename(columns={'index':'col'}, inplace=True)\n",
    "    missing['ratio'] = (missing['missing']/len(df)*100).round(2)\n",
    "\n",
    "    display(missing.sort_values(by=['ratio']))\n",
    "    \n",
    "# function to return a list of columns with more than x% of missing values \n",
    "def get_X_missing(df, X):\n",
    "    missing = pd.DataFrame(df.isna().sum(), columns=['missing'])\n",
    "    missing.reset_index(inplace=True)\n",
    "    missing.rename(columns={'index':'col'}, inplace=True)\n",
    "    missing['ratio'] = (missing['missing']/len(df)*100).round(2)\n",
    "    \n",
    "    missing_list = missing[missing['ratio'] > X]['col'].tolist()\n",
    "    return missing_list\n",
    "    \n",
    "missing_ratio_summary(df)"
   ]
  },
  {
   "cell_type": "markdown",
   "id": "da95c25a",
   "metadata": {},
   "source": [
    "... something need to be done ..."
   ]
  },
  {
   "cell_type": "code",
   "execution_count": null,
   "id": "ffd60ebb",
   "metadata": {},
   "outputs": [],
   "source": []
  },
  {
   "cell_type": "code",
   "execution_count": null,
   "id": "8058ce4f",
   "metadata": {},
   "outputs": [],
   "source": []
  },
  {
   "cell_type": "code",
   "execution_count": null,
   "id": "b2730c38",
   "metadata": {},
   "outputs": [],
   "source": []
  },
  {
   "cell_type": "markdown",
   "id": "e3db2e62",
   "metadata": {},
   "source": [
    "## Outlier detection"
   ]
  },
  {
   "cell_type": "code",
   "execution_count": null,
   "id": "b920e19e",
   "metadata": {
    "scrolled": false
   },
   "outputs": [],
   "source": [
    "# function to plot boxplot\n",
    "def plot_boxplot(series, title='', xlabel=''):\n",
    "    bp = sns.boxplot(x=series)\n",
    "    bp.set(title=title,\n",
    "           xlabel=xlabel)\n",
    "    return bp\n",
    "\n",
    "# function to plot boxplot for all numeric columns\n",
    "def check_outlier(df):\n",
    "    numeric_columns = df.describe().columns.copy()\n",
    "    num_of_columns = len(numeric_columns)\n",
    "    \n",
    "    for i in range(math.ceil(num_of_columns/3)):\n",
    "        c = 3*i\n",
    "        \n",
    "        plt.figure(figsize=(20,2))\n",
    "        \n",
    "        plt.subplot(1, 3, 1)\n",
    "        plot_boxplot(df[numeric_columns[c]], xlabel=numeric_columns[c])\n",
    "        \n",
    "        plt.subplot(1, 3, 2)\n",
    "        try:\n",
    "            plot_boxplot(df[numeric_columns[c+1]], xlabel=numeric_columns[c+1])\n",
    "        except IndexError:\n",
    "            plt.xticks([]), plt.yticks([])\n",
    "            plt.axis(\"off\")\n",
    "            break\n",
    "        \n",
    "        plt.subplot(1, 3, 3)\n",
    "        try:\n",
    "            plot_boxplot(df[numeric_columns[c+1]], xlabel=numeric_columns[c+2])\n",
    "        except IndexError:\n",
    "            plt.xticks([]), plt.yticks([])\n",
    "            plt.axis(\"off\")\n",
    "            break\n",
    "        plt.show()\n",
    "\n",
    "        \n",
    "check_outlier(df)"
   ]
  },
  {
   "cell_type": "code",
   "execution_count": null,
   "id": "d2dcfb98",
   "metadata": {
    "scrolled": false
   },
   "outputs": [],
   "source": [
    "# function to plot an interactive boxplot \n",
    "def check_outlier_px(df, col_name):    \n",
    "    try:\n",
    "        fig = px.box(df, y=col_name)\n",
    "        fig.show()\n",
    "    except Exception as ex:\n",
    "        print('Something went wrong')"
   ]
  },
  {
   "cell_type": "code",
   "execution_count": null,
   "id": "5608f680",
   "metadata": {
    "scrolled": false
   },
   "outputs": [],
   "source": [
    "check_outlier_px(df, 'year')"
   ]
  },
  {
   "cell_type": "markdown",
   "id": "059b6e13",
   "metadata": {},
   "source": [
    "## Categorical data"
   ]
  },
  {
   "cell_type": "code",
   "execution_count": null,
   "id": "3a41ff34",
   "metadata": {},
   "outputs": [],
   "source": [
    "unique_iso_codes = df.iso_code.unique()\n",
    "unique_countries = df.country.unique()\n",
    "unique_years = df.year.unique()"
   ]
  },
  {
   "cell_type": "code",
   "execution_count": null,
   "id": "1e35df43",
   "metadata": {},
   "outputs": [],
   "source": [
    "print(unique_iso_codes)\n",
    "print(len(unique_iso_codes))"
   ]
  },
  {
   "cell_type": "code",
   "execution_count": null,
   "id": "26e7c673",
   "metadata": {},
   "outputs": [],
   "source": [
    "print(unique_countries)\n",
    "print(len(unique_countries))"
   ]
  },
  {
   "cell_type": "code",
   "execution_count": null,
   "id": "402b2821",
   "metadata": {},
   "outputs": [],
   "source": [
    "unique_years.sort()\n",
    "print(unique_years)\n",
    "print(len(unique_years))"
   ]
  },
  {
   "cell_type": "code",
   "execution_count": null,
   "id": "ca9c1787",
   "metadata": {},
   "outputs": [],
   "source": [
    "# plt.figure(figsize=(30, 3))\n",
    "# sns.countplot(x=\"iso_code\", data=df, palette='rocket')"
   ]
  },
  {
   "cell_type": "code",
   "execution_count": null,
   "id": "30fd03dc",
   "metadata": {},
   "outputs": [],
   "source": [
    "px.histogram(df, x=\"iso_code\")"
   ]
  },
  {
   "cell_type": "code",
   "execution_count": null,
   "id": "b626dcc7",
   "metadata": {},
   "outputs": [],
   "source": [
    "px.histogram(df, x=\"country\")"
   ]
  },
  {
   "cell_type": "code",
   "execution_count": null,
   "id": "2837dd00",
   "metadata": {},
   "outputs": [],
   "source": [
    "px.histogram(df.sort_values(by=['year']), x=\"year\")"
   ]
  },
  {
   "cell_type": "code",
   "execution_count": null,
   "id": "616000cd",
   "metadata": {},
   "outputs": [],
   "source": []
  },
  {
   "cell_type": "code",
   "execution_count": null,
   "id": "ce000028",
   "metadata": {},
   "outputs": [],
   "source": []
  },
  {
   "cell_type": "code",
   "execution_count": null,
   "id": "dfc59464",
   "metadata": {},
   "outputs": [],
   "source": []
  },
  {
   "cell_type": "code",
   "execution_count": null,
   "id": "d3afb3c0",
   "metadata": {},
   "outputs": [],
   "source": []
  },
  {
   "cell_type": "code",
   "execution_count": null,
   "id": "4508ba21",
   "metadata": {},
   "outputs": [],
   "source": []
  },
  {
   "cell_type": "markdown",
   "id": "474efdf4",
   "metadata": {},
   "source": [
    "## Top countries that produce the most Carbon Dioxide (CO2)\n",
    "\n",
    "China, US, India"
   ]
  },
  {
   "cell_type": "code",
   "execution_count": null,
   "id": "2b784765",
   "metadata": {},
   "outputs": [],
   "source": [
    "# function to slice out country from the master df\n",
    "def get_country_data(df, country_name):\n",
    "    df_country = df[df['country'] == f'{country_name}']\n",
    "    df_country.reset_index(inplace=True, drop=True)\n",
    "    return df_country"
   ]
  },
  {
   "cell_type": "markdown",
   "id": "8196b5b8",
   "metadata": {},
   "source": [
    "#### China"
   ]
  },
  {
   "cell_type": "code",
   "execution_count": null,
   "id": "0047f34f",
   "metadata": {},
   "outputs": [],
   "source": [
    "df_china_raw = get_country_data(df, 'China')\n",
    "print(df_china_raw.shape)"
   ]
  },
  {
   "cell_type": "code",
   "execution_count": null,
   "id": "48ec8c35",
   "metadata": {},
   "outputs": [],
   "source": [
    "visual_nan(df_china_raw, name='owid-China', isSorted=True)"
   ]
  },
  {
   "cell_type": "code",
   "execution_count": null,
   "id": "7adcfb85",
   "metadata": {
    "scrolled": false
   },
   "outputs": [],
   "source": [
    "missing_ratio_summary(df_china_raw)"
   ]
  },
  {
   "cell_type": "markdown",
   "id": "8fe44fcc",
   "metadata": {},
   "source": [
    "### Handling Missing Values\n",
    "\n",
    "| Percentage of Missing values | Action                                           |\n",
    "| :--------------------------- | :----------------------------------------------- |\n",
    "| [ 0%,  70%]                  | Multivariate imputation                          |\n",
    "| (70%, 100%]                  | Drop column                                      |\n",
    "  \n",
    "Columns with *more than* 70% of missing values are dropped. \n",
    "\n",
    "Use `get_X_missing(df, X)` function to get a list of columns that applies."
   ]
  },
  {
   "cell_type": "code",
   "execution_count": null,
   "id": "6eb88cf1",
   "metadata": {},
   "outputs": [],
   "source": [
    "col_to_drop_china = get_X_missing(df_china_raw, 70) # columns that have more than 70% missing values\n",
    "print(len(col_to_drop_china))\n",
    "print(col_to_drop_china)"
   ]
  },
  {
   "cell_type": "code",
   "execution_count": null,
   "id": "d42f2a47",
   "metadata": {},
   "outputs": [],
   "source": [
    "df_china = df_china_raw.drop(col_to_drop_china, axis=1)\n",
    "df_china"
   ]
  },
  {
   "cell_type": "markdown",
   "id": "9617215d",
   "metadata": {},
   "source": [
    "Doing the same to **United States** and **India**."
   ]
  },
  {
   "cell_type": "markdown",
   "id": "782361f3",
   "metadata": {},
   "source": [
    "#### United States"
   ]
  },
  {
   "cell_type": "code",
   "execution_count": null,
   "id": "4ae1f835",
   "metadata": {
    "scrolled": false
   },
   "outputs": [],
   "source": [
    "df_us_raw = get_country_data(df, 'United States')\n",
    "print(df_us_raw.shape)\n",
    "visual_nan(df_us_raw, name='owid-United-States', isSorted=True)"
   ]
  },
  {
   "cell_type": "code",
   "execution_count": null,
   "id": "323b6412",
   "metadata": {
    "scrolled": false
   },
   "outputs": [],
   "source": [
    "col_to_drop_us = get_X_missing(df_us_raw, 70) # columns that have more than 70% missing values\n",
    "print(len(col_to_drop_us))\n",
    "print(f\"A list of columns to drop: \\n{col_to_drop_us}\")\n",
    "\n",
    "df_us = df_us_raw.drop(col_to_drop_us, axis=1)\n",
    "df_us"
   ]
  },
  {
   "cell_type": "markdown",
   "id": "dff01821",
   "metadata": {},
   "source": [
    "#### India"
   ]
  },
  {
   "cell_type": "code",
   "execution_count": null,
   "id": "02c8c0f1",
   "metadata": {},
   "outputs": [],
   "source": [
    "df_india_raw = get_country_data(df, 'India')\n",
    "print(df_india_raw.shape)\n",
    "visual_nan(df_india_raw, name='owid-India', isSorted=True)"
   ]
  },
  {
   "cell_type": "code",
   "execution_count": null,
   "id": "8628a658",
   "metadata": {},
   "outputs": [],
   "source": [
    "col_to_drop_india = get_X_missing(df_india_raw, 70) # columns that have more than 70% missing values\n",
    "print(len(col_to_drop_india))\n",
    "print(f\"A list of columns to drop: \\n{col_to_drop_india}\")\n",
    "\n",
    "df_india = df_india_raw.drop(col_to_drop_india, axis=1)\n",
    "df_india"
   ]
  },
  {
   "cell_type": "markdown",
   "id": "79fbe4e0",
   "metadata": {},
   "source": [
    "### Intersecting Columns\n",
    "\n",
    "Finding the intersecting columns of `df_china`, `df_us`, and `df_india`.\n",
    "\n",
    "<img src=\"https://upload.wikimedia.org/wikipedia/commons/thumb/8/8d/Intersection_of_3_circles_7.svg/1073px-Intersection_of_3_circles_7.svg.png\" width=20%>"
   ]
  },
  {
   "cell_type": "code",
   "execution_count": null,
   "id": "4c3069e7",
   "metadata": {},
   "outputs": [],
   "source": [
    "print(df_china.shape[1])\n",
    "col_china = df_china.columns.tolist()\n",
    "print(col_china)\n",
    "\n",
    "print(df_us.shape[1])\n",
    "col_us = df_us.columns.tolist()\n",
    "print(col_us)\n",
    "\n",
    "print(df_india.shape[1])\n",
    "col_india = df_india.columns.tolist()\n",
    "print(col_india)"
   ]
  },
  {
   "cell_type": "code",
   "execution_count": null,
   "id": "c81b37f1",
   "metadata": {},
   "outputs": [],
   "source": [
    "china_us = np.intersect1d(col_china, col_us)\n",
    "china_us_india = np.intersect1d(china_us, col_india)\n",
    "print(len(china_us_india))\n",
    "print(china_us_india)"
   ]
  },
  {
   "cell_type": "code",
   "execution_count": null,
   "id": "74b6c370",
   "metadata": {},
   "outputs": [],
   "source": [
    "df_china"
   ]
  },
  {
   "cell_type": "code",
   "execution_count": null,
   "id": "b11a37b4",
   "metadata": {},
   "outputs": [],
   "source": [
    "col = df.columns.tolist()\n",
    "cols_to_drop = list(set(col) - set(china_us_india))\n",
    "\n",
    "# drop columns one last time\n",
    "df_china2 = df_china.drop(cols_to_drop, axis=1, errors='ignore') # in case the columns were dropped previously\n",
    "display(df_china2)\n",
    "df_us2 = df_us.drop(cols_to_drop, axis=1, errors='ignore')\n",
    "display(df_us2)\n",
    "df_india2 = df_india.drop(cols_to_drop, axis=1, errors='ignore')\n",
    "display(df_india2)"
   ]
  },
  {
   "cell_type": "code",
   "execution_count": null,
   "id": "e2dbdb7b",
   "metadata": {},
   "outputs": [],
   "source": [
    "# check % of missing values\n",
    "# not sorting because the order of columns might vary\n",
    "fig, axes = plt.subplots(1, 3, figsize=(20, 8), sharey=True)\n",
    "\n",
    "missing_value = df_china2.isna().melt(value_name=\"missing\")\n",
    "sns.histplot(data=missing_value, y=\"variable\", hue=\"missing\", multiple=\"fill\", ax=axes[0])\n",
    "axes[0].set_title(\"China\")\n",
    "\n",
    "missing_value = df_us2.isna().melt(value_name=\"missing\")\n",
    "sns.histplot(data=missing_value, y=\"variable\", hue=\"missing\", multiple=\"fill\", ax=axes[1])\n",
    "axes[1].set_title(\"United States\")\n",
    "\n",
    "missing_value = df_india2.isna().melt(value_name=\"missing\")\n",
    "sns.histplot(data=missing_value, y=\"variable\", hue=\"missing\", multiple=\"fill\", ax=axes[2])\n",
    "axes[2].set_title(\"India\")\n",
    "\n",
    "plt.show()"
   ]
  },
  {
   "cell_type": "markdown",
   "id": "aac45fb7",
   "metadata": {},
   "source": [
    "### Dataframe Intersection"
   ]
  },
  {
   "cell_type": "code",
   "execution_count": null,
   "id": "8e379a57",
   "metadata": {},
   "outputs": [],
   "source": [
    "from functools import reduce\n",
    "common_cols = reduce(np.intersect1d,(df_china2.columns, df_us2.columns, df_india2.columns))"
   ]
  },
  {
   "cell_type": "code",
   "execution_count": null,
   "id": "6a321282",
   "metadata": {},
   "outputs": [],
   "source": [
    "df_china2[common_cols].head()"
   ]
  },
  {
   "cell_type": "code",
   "execution_count": null,
   "id": "67432a86",
   "metadata": {},
   "outputs": [],
   "source": [
    "df_india2[common_cols].head()"
   ]
  },
  {
   "cell_type": "code",
   "execution_count": null,
   "id": "26287bd0",
   "metadata": {},
   "outputs": [],
   "source": [
    "df_us2[common_cols].head()"
   ]
  },
  {
   "cell_type": "markdown",
   "id": "9b2f1a69",
   "metadata": {},
   "source": [
    "### Multivariate Imputation\n",
    "\n",
    "Next, we will be using multivariate imputation to fill up missing values\n"
   ]
  },
  {
   "cell_type": "code",
   "execution_count": null,
   "id": "f4a5de74",
   "metadata": {},
   "outputs": [],
   "source": [
    "print(df_china2.shape)\n",
    "print(df_us2.shape)\n",
    "print(df_india2.shape)"
   ]
  },
  {
   "cell_type": "code",
   "execution_count": null,
   "id": "13373266",
   "metadata": {},
   "outputs": [],
   "source": [
    "print(122*0.8)\n",
    "print(221*0.8)\n",
    "print(163*0.8)"
   ]
  },
  {
   "cell_type": "code",
   "execution_count": null,
   "id": "b14c77f2",
   "metadata": {},
   "outputs": [],
   "source": [
    "def multivariate_imputation(df):\n",
    "\n",
    "    df_train = df.iloc[:-25] \n",
    "    df_test = df[-25:] # last 25 years\n",
    "\n",
    "    print(f'Training years: {df_train.shape[0]}')\n",
    "    print(f'Test years: {df_test.shape[0]}')\n",
    "\n",
    "    imp = IterativeImputer(max_iter=10, random_state=2022)\n",
    "    imp.fit(df_train.iloc[:,3:]) \n",
    "\n",
    "    df_predict_array = imp.transform(df_test.iloc[:,3:])\n",
    "\n",
    "    columns = df.columns.tolist()[3:]\n",
    "    df_predict = pd.DataFrame(df_predict_array, columns=columns) # array to df\n",
    "\n",
    "    df_predict['iso_code'] = df['iso_code']\n",
    "    df_predict['country'] = df['country']\n",
    "    df_predict['year'] = df_test['year'].to_list() # predicted years\n",
    "\n",
    "    df_predict = df_predict.reindex(columns=df_test.columns.tolist())\n",
    "    return df_predict\n",
    "    "
   ]
  },
  {
   "cell_type": "code",
   "execution_count": null,
   "id": "08adacfb",
   "metadata": {},
   "outputs": [],
   "source": [
    "df_china_predict = multivariate_imputation(df_china2)\n",
    "df_china_predict"
   ]
  },
  {
   "cell_type": "code",
   "execution_count": null,
   "id": "aafbf7ed",
   "metadata": {},
   "outputs": [],
   "source": [
    "df_us_predict = multivariate_imputation(df_us2)\n",
    "df_us_predict"
   ]
  },
  {
   "cell_type": "code",
   "execution_count": null,
   "id": "6c4689b7",
   "metadata": {},
   "outputs": [],
   "source": [
    "df_india_predict = multivariate_imputation(df_india2)\n",
    "df_india_predict"
   ]
  },
  {
   "cell_type": "markdown",
   "id": "73a6d666",
   "metadata": {},
   "source": [
    "Saving into above df into csv files"
   ]
  },
  {
   "cell_type": "code",
   "execution_count": null,
   "id": "c3351a71",
   "metadata": {},
   "outputs": [],
   "source": [
    "df_china_predict.to_csv('output/owid_df_china_predict.csv', index=False)\n",
    "df_us_predict.to_csv('output/owid_df_us_predict.csv', index=False)\n",
    "df_india_predict.to_csv('output/owid_df_india_predict.csv', index=False)\n",
    "print('Completed!')"
   ]
  },
  {
   "cell_type": "code",
   "execution_count": null,
   "id": "4d8686ef",
   "metadata": {},
   "outputs": [],
   "source": []
  },
  {
   "cell_type": "code",
   "execution_count": null,
   "id": "ea25b68c",
   "metadata": {},
   "outputs": [],
   "source": []
  }
 ],
 "metadata": {
  "interpreter": {
   "hash": "5e0e143810b327d5e077938793196a872c643ae5d9cadd9e9dd1877f5ab05453"
  },
  "kernelspec": {
   "display_name": "Anaconda (base)",
   "language": "python",
   "name": "python3"
  },
  "language_info": {
   "codemirror_mode": {
    "name": "ipython",
    "version": 3
   },
   "file_extension": ".py",
   "mimetype": "text/x-python",
   "name": "python",
   "nbconvert_exporter": "python",
   "pygments_lexer": "ipython3",
   "version": "3.8.8"
  }
 },
 "nbformat": 4,
 "nbformat_minor": 5
}
