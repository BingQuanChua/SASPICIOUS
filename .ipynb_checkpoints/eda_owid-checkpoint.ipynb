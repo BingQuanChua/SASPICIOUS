{
 "cells": [
  {
   "cell_type": "markdown",
   "id": "f9aea9e1",
   "metadata": {},
   "source": [
    "# OWID Exploratory Data Analysis\n",
    "\n",
    "CO2 and Greenhouse Gas Emissions Data by Our World in Data: https://github.com/owid/co2-data"
   ]
  },
  {
   "cell_type": "code",
   "execution_count": null,
   "id": "bbf824d9",
   "metadata": {},
   "outputs": [],
   "source": [
    "import pandas as pd\n",
    "import numpy as np\n",
    "import matplotlib.pyplot as plt\n",
    "import seaborn as sns\n",
    "import plotly.express as px\n",
    "import plotly.graph_objects as go\n",
    "import altair as alt\n",
    "import math\n",
    "\n",
    "from sklearn.experimental import enable_iterative_imputer\n",
    "from sklearn.impute import IterativeImputer"
   ]
  },
  {
   "cell_type": "code",
   "execution_count": null,
   "id": "10e2c4ac",
   "metadata": {},
   "outputs": [],
   "source": [
    "df = pd.read_csv('dataset/owid/owid-co2-data.csv')\n",
    "codebook = pd.read_csv('dataset/owid/owid-co2-codebook.csv')"
   ]
  },
  {
   "cell_type": "code",
   "execution_count": null,
   "id": "5118f006",
   "metadata": {},
   "outputs": [],
   "source": [
    "df"
   ]
  },
  {
   "cell_type": "markdown",
   "id": "f39e7948",
   "metadata": {},
   "source": [
    "The codebook provides description and the source for each variable in the dataset."
   ]
  },
  {
   "cell_type": "code",
   "execution_count": null,
   "id": "38a83de5",
   "metadata": {
    "scrolled": true
   },
   "outputs": [],
   "source": [
    "codebook.head()"
   ]
  },
  {
   "cell_type": "markdown",
   "id": "f81f5984",
   "metadata": {},
   "source": [
    "## Dataset Overview"
   ]
  },
  {
   "cell_type": "code",
   "execution_count": null,
   "id": "2aabc399",
   "metadata": {},
   "outputs": [],
   "source": [
    "df.info()"
   ]
  },
  {
   "cell_type": "code",
   "execution_count": null,
   "id": "5afd6bc9",
   "metadata": {},
   "outputs": [],
   "source": [
    "df.describe()"
   ]
  },
  {
   "cell_type": "code",
   "execution_count": null,
   "id": "e2cceae8",
   "metadata": {},
   "outputs": [],
   "source": [
    "# change 'year' to string object\n",
    "df = df.astype({'year': str})\n",
    "print(df['year'].dtypes)"
   ]
  },
  {
   "cell_type": "markdown",
   "id": "cc80dde3",
   "metadata": {},
   "source": [
    "## Missing value identification"
   ]
  },
  {
   "cell_type": "code",
   "execution_count": null,
   "id": "4c4fa3ac",
   "metadata": {
    "scrolled": true
   },
   "outputs": [],
   "source": [
    "# function to count missing value\n",
    "def get_nan(df, sort=False):\n",
    "    missing_value = df[df.isna().values.any(axis=1)]\n",
    "    rows = missing_value.shape[0]\n",
    "    print(rows, \"rows with missing values\")\n",
    "    \n",
    "    if rows < 0:\n",
    "        return 0\n",
    "    if sort:\n",
    "        print(df.isna().sum().sort_values())\n",
    "    else:\n",
    "        print(df.isna().sum())\n",
    "        "
   ]
  },
  {
   "cell_type": "code",
   "execution_count": null,
   "id": "1b34e103",
   "metadata": {},
   "outputs": [],
   "source": [
    "get_nan(df, sort=True)"
   ]
  },
  {
   "cell_type": "code",
   "execution_count": null,
   "id": "61f9f6bc",
   "metadata": {
    "scrolled": false
   },
   "outputs": [],
   "source": [
    "# function to visualize the proportion of missing value\n",
    "def visual_nan(df, name=\"\", isSorted=False, savePlot=True):\n",
    "    \n",
    "    sort = ''\n",
    "    if isSorted:\n",
    "        df=df[df.isna().sum().sort_values().keys()]\n",
    "        sort = '_sorted'\n",
    "    missing_value = df.isna().melt(value_name=\"missing\")\n",
    "\n",
    "    ax = sns.displot(data=missing_value,\n",
    "                     y=\"variable\",\n",
    "                     hue=\"missing\",\n",
    "                     multiple=\"fill\",\n",
    "                     height=10,\n",
    "                     aspect=1.5)\n",
    "    plt.xlabel(\"Proportion of missing value\")\n",
    "    plt.title(f\"Missing values of {name}\")\n",
    "    \n",
    "    if savePlot:\n",
    "        filename = name.split('.')\n",
    "        plt.savefig(f\"plot/{filename[0]}{sort}.png\")\n",
    "\n",
    "    return ax"
   ]
  },
  {
   "cell_type": "code",
   "execution_count": null,
   "id": "c2274177",
   "metadata": {},
   "outputs": [],
   "source": [
    "visual_nan(df, 'owid-co2-data.csv', isSorted=True)"
   ]
  },
  {
   "cell_type": "code",
   "execution_count": null,
   "id": "3f3f3df8",
   "metadata": {},
   "outputs": [],
   "source": [
    "missing = pd.DataFrame(df.isna().sum(), columns=['missing'])\n",
    "missing.reset_index(inplace=True)\n",
    "missing.rename(columns={'index':'col'}, inplace=True)\n",
    "missing['ratio'] = (missing['missing']/len(df)*100).round(2)\n",
    "missing_list = missing[missing['ratio'] > 70]['col'].tolist()\n",
    "missing_list"
   ]
  },
  {
   "cell_type": "code",
   "execution_count": null,
   "id": "ede412e1",
   "metadata": {
    "scrolled": false
   },
   "outputs": [],
   "source": [
    "# function to display the number of missing values and missing ratio\n",
    "def missing_ratio_summary(df):\n",
    "    missing = pd.DataFrame(df.isna().sum(), columns=['missing'])\n",
    "    missing.reset_index(inplace=True)\n",
    "    missing.rename(columns={'index':'col'}, inplace=True)\n",
    "    missing['ratio'] = (missing['missing']/len(df)*100).round(2)\n",
    "\n",
    "    display(missing.sort_values(by=['ratio']))\n",
    "    \n",
    "# function to return a list of columns with more than x% of missing values \n",
    "def get_X_missing(df, X):\n",
    "    missing = pd.DataFrame(df.isna().sum(), columns=['missing'])\n",
    "    missing.reset_index(inplace=True)\n",
    "    missing.rename(columns={'index':'col'}, inplace=True)\n",
    "    missing['ratio'] = (missing['missing']/len(df)*100).round(2)\n",
    "    \n",
    "    missing_list = missing[missing['ratio'] > X]['col'].tolist()\n",
    "    return missing_list\n",
    "    \n",
    "missing_ratio_summary(df)"
   ]
  },
  {
   "cell_type": "markdown",
   "id": "da95c25a",
   "metadata": {},
   "source": [
    "... something to do .."
   ]
  },
  {
   "cell_type": "code",
   "execution_count": null,
   "id": "ffd60ebb",
   "metadata": {},
   "outputs": [],
   "source": []
  },
  {
   "cell_type": "code",
   "execution_count": null,
   "id": "8058ce4f",
   "metadata": {},
   "outputs": [],
   "source": []
  },
  {
   "cell_type": "code",
   "execution_count": null,
   "id": "b2730c38",
   "metadata": {},
   "outputs": [],
   "source": []
  },
  {
   "cell_type": "markdown",
   "id": "e3db2e62",
   "metadata": {},
   "source": [
    "## Outlier detection"
   ]
  },
  {
   "cell_type": "code",
   "execution_count": null,
   "id": "b920e19e",
   "metadata": {
    "scrolled": false
   },
   "outputs": [],
   "source": [
    "# function to plot boxplot\n",
    "def plot_boxplot(series, title='', xlabel=''):\n",
    "    bp = sns.boxplot(x=series)\n",
    "    bp.set(title=title,\n",
    "           xlabel=xlabel)\n",
    "    return bp\n",
    "\n",
    "# function to plot boxplot for all numeric columns\n",
    "def check_outlier(df):\n",
    "    numeric_columns = df.describe().columns.copy()\n",
    "    num_of_columns = len(numeric_columns)\n",
    "    \n",
    "    for i in range(math.ceil(num_of_columns/3)):\n",
    "        c = 3*i\n",
    "        \n",
    "        plt.figure(figsize=(20,2))\n",
    "        \n",
    "        plt.subplot(1, 3, 1)\n",
    "        plot_boxplot(df[numeric_columns[c]], xlabel=numeric_columns[c])\n",
    "        \n",
    "        plt.subplot(1, 3, 2)\n",
    "        try:\n",
    "            plot_boxplot(df[numeric_columns[c+1]], xlabel=numeric_columns[c+1])\n",
    "        except IndexError:\n",
    "            plt.xticks([]), plt.yticks([])\n",
    "            plt.axis(\"off\")\n",
    "            break\n",
    "        \n",
    "        plt.subplot(1, 3, 3)\n",
    "        try:\n",
    "            plot_boxplot(df[numeric_columns[c+1]], xlabel=numeric_columns[c+2])\n",
    "        except IndexError:\n",
    "            plt.xticks([]), plt.yticks([])\n",
    "            plt.axis(\"off\")\n",
    "            break\n",
    "        plt.show()\n",
    "\n",
    "        \n",
    "check_outlier(df)"
   ]
  },
  {
   "cell_type": "code",
   "execution_count": null,
   "id": "d2dcfb98",
   "metadata": {
    "scrolled": false
   },
   "outputs": [],
   "source": [
    "# function to plot an interactive boxplot \n",
    "def check_outlier_px(df, col_name):    \n",
    "    try:\n",
    "        fig = px.box(df, y=col_name)\n",
    "        fig.show()\n",
    "    except Exception as ex:\n",
    "        print('Something went wrong')"
   ]
  },
  {
   "cell_type": "code",
   "execution_count": null,
   "id": "5608f680",
   "metadata": {
    "scrolled": false
   },
   "outputs": [],
   "source": [
    "check_outlier_px(df, 'year')"
   ]
  },
  {
   "cell_type": "markdown",
   "id": "059b6e13",
   "metadata": {},
   "source": [
    "## Categorical data"
   ]
  },
  {
   "cell_type": "code",
   "execution_count": null,
   "id": "3a41ff34",
   "metadata": {},
   "outputs": [],
   "source": [
    "unique_iso_codes = df.iso_code.unique()\n",
    "unique_countries = df.country.unique()\n",
    "unique_years = df.year.unique()"
   ]
  },
  {
   "cell_type": "code",
   "execution_count": null,
   "id": "1e35df43",
   "metadata": {},
   "outputs": [],
   "source": [
    "print(unique_iso_codes)\n",
    "print(len(unique_iso_codes))"
   ]
  },
  {
   "cell_type": "code",
   "execution_count": null,
   "id": "26e7c673",
   "metadata": {},
   "outputs": [],
   "source": [
    "print(unique_countries)\n",
    "print(len(unique_countries))"
   ]
  },
  {
   "cell_type": "code",
   "execution_count": null,
   "id": "402b2821",
   "metadata": {},
   "outputs": [],
   "source": [
    "unique_years.sort()\n",
    "print(unique_years)\n",
    "print(len(unique_years))"
   ]
  },
  {
   "cell_type": "code",
   "execution_count": null,
   "id": "ca9c1787",
   "metadata": {},
   "outputs": [],
   "source": [
    "# plt.figure(figsize=(30, 3))\n",
    "# sns.countplot(x=\"iso_code\", data=df, palette='rocket')"
   ]
  },
  {
   "cell_type": "code",
   "execution_count": null,
   "id": "30fd03dc",
   "metadata": {},
   "outputs": [],
   "source": [
    "px.histogram(df, x=\"iso_code\")"
   ]
  },
  {
   "cell_type": "code",
   "execution_count": null,
   "id": "b626dcc7",
   "metadata": {},
   "outputs": [],
   "source": [
    "px.histogram(df, x=\"country\")"
   ]
  },
  {
   "cell_type": "code",
   "execution_count": null,
   "id": "2837dd00",
   "metadata": {},
   "outputs": [],
   "source": [
    "px.histogram(df.sort_values(by=['year']), x=\"year\")"
   ]
  },
  {
   "cell_type": "code",
   "execution_count": null,
   "id": "616000cd",
   "metadata": {},
   "outputs": [],
   "source": []
  },
  {
   "cell_type": "code",
   "execution_count": null,
   "id": "ce000028",
   "metadata": {},
   "outputs": [],
   "source": []
  },
  {
   "cell_type": "code",
   "execution_count": null,
   "id": "dfc59464",
   "metadata": {},
   "outputs": [],
   "source": []
  },
  {
   "cell_type": "code",
   "execution_count": null,
   "id": "d3afb3c0",
   "metadata": {},
   "outputs": [],
   "source": []
  },
  {
   "cell_type": "code",
   "execution_count": null,
   "id": "4508ba21",
   "metadata": {},
   "outputs": [],
   "source": []
  },
  {
   "cell_type": "markdown",
   "id": "474efdf4",
   "metadata": {},
   "source": [
    "## Top countries that produce the most Carbon Dioxide (CO2)\n",
    "\n",
    "China, US, India"
   ]
  },
  {
   "cell_type": "code",
   "execution_count": null,
   "id": "2b784765",
   "metadata": {},
   "outputs": [],
   "source": [
    "# function to slice out country from the master df\n",
    "def get_country_data(df, country_name):\n",
    "    df_country = df[df['country'] == f'{country_name}']\n",
    "    df_country.reset_index(inplace=True, drop=True)\n",
    "    return df_country"
   ]
  },
  {
   "cell_type": "markdown",
   "id": "8196b5b8",
   "metadata": {},
   "source": [
    "#### China"
   ]
  },
  {
   "cell_type": "code",
   "execution_count": null,
   "id": "0047f34f",
   "metadata": {},
   "outputs": [],
   "source": [
    "df_china_raw = get_country_data(df, 'China')\n",
    "print(df_china_raw.shape)"
   ]
  },
  {
   "cell_type": "code",
   "execution_count": null,
   "id": "48ec8c35",
   "metadata": {},
   "outputs": [],
   "source": [
    "visual_nan(df_china_raw, name='owid-China', isSorted=True)"
   ]
  },
  {
   "cell_type": "code",
   "execution_count": null,
   "id": "7adcfb85",
   "metadata": {
    "scrolled": true
   },
   "outputs": [],
   "source": [
    "missing_ratio_summary(df_china_raw)"
   ]
  },
  {
   "cell_type": "markdown",
   "id": "8fe44fcc",
   "metadata": {},
   "source": [
    "### Handling Missing Values\n",
    "\n",
    "| Percentage of Missing values | Action                                           |\n",
    "| :--------------------------- | :----------------------------------------------- |\n",
    "| [ 0%,  70%]                  | Multivariate imputation                          |\n",
    "| (70%, 100%]                  | Drop column                                      |\n",
    "  \n",
    "Columns with *more than* 70% of missing values are dropped. \n",
    "\n",
    "Use `get_X_missing(df, X)` function to get a list of columns that applies."
   ]
  },
  {
   "cell_type": "code",
   "execution_count": null,
   "id": "6eb88cf1",
   "metadata": {},
   "outputs": [],
   "source": [
    "col_to_drop_china = get_X_missing(df_china_raw, 70) # columns that have more than 70% missing values\n",
    "print(len(col_to_drop_china))\n",
    "print(col_to_drop_china)"
   ]
  },
  {
   "cell_type": "code",
   "execution_count": null,
   "id": "d42f2a47",
   "metadata": {},
   "outputs": [],
   "source": [
    "df_china = df_china_raw.drop(col_to_drop_china, axis=1)\n",
    "df_china"
   ]
  },
  {
   "cell_type": "markdown",
   "id": "9617215d",
   "metadata": {},
   "source": [
    "Doing the same to **United States** and **India**."
   ]
  },
  {
   "cell_type": "markdown",
   "id": "782361f3",
   "metadata": {},
   "source": [
    "#### United States"
   ]
  },
  {
   "cell_type": "code",
   "execution_count": null,
   "id": "4ae1f835",
   "metadata": {
    "scrolled": true
   },
   "outputs": [],
   "source": [
    "df_us_raw = get_country_data(df, 'United States')\n",
    "print(df_us_raw.shape)\n",
    "visual_nan(df_us_raw, name='owid-United-States', isSorted=True)"
   ]
  },
  {
   "cell_type": "code",
   "execution_count": null,
   "id": "323b6412",
   "metadata": {
    "scrolled": true
   },
   "outputs": [],
   "source": [
    "col_to_drop_us = get_X_missing(df_us_raw, 70) # columns that have more than 70% missing values\n",
    "print(len(col_to_drop_us))\n",
    "print(f\"A list of columns to drop: \\n{col_to_drop_us}\")\n",
    "\n",
    "df_us = df_us_raw.drop(col_to_drop_us, axis=1)\n",
    "df_us"
   ]
  },
  {
   "cell_type": "markdown",
   "id": "dff01821",
   "metadata": {},
   "source": [
    "#### India"
   ]
  },
  {
   "cell_type": "code",
   "execution_count": null,
   "id": "02c8c0f1",
   "metadata": {},
   "outputs": [],
   "source": [
    "df_india_raw = get_country_data(df, 'India')\n",
    "print(df_india_raw.shape)\n",
    "visual_nan(df_india_raw, name='owid-India', isSorted=True)"
   ]
  },
  {
   "cell_type": "code",
   "execution_count": null,
   "id": "8628a658",
   "metadata": {},
   "outputs": [],
   "source": [
    "col_to_drop_india = get_X_missing(df_india_raw, 70) # columns that have more than 70% missing values\n",
    "print(len(col_to_drop_india))\n",
    "print(f\"A list of columns to drop: \\n{col_to_drop_india}\")\n",
    "\n",
    "df_india = df_india_raw.drop(col_to_drop_india, axis=1)\n",
    "df_india"
   ]
  },
  {
   "cell_type": "markdown",
   "id": "79fbe4e0",
   "metadata": {},
   "source": [
    "### Intersecting Columns\n",
    "\n",
    "Finding the intersecting columns of `df_china`, `df_us`, and `df_india`.\n",
    "\n",
    "<img src=\"https://upload.wikimedia.org/wikipedia/commons/thumb/8/8d/Intersection_of_3_circles_7.svg/1073px-Intersection_of_3_circles_7.svg.png\" width=20%>"
   ]
  },
  {
   "cell_type": "code",
   "execution_count": null,
   "id": "4c3069e7",
   "metadata": {},
   "outputs": [],
   "source": [
    "print(df_china.shape)\n",
    "col_china = df_china.columns.tolist()\n",
    "print(col_china)\n",
    "\n",
    "print(df_us.shape)\n",
    "col_us = df_us.columns.tolist()\n",
    "print(col_us)\n",
    "\n",
    "print(df_india.shape)\n",
    "col_india = df_india.columns.tolist()\n",
    "print(col_india)"
   ]
  },
  {
   "cell_type": "code",
   "execution_count": null,
   "id": "c81b37f1",
   "metadata": {},
   "outputs": [],
   "source": [
    "china_us = np.intersect1d(col_china, col_us)\n",
    "china_us_india = np.intersect1d(china_us, col_india)\n",
    "print(len(china_us_india))\n",
    "print(china_us_india)"
   ]
  },
  {
   "cell_type": "code",
   "execution_count": null,
   "id": "824ab740",
   "metadata": {},
   "outputs": [],
   "source": [
    "df_china[china_us_india]"
   ]
  },
  {
   "cell_type": "code",
   "execution_count": null,
   "id": "dc545525",
   "metadata": {},
   "outputs": [],
   "source": [
    "df_us[china_us_india]"
   ]
  },
  {
   "cell_type": "code",
   "execution_count": null,
   "id": "7da7c9bd",
   "metadata": {},
   "outputs": [],
   "source": [
    "df_india[china_us_india]"
   ]
  },
  {
   "cell_type": "code",
   "execution_count": null,
   "id": "4a932c29",
   "metadata": {},
   "outputs": [],
   "source": []
  },
  {
   "cell_type": "markdown",
   "id": "9b2f1a69",
   "metadata": {},
   "source": [
    "### Multivariate Imputation"
   ]
  },
  {
   "cell_type": "code",
   "execution_count": null,
   "id": "f4a5de74",
   "metadata": {},
   "outputs": [],
   "source": [
    "df_china"
   ]
  },
  {
   "cell_type": "code",
   "execution_count": null,
   "id": "13373266",
   "metadata": {},
   "outputs": [],
   "source": [
    "122*0.8"
   ]
  },
  {
   "cell_type": "code",
   "execution_count": null,
   "id": "b14c77f2",
   "metadata": {},
   "outputs": [],
   "source": [
    "df_china_train = df_china[:100]\n",
    "df_china_train"
   ]
  },
  {
   "cell_type": "code",
   "execution_count": null,
   "id": "1cdf7adf",
   "metadata": {},
   "outputs": [],
   "source": [
    "df_china_test = df_china[-22:]\n",
    "df_china_test"
   ]
  },
  {
   "cell_type": "code",
   "execution_count": null,
   "id": "bfe607fc",
   "metadata": {},
   "outputs": [],
   "source": [
    "df_china_test['year'].to_list()"
   ]
  },
  {
   "cell_type": "code",
   "execution_count": null,
   "id": "82692b79",
   "metadata": {},
   "outputs": [],
   "source": [
    "imp = IterativeImputer(max_iter=10, random_state=2022)\n",
    "imp.fit(df_china_train.iloc[:,3:])\n",
    "\n",
    "df_china_predicted_array = imp.transform(df_china_test.iloc[:,3:])"
   ]
  },
  {
   "cell_type": "code",
   "execution_count": null,
   "id": "7f24cc54",
   "metadata": {},
   "outputs": [],
   "source": [
    "df_china_predicted_array"
   ]
  },
  {
   "cell_type": "code",
   "execution_count": null,
   "id": "f6280197",
   "metadata": {},
   "outputs": [],
   "source": [
    "columns=df_china_test.columns.tolist()[3:]\n",
    "print(len(columns))\n",
    "print(columns)"
   ]
  },
  {
   "cell_type": "code",
   "execution_count": null,
   "id": "7b8aa28c",
   "metadata": {},
   "outputs": [],
   "source": [
    "df_china_predicted = pd.DataFrame(df_china_predicted_array, columns=columns)\n",
    "df_china_predicted"
   ]
  },
  {
   "cell_type": "code",
   "execution_count": null,
   "id": "1e2bdbe1",
   "metadata": {},
   "outputs": [],
   "source": [
    "df_china_predicted['iso_code'] = df_china['iso_code']\n",
    "df_china_predicted['country'] = df_china['country']\n",
    "df_china_predicted['year'] = df_china_test['year'].to_list() # predicted years\n",
    "\n",
    "df_china_predicted.reindex(columns=df_china_test.columns.tolist())"
   ]
  },
  {
   "cell_type": "code",
   "execution_count": null,
   "id": "4e254079",
   "metadata": {},
   "outputs": [],
   "source": [
    "missing_ratio_summary(df_china_predicted)"
   ]
  },
  {
   "cell_type": "markdown",
   "id": "6e974d00",
   "metadata": {},
   "source": [
    "No missing value✌️"
   ]
  },
  {
   "cell_type": "code",
   "execution_count": null,
   "id": "4d8686ef",
   "metadata": {},
   "outputs": [],
   "source": []
  },
  {
   "cell_type": "code",
   "execution_count": null,
   "id": "ea25b68c",
   "metadata": {},
   "outputs": [],
   "source": []
  },
  {
   "cell_type": "code",
   "execution_count": null,
   "id": "03577825",
   "metadata": {},
   "outputs": [],
   "source": [
    "df_us = get_country_data(df, 'United States')\n",
    "df_us"
   ]
  },
  {
   "cell_type": "code",
   "execution_count": null,
   "id": "03a7f0e0",
   "metadata": {},
   "outputs": [],
   "source": [
    "print(len(df_us))\n",
    "df_us.isnull().any(axis = 1).sum()"
   ]
  },
  {
   "cell_type": "code",
   "execution_count": null,
   "id": "5f5b61f4",
   "metadata": {},
   "outputs": [],
   "source": [
    "df_india = get_country_data(df, 'India')\n",
    "df_india"
   ]
  },
  {
   "cell_type": "code",
   "execution_count": null,
   "id": "ce0cd053",
   "metadata": {},
   "outputs": [],
   "source": [
    "print(len(df_india))\n",
    "df_india.isnull().any(axis = 1).sum()"
   ]
  }
 ],
 "metadata": {
  "interpreter": {
   "hash": "5e0e143810b327d5e077938793196a872c643ae5d9cadd9e9dd1877f5ab05453"
  },
  "kernelspec": {
   "display_name": "Anaconda (base)",
   "language": "python",
   "name": "anaconda-base"
  },
  "language_info": {
   "codemirror_mode": {
    "name": "ipython",
    "version": 3
   },
   "file_extension": ".py",
   "mimetype": "text/x-python",
   "name": "python",
   "nbconvert_exporter": "python",
   "pygments_lexer": "ipython3",
   "version": "3.8.8"
  }
 },
 "nbformat": 4,
 "nbformat_minor": 5
}
