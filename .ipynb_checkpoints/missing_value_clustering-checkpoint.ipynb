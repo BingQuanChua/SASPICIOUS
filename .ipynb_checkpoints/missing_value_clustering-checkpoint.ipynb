{
 "cells": [
  {
   "cell_type": "markdown",
   "metadata": {},
   "source": [
    "## Missing Value Clustering\n",
    "\n",
    "This notebook aims to identify the patterns of missing value and cluster them together."
   ]
  },
  {
   "cell_type": "code",
   "execution_count": null,
   "metadata": {},
   "outputs": [],
   "source": [
    "import pandas as pd\n",
    "import numpy as np\n",
    "import seaborn as sns\n",
    "import matplotlib as mpl\n",
    "import matplotlib.pyplot as plt\n",
    "import matplotlib.dates as mdates\n",
    "import matplotlib.cm as cm\n",
    "import matplotlib.colors as colors\n",
    "%matplotlib inline\n",
    "from tslearn.clustering import TimeSeriesKMeans\n",
    "import pickle\n",
    "\n",
    "mpl.rcParams.update(mpl.rcParamsDefault)\n",
    "%matplotlib inline\n",
    "mpl.rcParams['font.size'] = 14\n",
    "mpl.rcParams['figure.dpi'] = 90."
   ]
  },
  {
   "cell_type": "code",
   "execution_count": null,
   "metadata": {},
   "outputs": [],
   "source": [
    "df = pd.read_csv('dataset/worldbank/API.csv')\n",
    "meta_country = pd.read_csv('dataset/worldbank/Metadata_Country_API_19_DS2_en_csv_v2_3159902.csv')\n",
    "meta_indicator = pd.read_csv('dataset/worldbank/Metadata_Indicator_API_19_DS2_en_csv_v2_3159902.csv')"
   ]
  },
  {
   "cell_type": "markdown",
   "metadata": {},
   "source": [
    "## Preprocessing Data\n",
    "\n",
    "Missing value: fill null value with 0, and fill not null value with 1 (only apply this method on year dimension)"
   ]
  },
  {
   "cell_type": "code",
   "execution_count": null,
   "metadata": {},
   "outputs": [],
   "source": [
    "# Get  columns whose data type is float\n",
    "floatColumns = df.dtypes[df.dtypes == np.float]\n",
    "\n",
    "# list of columns whose data type is float\n",
    "listOfFloatColumnNames = list(floatColumns.index)\n",
    "\n",
    "print(listOfFloatColumnNames)"
   ]
  },
  {
   "cell_type": "code",
   "execution_count": null,
   "metadata": {},
   "outputs": [],
   "source": [
    "# Get  columns whose data type is object\n",
    "objectColumns = df.dtypes[df.dtypes == np.object]\n",
    "\n",
    "# list of columns whose data type is object\n",
    "listOfObjectColumnNames = list(objectColumns.index)\n",
    "\n",
    "print(listOfObjectColumnNames)"
   ]
  },
  {
   "cell_type": "code",
   "execution_count": null,
   "metadata": {},
   "outputs": [],
   "source": [
    "df_years = df[listOfFloatColumnNames]\n",
    "df_years.tail(3)"
   ]
  },
  {
   "cell_type": "code",
   "execution_count": null,
   "metadata": {},
   "outputs": [],
   "source": [
    "# fill nan with 0, and fill not nan with 1\n",
    "\n",
    "df_years = df_years.fillna(0)\n",
    "df_years[df_years[listOfFloatColumnNames] > 0] = 1\n",
    "df_years.tail(3)"
   ]
  },
  {
   "cell_type": "code",
   "execution_count": null,
   "metadata": {},
   "outputs": [],
   "source": [
    "df_countryAndIndicator = df[listOfObjectColumnNames]\n",
    "df_countryAndIndicator.tail(3)"
   ]
  },
  {
   "cell_type": "code",
   "execution_count": null,
   "metadata": {},
   "outputs": [],
   "source": [
    "# concat df_countryAndIndicator and df_years back together\n",
    "\n",
    "missingValue_df = pd.concat([df_countryAndIndicator, df_years], axis=1)\n",
    "\n",
    "# final preprocessed data\n",
    "\n",
    "missingValue_df"
   ]
  },
  {
   "cell_type": "markdown",
   "metadata": {},
   "source": [
    "## Group by Indicator\n",
    "\n",
    "There are a few ways of checking the pattern of missing value. This section start off with missing value group by indicator, which means all country's data will be grouped (sum) together in each of the 76 indicators."
   ]
  },
  {
   "cell_type": "code",
   "execution_count": null,
   "metadata": {},
   "outputs": [],
   "source": [
    "# Drop first column of dataframe\n",
    "df_groupBy_indicatorCode = missingValue_df.iloc[: , 3:]\n",
    "\n",
    "# Then group by indicator\n",
    "df_groupBy_indicatorCode = df_groupBy_indicatorCode.groupby(['Indicator Code']).sum()\n",
    "df_groupBy_indicatorCode"
   ]
  },
  {
   "cell_type": "code",
   "execution_count": null,
   "metadata": {},
   "outputs": [],
   "source": [
    "# The first and second indicator has similar missing value pattern\n",
    "\n",
    "df_0_2 = (df_groupBy_indicatorCode.iloc[0:2 , :]).transpose()\n",
    "\n",
    "sns.lineplot(data=df_0_2, palette=\"tab10\", linewidth=2.5)"
   ]
  },
  {
   "cell_type": "code",
   "execution_count": null,
   "metadata": {},
   "outputs": [],
   "source": [
    "# This is another missing value pattern found\n",
    "\n",
    "df_3_8 = (df_groupBy_indicatorCode.iloc[3:8 , :]).transpose()\n",
    "\n",
    "sns.lineplot(data=df_3_8, palette=\"tab10\", linewidth=2.5)"
   ]
  },
  {
   "cell_type": "code",
   "execution_count": null,
   "metadata": {},
   "outputs": [],
   "source": [
    "# more of them\n",
    "\n",
    "df_9_15 = (df_groupBy_indicatorCode.iloc[9:15 , :]).transpose()\n",
    "\n",
    "sns.lineplot(data=df_9_15, palette=\"tab10\", linewidth=2.5)"
   ]
  },
  {
   "cell_type": "markdown",
   "metadata": {},
   "source": [
    "## Time series clustering based on indicator\n",
    "\n",
    "Since there are 76 different indicators and all of them may have different pattern of missing value. This section aim to use time series clustering to group all missing data value pattern into their respective category."
   ]
  },
  {
   "cell_type": "code",
   "execution_count": null,
   "metadata": {},
   "outputs": [],
   "source": [
    "from tslearn.utils import to_time_series_dataset\n",
    "\n",
    "df_cluster = []\n",
    "cluster = 3\n",
    "\n",
    "X_train = df_groupBy_indicatorCode.iloc[0:10 , :].reindex()\n",
    "X_train = X_train.set_index['Indicator Code']\n",
    "\n",
    "colors = ['orange', 'turquoise', 'limegreen']\n",
    "names = ['orange cluster','turquoise cluster','limegreen cluster']\n",
    "\n",
    "seed = 1\n",
    "np.random.seed(seed)\n",
    "\n",
    "\n",
    "X_train = to_time_series_dataset(X_train.copy())\n",
    "X_train\n",
    "\n",
    "# print('Indicators vs time curves')\n",
    "\n",
    "# km = TimeSeriesKMeans(n_clusters=cluster, verbose=True, random_state=seed, max_iter=10)\n",
    "# y_pred = km.fit_predict(X_train)\n",
    "# clusters = pd.Series(data=y_pred, index=df.index)\n",
    "# clusters\n",
    "\n",
    "# f, (ax1, ax2, ax3) = plt.subplots(cluster, sharex=True, sharey=True,figsize=(12,8))\n",
    "\n",
    "# for yi,cl,xs in zip(range(cluster),[0,1,2],[ax1,ax2,ax3]):\n",
    "#     data = df.rolling(7, axis=1, min_periods=1).mean().fillna(0).loc[clusters[clusters == cl].index]\n",
    "#     data.T.plot(legend=False, alpha=.2,color='black', ax=xs)\n",
    "#     data.mean(axis=0).plot(linewidth=3., color=colors[cl], ax=xs)\n",
    "#     n = len(data)\n",
    "#     print('{}, N = {}'.format(names[cl], n))\n",
    "#     df_cluster.append(data) # save df to list\n",
    "\n",
    "# ax1.spines['top'].set_visible(False)\n",
    "# ax1.spines['right'].set_visible(False)\n",
    "# ax2.spines['right'].set_visible(False)\n",
    "# ax3.spines['right'].set_visible(False)\n",
    "# ax4.spines['right'].set_visible(False)\n",
    "# ax5.spines['right'].set_visible(False)\n",
    "\n",
    "# print(\"[0:orange, 1:turquoise,2:limegreen]\")\n",
    "# f.subplots_adjust(hspace=0)\n",
    "# #plt.ylim(-10, 220)\n",
    "# plt.setp([a.get_xticklabels() for a in f.axes[:-1]], visible=False)"
   ]
  },
  {
   "cell_type": "code",
   "execution_count": null,
   "metadata": {},
   "outputs": [],
   "source": []
  },
  {
   "cell_type": "code",
   "execution_count": null,
   "metadata": {},
   "outputs": [],
   "source": []
  },
  {
   "cell_type": "code",
   "execution_count": null,
   "metadata": {},
   "outputs": [],
   "source": []
  },
  {
   "cell_type": "code",
   "execution_count": null,
   "metadata": {},
   "outputs": [],
   "source": []
  }
 ],
 "metadata": {
  "kernelspec": {
   "display_name": "Python 3",
   "language": "python",
   "name": "python3"
  },
  "language_info": {
   "codemirror_mode": {
    "name": "ipython",
    "version": 3
   },
   "file_extension": ".py",
   "mimetype": "text/x-python",
   "name": "python",
   "nbconvert_exporter": "python",
   "pygments_lexer": "ipython3",
   "version": "3.8.5"
  }
 },
 "nbformat": 4,
 "nbformat_minor": 4
}
