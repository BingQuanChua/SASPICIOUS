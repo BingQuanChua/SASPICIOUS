{
 "cells": [
  {
   "cell_type": "code",
   "execution_count": null,
   "id": "0e62deea",
   "metadata": {},
   "outputs": [],
   "source": [
    "import pandas as pd\n",
    "import numpy as np\n",
    "import matplotlib.pyplot as plt\n",
    "import seaborn as sns\n",
    "import plotly.express as px\n",
    "import plotly.graph_objects as go\n",
    "import math\n",
    "\n",
    "from sklearn.experimental import enable_iterative_imputer\n",
    "from sklearn.impute import IterativeImputer\n",
    "from sklearn.impute import KNNImputer"
   ]
  },
  {
   "cell_type": "code",
   "execution_count": null,
   "id": "750fc01a",
   "metadata": {},
   "outputs": [],
   "source": [
    "df = pd.read_csv('dataset/worldbank/API.csv')\n",
    "meta_country = pd.read_csv('dataset/worldbank/Metadata_Country_API_19_DS2_en_csv_v2_3159902.csv')\n",
    "meta_indicator = pd.read_csv('dataset/worldbank/Metadata_Indicator_API_19_DS2_en_csv_v2_3159902.csv')"
   ]
  },
  {
   "cell_type": "markdown",
   "id": "d242ae5b",
   "metadata": {},
   "source": [
    "## Dataset Overview"
   ]
  },
  {
   "cell_type": "code",
   "execution_count": null,
   "id": "273fe771",
   "metadata": {},
   "outputs": [],
   "source": [
    "df.info()"
   ]
  },
  {
   "cell_type": "code",
   "execution_count": null,
   "id": "4407a488",
   "metadata": {},
   "outputs": [],
   "source": [
    "df.describe()"
   ]
  },
  {
   "cell_type": "markdown",
   "id": "6dce9da2",
   "metadata": {},
   "source": [
    "## Missing value identification"
   ]
  },
  {
   "cell_type": "code",
   "execution_count": null,
   "id": "bc8883ac",
   "metadata": {},
   "outputs": [],
   "source": [
    "# function to count missing value\n",
    "def get_nan(df, sort=False):\n",
    "    missing_value = df[df.isna().values.any(axis=1)]\n",
    "    rows = missing_value.shape[0]\n",
    "    print(rows, \"rows with missing values\")\n",
    "    \n",
    "    if rows < 0:\n",
    "        return 0\n",
    "    if sort:\n",
    "        print(df.isna().sum().sort_values())\n",
    "    else:\n",
    "        print(df.isna().sum())\n",
    "        "
   ]
  },
  {
   "cell_type": "code",
   "execution_count": null,
   "id": "ad0c1084",
   "metadata": {},
   "outputs": [],
   "source": [
    "get_nan(df, sort=True)"
   ]
  },
  {
   "cell_type": "code",
   "execution_count": null,
   "id": "2dd01c45",
   "metadata": {},
   "outputs": [],
   "source": [
    "# function to visualize the proportion of missing value\n",
    "def visual_nan(df, name=\"\", isSorted=False, savePlot=True):\n",
    "    \n",
    "    sort = ''\n",
    "    if isSorted:\n",
    "        df=df[df.isna().sum().sort_values().keys()]\n",
    "        sort = '_sorted'\n",
    "    missing_value = df.isna().melt(value_name=\"missing\")\n",
    "\n",
    "    ax = sns.displot(data=missing_value,\n",
    "                     y=\"variable\",\n",
    "                     hue=\"missing\",\n",
    "                     multiple=\"fill\",\n",
    "                     height=10,\n",
    "                     aspect=1.5)\n",
    "    plt.xlabel(\"Proportion of missing value\")\n",
    "    plt.title(f\"Missing values of {name}\")\n",
    "    \n",
    "    if savePlot:\n",
    "        filename = name.split('.')\n",
    "        plt.savefig(f\"plot/{filename[0]}{sort}.png\")\n",
    "\n",
    "    return ax"
   ]
  },
  {
   "cell_type": "code",
   "execution_count": null,
   "id": "5f7373f5",
   "metadata": {},
   "outputs": [],
   "source": [
    "visual_nan(df, 'API.csv', True)"
   ]
  },
  {
   "cell_type": "code",
   "execution_count": null,
   "id": "fbbfc2e2",
   "metadata": {},
   "outputs": [],
   "source": [
    "missing = pd.DataFrame(df.isna().sum(), columns=['missing'])\n",
    "missing.reset_index(inplace=True)\n",
    "missing.rename(columns={'index':'col'}, inplace=True)\n",
    "missing['ratio'] = (missing['missing']/25204*100).round(2)\n",
    "\n",
    "missing.sort_values(by=['ratio'])"
   ]
  },
  {
   "cell_type": "code",
   "execution_count": null,
   "id": "78d31005",
   "metadata": {},
   "outputs": [],
   "source": [
    "missing.ratio.hist(bins=10)"
   ]
  },
  {
   "cell_type": "code",
   "execution_count": null,
   "id": "17c9b2b1",
   "metadata": {},
   "outputs": [],
   "source": [
    "unique_countries = df['Country Name'].unique()\n",
    "print(unique_countries)\n",
    "print(len(unique_countries))"
   ]
  },
  {
   "cell_type": "code",
   "execution_count": null,
   "id": "dfda564a",
   "metadata": {},
   "outputs": [],
   "source": [
    "unique_country_codes = df['Country Code'].unique()\n",
    "print(unique_country_codes)\n",
    "print(len(unique_country_codes))"
   ]
  },
  {
   "cell_type": "code",
   "execution_count": null,
   "id": "183c5e7e",
   "metadata": {},
   "outputs": [],
   "source": [
    "unique_indicator_names = df['Indicator Name'].unique()\n",
    "print(unique_indicator_names)\n",
    "print(len(unique_indicator_names))"
   ]
  },
  {
   "cell_type": "code",
   "execution_count": null,
   "id": "6f3ed035",
   "metadata": {},
   "outputs": [],
   "source": [
    "unique_indicator_codes = df['Indicator Code'].unique()\n",
    "print(unique_indicator_codes)\n",
    "print(len(unique_indicator_codes))"
   ]
  },
  {
   "cell_type": "code",
   "execution_count": null,
   "id": "3616554e",
   "metadata": {},
   "outputs": [],
   "source": [
    "px.histogram(df, x=\"Country Name\")"
   ]
  },
  {
   "cell_type": "code",
   "execution_count": null,
   "id": "eefb722e",
   "metadata": {},
   "outputs": [],
   "source": [
    "px.histogram(df, x=\"Country Code\")"
   ]
  },
  {
   "cell_type": "code",
   "execution_count": null,
   "id": "0f1f3211",
   "metadata": {},
   "outputs": [],
   "source": [
    "px.histogram(df, x=\"Indicator Name\")"
   ]
  },
  {
   "cell_type": "code",
   "execution_count": null,
   "id": "d3c9a6d4",
   "metadata": {},
   "outputs": [],
   "source": [
    "px.histogram(df, x=\"Indicator Code\")"
   ]
  },
  {
   "cell_type": "markdown",
   "id": "97fafe90",
   "metadata": {},
   "source": [
    "## Top countries that produce the most Carbon Dioxide \n",
    "\n",
    "China, US, India"
   ]
  },
  {
   "cell_type": "code",
   "execution_count": null,
   "id": "8bf1e433",
   "metadata": {},
   "outputs": [],
   "source": [
    "def get_country_data(df, country_name, keep_indicator_code=False):\n",
    "    df_country = df[df['Country Name'] == country_name].copy()\n",
    "    if len(df_country) == 0:\n",
    "        return 0 # country name does not exist\n",
    "\n",
    "    if keep_indicator_code:\n",
    "        header_to_keep = 'Indicator Code'\n",
    "        header_to_drop = 'Indicator Name'\n",
    "\n",
    "    else:\n",
    "        header_to_keep = 'Indicator Name'\n",
    "        header_to_drop = 'Indicator Code'\n",
    "        \n",
    "    df_country.drop(columns=['Country Name', 'Country Code', f'{header_to_drop}'], inplace=True)\n",
    "    df_country.reset_index(inplace=True, drop=True)\n",
    "    df_country.set_index(f'{header_to_keep}')  \n",
    "    df_country = df_country.transpose()\n",
    "    df_country.reset_index(inplace=True)\n",
    "    \n",
    "    new_header = df_country.iloc[0] # grab the first row for the header\n",
    "    df_country = df_country[1:] # take the data but not header\n",
    "    df_country.columns = new_header # set the header row as the df header\n",
    "    df_country.rename(columns={f'{header_to_keep}': 'Year'}, inplace=True)\n",
    "    \n",
    "    # reset column type to float\n",
    "    headers = df_country.columns.tolist()[1:] # all headers except 'Year'\n",
    "    for h in headers:\n",
    "        df_country[h] = df_country[h].apply(pd.to_numeric, errors='coerce')\n",
    "    \n",
    "    return df_country"
   ]
  },
  {
   "cell_type": "code",
   "execution_count": null,
   "id": "8d8a460e",
   "metadata": {},
   "outputs": [],
   "source": [
    "# function to get indicator name\n",
    "def indicator_code_to_name(code):\n",
    "    col = meta_indicator[meta_indicator['INDICATOR_CODE']==code]\n",
    "    return str(col['INDICATOR_NAME'][0])\n",
    "\n",
    "# function to get indicator code\n",
    "def indicator_name_to_code(name):\n",
    "    col = meta_indicator[meta_indicator['INDICATOR_NAME']==name]\n",
    "    return str(col['INDICATOR_CODE'][0])\n",
    "    "
   ]
  },
  {
   "cell_type": "code",
   "execution_count": null,
   "id": "d973e47f",
   "metadata": {},
   "outputs": [],
   "source": [
    "df_china = get_country_data(df, \"China\", True)\n",
    "df_china"
   ]
  },
  {
   "cell_type": "code",
   "execution_count": null,
   "id": "92d3f8a5",
   "metadata": {},
   "outputs": [],
   "source": [
    "def missing_ratio_summary(df):\n",
    "    missing = pd.DataFrame(df.isna().sum(), columns=['missing'])\n",
    "    missing.reset_index(inplace=True)\n",
    "    missing.rename(columns={0:'col'}, inplace=True)\n",
    "    missing['ratio'] = (missing['missing']/len(df)*100).round(2)\n",
    "\n",
    "    display(missing.sort_values(by=['ratio']))"
   ]
  },
  {
   "cell_type": "code",
   "execution_count": null,
   "id": "0678d8d1",
   "metadata": {},
   "outputs": [],
   "source": [
    "df_china.info()"
   ]
  },
  {
   "cell_type": "code",
   "execution_count": null,
   "id": "cc01f086",
   "metadata": {},
   "outputs": [],
   "source": [
    "df_china.describe()"
   ]
  },
  {
   "cell_type": "code",
   "execution_count": null,
   "id": "1d79ce3c",
   "metadata": {},
   "outputs": [],
   "source": [
    "missing_ratio_summary(df_china)"
   ]
  },
  {
   "cell_type": "code",
   "execution_count": null,
   "id": "be8b923f",
   "metadata": {},
   "outputs": [],
   "source": [
    "df_china.describe()"
   ]
  },
  {
   "cell_type": "code",
   "execution_count": null,
   "id": "608b1d82",
   "metadata": {},
   "outputs": [],
   "source": [
    "missing_ratio_summary(df_china)"
   ]
  },
  {
   "cell_type": "code",
   "execution_count": null,
   "id": "bd920e98",
   "metadata": {},
   "outputs": [],
   "source": [
    "null_china = df_china.isna().sum()\n",
    "\n",
    "# create figure\n",
    "fig = plt.figure(figsize=(14, 8), dpi=80)\n",
    "ax = fig.add_axes([0,0,1,1])\n",
    "# set Y axis label\n",
    "ax.set_ylabel('count')\n",
    "# set orientation for X axis labels\n",
    "plt.xticks(rotation='vertical')\n",
    "# draw bar chart\n",
    "ax.bar(df_china.columns, null_china)\n",
    "plt.show()"
   ]
  },
  {
   "cell_type": "code",
   "execution_count": null,
   "id": "8328bf89",
   "metadata": {},
   "outputs": [],
   "source": [
    "china_percent_missing = df_china.isnull().sum() * 100 / len(df_china)\n",
    "china_missing_value_df = pd.DataFrame({'column_name': df_china.columns,\n",
    "                                 'percent_missing': china_percent_missing})\n",
    "\n",
    "china_missing_value_df.sort_values('percent_missing', inplace=True)\n",
    "percent_missing = df_china.isnull().sum() * 100 / len(df_china)\n",
    "\n",
    "# create figure\n",
    "fig = plt.figure(figsize=(14, 8), dpi=80)\n",
    "ax = fig.add_axes([0,0,1,1])\n",
    "# set Y axis label\n",
    "ax.set_ylabel('Percentage')\n",
    "# set orientation for X axis labels\n",
    "plt.xticks(rotation='vertical')\n",
    "# draw bar chart\n",
    "ax.bar(df_china.columns, china_percent_missing)\n",
    "plt.show()"
   ]
  },
  {
   "cell_type": "code",
   "execution_count": null,
   "id": "dba777a5",
   "metadata": {},
   "outputs": [],
   "source": [
    "china_percent_missing"
   ]
  },
  {
   "cell_type": "code",
   "execution_count": null,
   "id": "e4f4758b",
   "metadata": {},
   "outputs": [],
   "source": [
    "df_us = get_country_data(df, \"United States\", True)\n",
    "df_us"
   ]
  },
  {
   "cell_type": "code",
   "execution_count": null,
   "id": "51359c10",
   "metadata": {},
   "outputs": [],
   "source": [
    "missing_ratio_summary(df_us)"
   ]
  },
  {
   "cell_type": "code",
   "execution_count": null,
   "id": "e04ef453",
   "metadata": {},
   "outputs": [],
   "source": [
    "df_india = get_country_data(df, \"India\", True)\n",
    "df_india"
   ]
  },
  {
   "cell_type": "code",
   "execution_count": null,
   "id": "fb878b7a",
   "metadata": {},
   "outputs": [],
   "source": [
    "missing_ratio_summary(df_us)"
   ]
  },
  {
   "cell_type": "markdown",
   "id": "2e3f00ab",
   "metadata": {},
   "source": [
    "### Drop Columns with Missing Values > 70%"
   ]
  },
  {
   "cell_type": "code",
   "execution_count": null,
   "id": "ea0ad729",
   "metadata": {},
   "outputs": [],
   "source": [
    "perc = 70.0\n",
    "min_count =  int(((100-perc)/100)*df_china.shape[0] + 1)\n",
    "df_china = df_china.dropna( axis=1, \n",
    "                thresh=min_count)\n",
    "min_count =  int(((100-perc)/100)*df_us.shape[0] + 1)\n",
    "df_us = df_us.dropna( axis=1, \n",
    "                thresh=min_count)\n",
    "min_count =  int(((100-perc)/100)*df_india.shape[0] + 1)\n",
    "df_india = df_india.dropna( axis=1, \n",
    "                thresh=min_count)"
   ]
  },
  {
   "cell_type": "code",
   "execution_count": null,
   "id": "93fde801",
   "metadata": {},
   "outputs": [],
   "source": [
    "df_china.head()"
   ]
  },
  {
   "cell_type": "markdown",
   "id": "7d4a4b6f",
   "metadata": {},
   "source": [
    "### Dataframe Intersection"
   ]
  },
  {
   "cell_type": "code",
   "execution_count": null,
   "id": "e10095d4",
   "metadata": {},
   "outputs": [],
   "source": [
    "from functools import reduce\n",
    "common_cols = reduce(np.intersect1d,(df_china.columns, df_us.columns, df_india.columns))"
   ]
  },
  {
   "cell_type": "code",
   "execution_count": null,
   "id": "f683977b",
   "metadata": {},
   "outputs": [],
   "source": [
    "common_cols"
   ]
  },
  {
   "cell_type": "markdown",
   "id": "7c52c08e",
   "metadata": {},
   "source": [
    "### Multivariate Imputation\n",
    "\n",
    "Next, we will be using multivariate imputation to fill up missing values"
   ]
  },
  {
   "cell_type": "code",
   "execution_count": null,
   "id": "4832343f",
   "metadata": {},
   "outputs": [],
   "source": [
    "print(df_china.shape)\n",
    "print(df_us.shape)\n",
    "print(df_india.shape)"
   ]
  },
  {
   "cell_type": "code",
   "execution_count": null,
   "id": "44929b26",
   "metadata": {},
   "outputs": [],
   "source": [
    "print(df_china.shape[0] *0.8)\n",
    "print(df_us.shape[0] *0.8)\n",
    "print(df_india.shape[0] *0.8)"
   ]
  },
  {
   "cell_type": "code",
   "execution_count": null,
   "id": "cb99f9b1",
   "metadata": {},
   "outputs": [],
   "source": [
    "def multivariate_imputation(df):\n",
    "\n",
    "    df_train = df.iloc[:-25] \n",
    "    df_test = df[-25:] # last 25 years\n",
    "\n",
    "    print(f'Training years: {df_train.shape[0]}')\n",
    "    print(f'Test years: {df_test.shape[0]}')\n",
    "\n",
    "    imp = IterativeImputer(max_iter=10, random_state=2022)\n",
    "    imp.fit(df_train.iloc[:,3:]) \n",
    "\n",
    "    df_predict_array = imp.transform(df_test.iloc[:,3:])\n",
    "\n",
    "    columns = df.columns.tolist()[3:]\n",
    "    df_predict = pd.DataFrame(df_predict_array, columns=columns) # array to df\n",
    "\n",
    "    df_predict['iso_code'] = df['iso_code']\n",
    "    df_predict['country'] = df['country']\n",
    "    df_predict['year'] = df_test['year'].to_list() # predicted years\n",
    "\n",
    "    df_predict = df_predict.reindex(columns=df_test.columns.tolist())\n",
    "    return df_predict"
   ]
  }
 ],
 "metadata": {
  "interpreter": {
   "hash": "5e0e143810b327d5e077938793196a872c643ae5d9cadd9e9dd1877f5ab05453"
  },
  "kernelspec": {
   "display_name": "Anaconda (base)",
   "language": "python",
   "name": "anaconda-base"
  },
  "language_info": {
   "codemirror_mode": {
    "name": "ipython",
    "version": 3
   },
   "file_extension": ".py",
   "mimetype": "text/x-python",
   "name": "python",
   "nbconvert_exporter": "python",
   "pygments_lexer": "ipython3",
   "version": "3.8.8"
  }
 },
 "nbformat": 4,
 "nbformat_minor": 5
}
