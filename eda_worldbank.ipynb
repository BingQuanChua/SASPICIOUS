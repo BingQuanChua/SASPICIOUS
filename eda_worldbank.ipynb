{
 "cells": [
  {
   "cell_type": "markdown",
   "id": "a1e2cb30",
   "metadata": {},
   "source": [
    "# WorldBank Exploratory Data Analysis\n",
    "\n",
    "Climate Change Data by WorldBank: https://data.worldbank.org/topic/19"
   ]
  },
  {
   "cell_type": "code",
<<<<<<< HEAD
   "execution_count": 1,
=======
   "execution_count": null,
   "id": "0e62deea",
>>>>>>> bf81e3cec3936cb4e047da504d7a8d1fc0fb8d95
   "metadata": {},
   "outputs": [],
   "source": [
    "import pandas as pd\n",
    "import numpy as np\n",
    "import matplotlib.pyplot as plt\n",
    "import seaborn as sns\n",
    "import plotly.express as px\n",
    "import plotly.graph_objects as go\n",
    "import math\n",
    "\n",
    "from sklearn.experimental import enable_iterative_imputer\n",
    "from sklearn.impute import IterativeImputer\n",
    "from sklearn.impute import KNNImputer"
   ]
  },
  {
   "cell_type": "code",
<<<<<<< HEAD
   "execution_count": 2,
   "metadata": {},
   "outputs": [],
   "source": [
    "df = pd.read_csv('dataset/worldbank/API.csv')"
=======
   "execution_count": null,
   "id": "750fc01a",
   "metadata": {},
   "outputs": [],
   "source": [
    "df = pd.read_csv('dataset/worldbank/API.csv')\n",
    "meta_country = pd.read_csv('dataset/worldbank/Metadata_Country_API_19_DS2_en_csv_v2_3159902.csv')\n",
    "meta_indicator = pd.read_csv('dataset/worldbank/Metadata_Indicator_API_19_DS2_en_csv_v2_3159902.csv')"
>>>>>>> bf81e3cec3936cb4e047da504d7a8d1fc0fb8d95
   ]
  },
  {
   "cell_type": "code",
<<<<<<< HEAD
   "execution_count": 3,
   "metadata": {},
   "outputs": [
    {
     "data": {
      "text/html": [
       "<div>\n",
       "<style scoped>\n",
       "    .dataframe tbody tr th:only-of-type {\n",
       "        vertical-align: middle;\n",
       "    }\n",
       "\n",
       "    .dataframe tbody tr th {\n",
       "        vertical-align: top;\n",
       "    }\n",
       "\n",
       "    .dataframe thead th {\n",
       "        text-align: right;\n",
       "    }\n",
       "</style>\n",
       "<table border=\"1\" class=\"dataframe\">\n",
       "  <thead>\n",
       "    <tr style=\"text-align: right;\">\n",
       "      <th></th>\n",
       "      <th>Country Name</th>\n",
       "      <th>Country Code</th>\n",
       "      <th>Indicator Name</th>\n",
       "      <th>Indicator Code</th>\n",
       "      <th>1960</th>\n",
       "      <th>1961</th>\n",
       "      <th>1962</th>\n",
       "      <th>1963</th>\n",
       "      <th>1964</th>\n",
       "      <th>1965</th>\n",
       "      <th>...</th>\n",
       "      <th>2011</th>\n",
       "      <th>2012</th>\n",
       "      <th>2013</th>\n",
       "      <th>2014</th>\n",
       "      <th>2015</th>\n",
       "      <th>2016</th>\n",
       "      <th>2017</th>\n",
       "      <th>2018</th>\n",
       "      <th>2019</th>\n",
       "      <th>2020</th>\n",
       "    </tr>\n",
       "  </thead>\n",
       "  <tbody>\n",
       "    <tr>\n",
       "      <th>0</th>\n",
       "      <td>Aruba</td>\n",
       "      <td>ABW</td>\n",
       "      <td>Urban population (% of total population)</td>\n",
       "      <td>SP.URB.TOTL.IN.ZS</td>\n",
       "      <td>50.776</td>\n",
       "      <td>50.761000</td>\n",
       "      <td>50.746000</td>\n",
       "      <td>50.730000</td>\n",
       "      <td>50.715000</td>\n",
       "      <td>50.700000</td>\n",
       "      <td>...</td>\n",
       "      <td>42.940000</td>\n",
       "      <td>42.957000</td>\n",
       "      <td>42.990000</td>\n",
       "      <td>43.041000</td>\n",
       "      <td>43.108000</td>\n",
       "      <td>43.192000</td>\n",
       "      <td>43.293000</td>\n",
       "      <td>43.411000</td>\n",
       "      <td>43.546000</td>\n",
       "      <td>43.697000</td>\n",
       "    </tr>\n",
       "    <tr>\n",
       "      <th>1</th>\n",
       "      <td>Aruba</td>\n",
       "      <td>ABW</td>\n",
       "      <td>Urban population</td>\n",
       "      <td>SP.URB.TOTL</td>\n",
       "      <td>27525.000</td>\n",
       "      <td>28139.000000</td>\n",
       "      <td>28537.000000</td>\n",
       "      <td>28763.000000</td>\n",
       "      <td>28922.000000</td>\n",
       "      <td>29080.000000</td>\n",
       "      <td>...</td>\n",
       "      <td>43820.000000</td>\n",
       "      <td>44059.000000</td>\n",
       "      <td>44351.000000</td>\n",
       "      <td>44666.000000</td>\n",
       "      <td>44978.000000</td>\n",
       "      <td>45293.000000</td>\n",
       "      <td>45614.000000</td>\n",
       "      <td>45949.000000</td>\n",
       "      <td>46294.000000</td>\n",
       "      <td>46654.000000</td>\n",
       "    </tr>\n",
       "    <tr>\n",
       "      <th>2</th>\n",
       "      <td>Aruba</td>\n",
       "      <td>ABW</td>\n",
       "      <td>Urban population growth (annual %)</td>\n",
       "      <td>SP.URB.GROW</td>\n",
       "      <td>NaN</td>\n",
       "      <td>2.206183</td>\n",
       "      <td>1.404498</td>\n",
       "      <td>0.788835</td>\n",
       "      <td>0.551271</td>\n",
       "      <td>0.544810</td>\n",
       "      <td>...</td>\n",
       "      <td>0.100461</td>\n",
       "      <td>0.543931</td>\n",
       "      <td>0.660561</td>\n",
       "      <td>0.707733</td>\n",
       "      <td>0.696090</td>\n",
       "      <td>0.697901</td>\n",
       "      <td>0.706219</td>\n",
       "      <td>0.731740</td>\n",
       "      <td>0.748028</td>\n",
       "      <td>0.774631</td>\n",
       "    </tr>\n",
       "    <tr>\n",
       "      <th>3</th>\n",
       "      <td>Aruba</td>\n",
       "      <td>ABW</td>\n",
       "      <td>Population, total</td>\n",
       "      <td>SP.POP.TOTL</td>\n",
       "      <td>54208.000</td>\n",
       "      <td>55434.000000</td>\n",
       "      <td>56234.000000</td>\n",
       "      <td>56699.000000</td>\n",
       "      <td>57029.000000</td>\n",
       "      <td>57357.000000</td>\n",
       "      <td>...</td>\n",
       "      <td>102050.000000</td>\n",
       "      <td>102565.000000</td>\n",
       "      <td>103165.000000</td>\n",
       "      <td>103776.000000</td>\n",
       "      <td>104339.000000</td>\n",
       "      <td>104865.000000</td>\n",
       "      <td>105361.000000</td>\n",
       "      <td>105846.000000</td>\n",
       "      <td>106310.000000</td>\n",
       "      <td>106766.000000</td>\n",
       "    </tr>\n",
       "    <tr>\n",
       "      <th>4</th>\n",
       "      <td>Aruba</td>\n",
       "      <td>ABW</td>\n",
       "      <td>Population growth (annual %)</td>\n",
       "      <td>SP.POP.GROW</td>\n",
       "      <td>NaN</td>\n",
       "      <td>2.236462</td>\n",
       "      <td>1.432843</td>\n",
       "      <td>0.823502</td>\n",
       "      <td>0.580334</td>\n",
       "      <td>0.573498</td>\n",
       "      <td>...</td>\n",
       "      <td>0.377979</td>\n",
       "      <td>0.503385</td>\n",
       "      <td>0.583290</td>\n",
       "      <td>0.590508</td>\n",
       "      <td>0.541048</td>\n",
       "      <td>0.502860</td>\n",
       "      <td>0.471874</td>\n",
       "      <td>0.459266</td>\n",
       "      <td>0.437415</td>\n",
       "      <td>0.428017</td>\n",
       "    </tr>\n",
       "    <tr>\n",
       "      <th>...</th>\n",
       "      <td>...</td>\n",
       "      <td>...</td>\n",
       "      <td>...</td>\n",
       "      <td>...</td>\n",
       "      <td>...</td>\n",
       "      <td>...</td>\n",
       "      <td>...</td>\n",
       "      <td>...</td>\n",
       "      <td>...</td>\n",
       "      <td>...</td>\n",
       "      <td>...</td>\n",
       "      <td>...</td>\n",
       "      <td>...</td>\n",
       "      <td>...</td>\n",
       "      <td>...</td>\n",
       "      <td>...</td>\n",
       "      <td>...</td>\n",
       "      <td>...</td>\n",
       "      <td>...</td>\n",
       "      <td>...</td>\n",
       "      <td>...</td>\n",
       "    </tr>\n",
       "    <tr>\n",
       "      <th>20211</th>\n",
       "      <td>Zimbabwe</td>\n",
       "      <td>ZWE</td>\n",
       "      <td>Rural land area where elevation is below 5 met...</td>\n",
       "      <td>AG.LND.EL5M.RU.ZS</td>\n",
       "      <td>NaN</td>\n",
       "      <td>NaN</td>\n",
       "      <td>NaN</td>\n",
       "      <td>NaN</td>\n",
       "      <td>NaN</td>\n",
       "      <td>NaN</td>\n",
       "      <td>...</td>\n",
       "      <td>NaN</td>\n",
       "      <td>NaN</td>\n",
       "      <td>NaN</td>\n",
       "      <td>NaN</td>\n",
       "      <td>NaN</td>\n",
       "      <td>NaN</td>\n",
       "      <td>NaN</td>\n",
       "      <td>NaN</td>\n",
       "      <td>NaN</td>\n",
       "      <td>NaN</td>\n",
       "    </tr>\n",
       "    <tr>\n",
       "      <th>20212</th>\n",
       "      <td>Zimbabwe</td>\n",
       "      <td>ZWE</td>\n",
       "      <td>Rural land area where elevation is below 5 met...</td>\n",
       "      <td>AG.LND.EL5M.RU.K2</td>\n",
       "      <td>NaN</td>\n",
       "      <td>NaN</td>\n",
       "      <td>NaN</td>\n",
       "      <td>NaN</td>\n",
       "      <td>NaN</td>\n",
       "      <td>NaN</td>\n",
       "      <td>...</td>\n",
       "      <td>NaN</td>\n",
       "      <td>NaN</td>\n",
       "      <td>NaN</td>\n",
       "      <td>NaN</td>\n",
       "      <td>NaN</td>\n",
       "      <td>NaN</td>\n",
       "      <td>NaN</td>\n",
       "      <td>NaN</td>\n",
       "      <td>NaN</td>\n",
       "      <td>NaN</td>\n",
       "    </tr>\n",
       "    <tr>\n",
       "      <th>20213</th>\n",
       "      <td>Zimbabwe</td>\n",
       "      <td>ZWE</td>\n",
       "      <td>Arable land (% of land area)</td>\n",
       "      <td>AG.LND.ARBL.ZS</td>\n",
       "      <td>NaN</td>\n",
       "      <td>4.872690</td>\n",
       "      <td>5.001939</td>\n",
       "      <td>5.131188</td>\n",
       "      <td>5.260437</td>\n",
       "      <td>5.337986</td>\n",
       "      <td>...</td>\n",
       "      <td>10.856921</td>\n",
       "      <td>10.339925</td>\n",
       "      <td>10.339925</td>\n",
       "      <td>10.339925</td>\n",
       "      <td>10.339925</td>\n",
       "      <td>10.339925</td>\n",
       "      <td>10.339925</td>\n",
       "      <td>10.339925</td>\n",
       "      <td>NaN</td>\n",
       "      <td>NaN</td>\n",
       "    </tr>\n",
       "    <tr>\n",
       "      <th>20214</th>\n",
       "      <td>Zimbabwe</td>\n",
       "      <td>ZWE</td>\n",
       "      <td>Agricultural land (% of land area)</td>\n",
       "      <td>AG.LND.AGRI.ZS</td>\n",
       "      <td>NaN</td>\n",
       "      <td>28.396019</td>\n",
       "      <td>28.615743</td>\n",
       "      <td>28.835466</td>\n",
       "      <td>29.055189</td>\n",
       "      <td>29.223213</td>\n",
       "      <td>...</td>\n",
       "      <td>42.393693</td>\n",
       "      <td>41.876696</td>\n",
       "      <td>41.876696</td>\n",
       "      <td>41.876696</td>\n",
       "      <td>41.876696</td>\n",
       "      <td>41.876696</td>\n",
       "      <td>41.876696</td>\n",
       "      <td>41.876696</td>\n",
       "      <td>NaN</td>\n",
       "      <td>NaN</td>\n",
       "    </tr>\n",
       "    <tr>\n",
       "      <th>20215</th>\n",
       "      <td>Zimbabwe</td>\n",
       "      <td>ZWE</td>\n",
       "      <td>Agricultural land (sq. km)</td>\n",
       "      <td>AG.LND.AGRI.K2</td>\n",
       "      <td>NaN</td>\n",
       "      <td>109850.000000</td>\n",
       "      <td>110700.000000</td>\n",
       "      <td>111550.000000</td>\n",
       "      <td>112400.000000</td>\n",
       "      <td>113050.000000</td>\n",
       "      <td>...</td>\n",
       "      <td>164000.000000</td>\n",
       "      <td>162000.000000</td>\n",
       "      <td>162000.000000</td>\n",
       "      <td>162000.000000</td>\n",
       "      <td>162000.000000</td>\n",
       "      <td>162000.000000</td>\n",
       "      <td>162000.000000</td>\n",
       "      <td>162000.000000</td>\n",
       "      <td>NaN</td>\n",
       "      <td>NaN</td>\n",
       "    </tr>\n",
       "  </tbody>\n",
       "</table>\n",
       "<p>20216 rows × 65 columns</p>\n",
       "</div>"
      ],
      "text/plain": [
       "      Country Name Country Code  \\\n",
       "0            Aruba          ABW   \n",
       "1            Aruba          ABW   \n",
       "2            Aruba          ABW   \n",
       "3            Aruba          ABW   \n",
       "4            Aruba          ABW   \n",
       "...            ...          ...   \n",
       "20211     Zimbabwe          ZWE   \n",
       "20212     Zimbabwe          ZWE   \n",
       "20213     Zimbabwe          ZWE   \n",
       "20214     Zimbabwe          ZWE   \n",
       "20215     Zimbabwe          ZWE   \n",
       "\n",
       "                                          Indicator Name     Indicator Code  \\\n",
       "0               Urban population (% of total population)  SP.URB.TOTL.IN.ZS   \n",
       "1                                       Urban population        SP.URB.TOTL   \n",
       "2                     Urban population growth (annual %)        SP.URB.GROW   \n",
       "3                                      Population, total        SP.POP.TOTL   \n",
       "4                           Population growth (annual %)        SP.POP.GROW   \n",
       "...                                                  ...                ...   \n",
       "20211  Rural land area where elevation is below 5 met...  AG.LND.EL5M.RU.ZS   \n",
       "20212  Rural land area where elevation is below 5 met...  AG.LND.EL5M.RU.K2   \n",
       "20213                       Arable land (% of land area)     AG.LND.ARBL.ZS   \n",
       "20214                 Agricultural land (% of land area)     AG.LND.AGRI.ZS   \n",
       "20215                         Agricultural land (sq. km)     AG.LND.AGRI.K2   \n",
       "\n",
       "            1960           1961           1962           1963           1964  \\\n",
       "0         50.776      50.761000      50.746000      50.730000      50.715000   \n",
       "1      27525.000   28139.000000   28537.000000   28763.000000   28922.000000   \n",
       "2            NaN       2.206183       1.404498       0.788835       0.551271   \n",
       "3      54208.000   55434.000000   56234.000000   56699.000000   57029.000000   \n",
       "4            NaN       2.236462       1.432843       0.823502       0.580334   \n",
       "...          ...            ...            ...            ...            ...   \n",
       "20211        NaN            NaN            NaN            NaN            NaN   \n",
       "20212        NaN            NaN            NaN            NaN            NaN   \n",
       "20213        NaN       4.872690       5.001939       5.131188       5.260437   \n",
       "20214        NaN      28.396019      28.615743      28.835466      29.055189   \n",
       "20215        NaN  109850.000000  110700.000000  111550.000000  112400.000000   \n",
       "\n",
       "                1965  ...           2011           2012           2013  \\\n",
       "0          50.700000  ...      42.940000      42.957000      42.990000   \n",
       "1       29080.000000  ...   43820.000000   44059.000000   44351.000000   \n",
       "2           0.544810  ...       0.100461       0.543931       0.660561   \n",
       "3       57357.000000  ...  102050.000000  102565.000000  103165.000000   \n",
       "4           0.573498  ...       0.377979       0.503385       0.583290   \n",
       "...              ...  ...            ...            ...            ...   \n",
       "20211            NaN  ...            NaN            NaN            NaN   \n",
       "20212            NaN  ...            NaN            NaN            NaN   \n",
       "20213       5.337986  ...      10.856921      10.339925      10.339925   \n",
       "20214      29.223213  ...      42.393693      41.876696      41.876696   \n",
       "20215  113050.000000  ...  164000.000000  162000.000000  162000.000000   \n",
       "\n",
       "                2014           2015           2016           2017  \\\n",
       "0          43.041000      43.108000      43.192000      43.293000   \n",
       "1       44666.000000   44978.000000   45293.000000   45614.000000   \n",
       "2           0.707733       0.696090       0.697901       0.706219   \n",
       "3      103776.000000  104339.000000  104865.000000  105361.000000   \n",
       "4           0.590508       0.541048       0.502860       0.471874   \n",
       "...              ...            ...            ...            ...   \n",
       "20211            NaN            NaN            NaN            NaN   \n",
       "20212            NaN            NaN            NaN            NaN   \n",
       "20213      10.339925      10.339925      10.339925      10.339925   \n",
       "20214      41.876696      41.876696      41.876696      41.876696   \n",
       "20215  162000.000000  162000.000000  162000.000000  162000.000000   \n",
       "\n",
       "                2018           2019           2020  \n",
       "0          43.411000      43.546000      43.697000  \n",
       "1       45949.000000   46294.000000   46654.000000  \n",
       "2           0.731740       0.748028       0.774631  \n",
       "3      105846.000000  106310.000000  106766.000000  \n",
       "4           0.459266       0.437415       0.428017  \n",
       "...              ...            ...            ...  \n",
       "20211            NaN            NaN            NaN  \n",
       "20212            NaN            NaN            NaN  \n",
       "20213      10.339925            NaN            NaN  \n",
       "20214      41.876696            NaN            NaN  \n",
       "20215  162000.000000            NaN            NaN  \n",
       "\n",
       "[20216 rows x 65 columns]"
      ]
     },
     "execution_count": 3,
     "metadata": {},
     "output_type": "execute_result"
    }
   ],
=======
   "execution_count": null,
   "id": "37c012fd",
   "metadata": {},
   "outputs": [],
>>>>>>> bf81e3cec3936cb4e047da504d7a8d1fc0fb8d95
   "source": [
    "df"
   ]
  },
  {
   "cell_type": "code",
<<<<<<< HEAD
   "execution_count": 4,
=======
   "execution_count": null,
   "id": "d26ecb35",
>>>>>>> bf81e3cec3936cb4e047da504d7a8d1fc0fb8d95
   "metadata": {},
   "outputs": [],
   "source": [
    "# function to get indicator name\n",
    "def indicator_code_to_name(code):\n",
    "    col = meta_indicator[meta_indicator['INDICATOR_CODE']==code]\n",
    "    if len(col) == 0:\n",
    "        return 'the specified column does not exists'\n",
    "    return str(col.iloc[0]['INDICATOR_NAME'])\n",
    "\n",
    "# function to get indicator code\n",
    "def indicator_name_to_code(name):\n",
    "    col = meta_indicator[meta_indicator['INDICATOR_NAME']==name]\n",
    "    if len(col) == 0:\n",
    "        return 'the specified column does not exists'\n",
    "    return str(col.iloc[0]['INDICATOR_CODE'])\n",
    "    "
   ]
  },
  {
   "cell_type": "code",
<<<<<<< HEAD
   "execution_count": 5,
=======
   "execution_count": null,
   "id": "e4889459",
>>>>>>> bf81e3cec3936cb4e047da504d7a8d1fc0fb8d95
   "metadata": {},
   "outputs": [],
   "source": [
    "df"
   ]
  },
  {
   "cell_type": "markdown",
   "id": "d242ae5b",
   "metadata": {},
   "source": [
    "## Dataset Overview"
   ]
  },
  {
   "cell_type": "code",
<<<<<<< HEAD
   "execution_count": 3,
=======
   "execution_count": null,
   "id": "273fe771",
>>>>>>> bf81e3cec3936cb4e047da504d7a8d1fc0fb8d95
   "metadata": {},
   "outputs": [],
   "source": [
    "df.info()"
   ]
  },
  {
   "cell_type": "code",
   "execution_count": null,
   "id": "4407a488",
   "metadata": {},
   "outputs": [],
   "source": [
    "df.describe()"
   ]
  },
  {
   "cell_type": "markdown",
   "id": "6dce9da2",
   "metadata": {},
   "source": [
    "## Missing value identification"
   ]
  },
  {
   "cell_type": "code",
   "execution_count": null,
   "id": "bc8883ac",
   "metadata": {},
   "outputs": [],
   "source": [
    "# function to count missing value\n",
    "def get_nan(df, sort=False):\n",
    "    missing_value = df[df.isna().values.any(axis=1)]\n",
    "    rows = missing_value.shape[0]\n",
    "    print(rows, \"rows with missing values\")\n",
    "    \n",
    "    if rows < 0:\n",
    "        return 0\n",
    "    if sort:\n",
    "        print(df.isna().sum().sort_values())\n",
    "    else:\n",
    "        print(df.isna().sum())\n",
    "        "
   ]
  },
  {
   "cell_type": "code",
<<<<<<< HEAD
   "execution_count": 4,
=======
   "execution_count": null,
   "id": "ad0c1084",
   "metadata": {},
   "outputs": [],
   "source": [
    "get_nan(df, sort=True)"
   ]
  },
  {
   "cell_type": "code",
   "execution_count": null,
   "id": "2dd01c45",
   "metadata": {},
   "outputs": [],
   "source": [
    "# function to visualize the proportion of missing value\n",
    "def visual_nan(df, name=\"\", isSorted=False, savePlot=True):\n",
    "    \n",
    "    sort = ''\n",
    "    if isSorted:\n",
    "        df=df[df.isna().sum().sort_values().keys()]\n",
    "        sort = '_sorted'\n",
    "    missing_value = df.isna().melt(value_name=\"missing\")\n",
    "\n",
    "    ax = sns.displot(data=missing_value,\n",
    "                     y=\"variable\",\n",
    "                     hue=\"missing\",\n",
    "                     multiple=\"fill\",\n",
    "                     height=10,\n",
    "                     aspect=1.5)\n",
    "    plt.xlabel(\"Proportion of missing value\")\n",
    "    plt.title(f\"Missing values of {name}\")\n",
    "    \n",
    "    if savePlot:\n",
    "        filename = name.split('.')\n",
    "        plt.savefig(f\"plot/{filename[0]}{sort}.png\")\n",
    "\n",
    "    return ax"
   ]
  },
  {
   "cell_type": "code",
   "execution_count": null,
   "id": "5f7373f5",
   "metadata": {},
   "outputs": [],
   "source": [
    "visual_nan(df, 'API.csv', True)"
   ]
  },
  {
   "cell_type": "code",
   "execution_count": null,
   "id": "fbbfc2e2",
   "metadata": {},
   "outputs": [],
   "source": [
    "missing = pd.DataFrame(df.isna().sum(), columns=['missing'])\n",
    "missing.reset_index(inplace=True)\n",
    "missing.rename(columns={'index':'col'}, inplace=True)\n",
    "missing['ratio'] = (missing['missing']/25204*100).round(2)\n",
    "\n",
    "missing.sort_values(by=['ratio'])"
   ]
  },
  {
   "cell_type": "code",
   "execution_count": null,
   "id": "78d31005",
   "metadata": {},
   "outputs": [],
   "source": [
    "missing.ratio.hist(bins=10)"
   ]
  },
  {
   "cell_type": "code",
   "execution_count": null,
   "id": "17c9b2b1",
   "metadata": {},
   "outputs": [],
   "source": [
    "unique_countries = df['Country Name'].unique()\n",
    "print(unique_countries)\n",
    "print(len(unique_countries))"
   ]
  },
  {
   "cell_type": "code",
   "execution_count": null,
   "id": "dfda564a",
   "metadata": {},
   "outputs": [],
   "source": [
    "unique_country_codes = df['Country Code'].unique()\n",
    "print(unique_country_codes)\n",
    "print(len(unique_country_codes))"
   ]
  },
  {
   "cell_type": "code",
   "execution_count": null,
   "id": "183c5e7e",
   "metadata": {},
   "outputs": [],
   "source": [
    "unique_indicator_names = df['Indicator Name'].unique()\n",
    "print(unique_indicator_names)\n",
    "print(len(unique_indicator_names))"
   ]
  },
  {
   "cell_type": "code",
   "execution_count": null,
   "id": "6f3ed035",
   "metadata": {},
   "outputs": [],
   "source": [
    "unique_indicator_codes = df['Indicator Code'].unique()\n",
    "print(unique_indicator_codes)\n",
    "print(len(unique_indicator_codes))"
   ]
  },
  {
   "cell_type": "code",
   "execution_count": null,
   "id": "3616554e",
   "metadata": {},
   "outputs": [],
   "source": [
    "px.histogram(df, x=\"Country Name\")"
   ]
  },
  {
   "cell_type": "code",
   "execution_count": null,
   "id": "eefb722e",
   "metadata": {},
   "outputs": [],
   "source": [
    "px.histogram(df, x=\"Country Code\")"
   ]
  },
  {
   "cell_type": "code",
   "execution_count": null,
   "id": "0f1f3211",
   "metadata": {},
   "outputs": [],
   "source": [
    "px.histogram(df, x=\"Indicator Name\")"
   ]
  },
  {
   "cell_type": "code",
   "execution_count": null,
   "id": "d3c9a6d4",
>>>>>>> bf81e3cec3936cb4e047da504d7a8d1fc0fb8d95
   "metadata": {},
   "outputs": [],
   "source": [
    "px.histogram(df, x=\"Indicator Code\")"
   ]
  },
  {
   "cell_type": "markdown",
   "id": "97fafe90",
   "metadata": {},
   "source": [
    "## Top countries that produce the most Carbon Dioxide \n",
    "\n",
    "China, US, India"
   ]
  },
  {
   "cell_type": "code",
   "execution_count": null,
   "id": "8bf1e433",
   "metadata": {},
   "outputs": [],
   "source": [
    "def get_country_data(df, country_name, keep_indicator_code=False):\n",
    "    df_country = df[df['Country Name'] == country_name].copy()\n",
    "    if len(df_country) == 0:\n",
    "        return 0 # country name does not exist\n",
    "\n",
    "    if keep_indicator_code:\n",
    "        header_to_keep = 'Indicator Code'\n",
    "        header_to_drop = 'Indicator Name'\n",
    "\n",
    "    else:\n",
    "        header_to_keep = 'Indicator Name'\n",
    "        header_to_drop = 'Indicator Code'\n",
    "        \n",
    "    df_country.drop(columns=['Country Name', 'Country Code', f'{header_to_drop}'], inplace=True)\n",
    "    df_country.reset_index(inplace=True, drop=True)\n",
    "    df_country.set_index(f'{header_to_keep}')  \n",
    "    df_country = df_country.transpose()\n",
    "    df_country.reset_index(inplace=True)\n",
    "    \n",
    "    new_header = df_country.iloc[0] # grab the first row for the header\n",
    "    df_country = df_country[1:] # take the data but not header\n",
    "    df_country.columns = new_header # set the header row as the df header\n",
    "    df_country.rename(columns={f'{header_to_keep}': 'Year'}, inplace=True)\n",
    "    \n",
    "    # reset column type to float\n",
    "    headers = df_country.columns.tolist()[1:] # all headers except 'Year'\n",
    "    for h in headers:\n",
    "        df_country[h] = df_country[h].apply(pd.to_numeric, errors='coerce')\n",
    "    \n",
    "    return df_country"
   ]
  },
  {
   "cell_type": "code",
   "execution_count": null,
   "id": "d973e47f",
   "metadata": {},
   "outputs": [],
   "source": [
    "df_china = get_country_data(df, \"China\", True)\n",
    "df_china"
   ]
  },
  {
   "cell_type": "code",
   "execution_count": null,
   "id": "92d3f8a5",
   "metadata": {},
   "outputs": [],
   "source": [
    "def missing_ratio_summary(df):\n",
    "    missing = pd.DataFrame(df.isna().sum(), columns=['missing'])\n",
    "    missing.reset_index(inplace=True)\n",
    "    missing.rename(columns={0:'col'}, inplace=True)\n",
    "    missing['ratio'] = (missing['missing']/len(df)*100).round(2)\n",
    "\n",
    "    display(missing.sort_values(by=['ratio']))"
   ]
  },
  {
   "cell_type": "code",
   "execution_count": null,
   "id": "0678d8d1",
   "metadata": {},
   "outputs": [],
   "source": [
    "df_china.info()"
   ]
  },
  {
   "cell_type": "code",
   "execution_count": null,
   "id": "cc01f086",
   "metadata": {},
   "outputs": [],
   "source": [
    "df_china.describe()"
   ]
  },
  {
   "cell_type": "code",
   "execution_count": null,
   "id": "1d79ce3c",
   "metadata": {},
   "outputs": [],
   "source": [
    "missing_ratio_summary(df_china)"
   ]
  },
  {
   "cell_type": "code",
   "execution_count": null,
   "id": "be8b923f",
   "metadata": {},
   "outputs": [],
   "source": [
    "df_china.describe()"
   ]
  },
  {
   "cell_type": "code",
   "execution_count": null,
   "id": "608b1d82",
   "metadata": {},
   "outputs": [],
   "source": [
    "missing_ratio_summary(df_china)"
   ]
  },
  {
   "cell_type": "code",
   "execution_count": null,
   "id": "bd920e98",
   "metadata": {},
   "outputs": [],
   "source": [
    "null_china = df_china.isna().sum()\n",
    "\n",
    "# create figure\n",
    "fig = plt.figure(figsize=(14, 8), dpi=80)\n",
    "ax = fig.add_axes([0,0,1,1])\n",
    "# set Y axis label\n",
    "ax.set_ylabel('count')\n",
    "# set orientation for X axis labels\n",
    "plt.xticks(rotation='vertical')\n",
    "# draw bar chart\n",
    "ax.bar(df_china.columns, null_china)\n",
    "plt.show()"
   ]
  },
  {
   "cell_type": "code",
   "execution_count": null,
   "id": "8328bf89",
   "metadata": {},
   "outputs": [],
   "source": [
    "china_percent_missing = df_china.isnull().sum() * 100 / len(df_china)\n",
    "china_missing_value_df = pd.DataFrame({'column_name': df_china.columns,\n",
    "                                 'percent_missing': china_percent_missing})\n",
    "\n",
    "china_missing_value_df.sort_values('percent_missing', inplace=True)\n",
    "percent_missing = df_china.isnull().sum() * 100 / len(df_china)\n",
    "\n",
    "# create figure\n",
    "fig = plt.figure(figsize=(14, 8), dpi=80)\n",
    "ax = fig.add_axes([0,0,1,1])\n",
    "# set Y axis label\n",
    "ax.set_ylabel('Percentage')\n",
    "# set orientation for X axis labels\n",
    "plt.xticks(rotation='vertical')\n",
    "# draw bar chart\n",
    "ax.bar(df_china.columns, china_percent_missing)\n",
    "plt.show()"
   ]
  },
  {
   "cell_type": "code",
   "execution_count": null,
   "id": "dba777a5",
   "metadata": {},
   "outputs": [],
   "source": [
    "china_percent_missing"
   ]
  },
  {
   "cell_type": "code",
   "execution_count": null,
   "id": "e4f4758b",
   "metadata": {},
   "outputs": [],
   "source": [
    "df_us = get_country_data(df, \"United States\", True)\n",
    "df_us"
   ]
  },
  {
   "cell_type": "code",
   "execution_count": null,
   "id": "51359c10",
   "metadata": {},
   "outputs": [],
   "source": [
    "missing_ratio_summary(df_us)"
   ]
  },
  {
   "cell_type": "code",
   "execution_count": null,
   "id": "e04ef453",
   "metadata": {},
   "outputs": [],
   "source": [
    "df_india = get_country_data(df, \"India\", True)\n",
    "df_india"
   ]
  },
  {
   "cell_type": "code",
   "execution_count": null,
   "id": "fb878b7a",
   "metadata": {},
   "outputs": [],
   "source": [
    "missing_ratio_summary(df_us)"
   ]
  },
  {
   "cell_type": "markdown",
   "id": "2e3f00ab",
   "metadata": {},
   "source": [
    "### Drop Columns with Missing Values > 70%"
   ]
  },
  {
   "cell_type": "code",
   "execution_count": null,
   "id": "ea0ad729",
   "metadata": {},
   "outputs": [],
   "source": [
    "perc = 70.0\n",
    "min_count =  int(((100-perc)/100)*df_china.shape[0] + 1)\n",
    "df_china = df_china.dropna( axis=1, \n",
    "                thresh=min_count)\n",
    "min_count =  int(((100-perc)/100)*df_us.shape[0] + 1)\n",
    "df_us = df_us.dropna( axis=1, \n",
    "                thresh=min_count)\n",
    "min_count =  int(((100-perc)/100)*df_india.shape[0] + 1)\n",
    "df_india = df_india.dropna( axis=1, \n",
    "                thresh=min_count)"
   ]
  },
  {
   "cell_type": "code",
   "execution_count": null,
   "id": "93fde801",
   "metadata": {},
   "outputs": [],
   "source": [
    "df_china.head()"
   ]
  },
  {
   "cell_type": "markdown",
   "id": "7d4a4b6f",
   "metadata": {},
   "source": [
    "### Dataframe Intersection"
   ]
  },
  {
   "cell_type": "code",
   "execution_count": null,
   "id": "e10095d4",
   "metadata": {},
   "outputs": [],
   "source": [
    "from functools import reduce\n",
    "common_cols = reduce(np.intersect1d,(df_china.columns, df_us.columns, df_india.columns))"
   ]
  },
  {
   "cell_type": "code",
   "execution_count": null,
   "id": "f683977b",
   "metadata": {},
   "outputs": [],
   "source": [
    "df_china = df_china[common_cols]\n",
    "df_us = df_us[common_cols]\n",
    "df_india = df_india[common_cols]"
   ]
  },
  {
   "cell_type": "markdown",
   "id": "7c52c08e",
   "metadata": {},
   "source": [
    "### Multivariate Imputation\n",
    "\n",
    "Next, we will be using multivariate imputation to fill up missing values"
   ]
  },
  {
   "cell_type": "code",
   "execution_count": null,
   "id": "4832343f",
   "metadata": {},
   "outputs": [],
   "source": [
    "print(df_china.shape)\n",
    "print(df_us.shape)\n",
    "print(df_india.shape)"
   ]
  },
  {
   "cell_type": "code",
   "execution_count": null,
   "id": "44929b26",
   "metadata": {},
   "outputs": [],
   "source": [
    "print(df_china.shape[0] *0.8)\n",
    "print(df_us.shape[0] *0.8)\n",
    "print(df_india.shape[0] *0.8)"
   ]
  },
  {
   "cell_type": "code",
   "execution_count": null,
   "id": "cb99f9b1",
   "metadata": {},
   "outputs": [],
   "source": [
    "def multivariate_imputation(df, iso_code, country):\n",
    "    \n",
    "    N = 20\n",
    "    df_train = df.iloc[:-N] \n",
    "    df_test = df[-N:] # last N years\n",
    "\n",
    "    print(f'Training years: {df_train.shape[0]}')\n",
    "    print(f'Test years: {df_test.shape[0]}')\n",
    "\n",
    "    imp = IterativeImputer(max_iter=10, random_state=2022)\n",
    "    imp.fit(df_train.iloc[:, :49]) # exclude last column\n",
    "\n",
    "    df_predict_array = imp.transform(df_test.iloc[:, :49])\n",
    "\n",
    "    columns = df.columns.tolist()[:49]\n",
    "    df_predict = pd.DataFrame(df_predict_array, columns=columns) # array to df\n",
    "    \n",
    "    df_predict['ISO_CODE'] = iso_code\n",
    "    df_predict['Country'] = country\n",
    "    df_predict['Year'] = df_test['Year'].to_list() # predicted years\n",
    "\n",
    "    return df_predict"
   ]
  },
  {
   "cell_type": "code",
   "execution_count": null,
   "id": "6945973e",
   "metadata": {},
   "outputs": [],
   "source": [
    "# # recreate the error by adjusting N\n",
    "\n",
    "# df_china\n",
    "\n",
    "# N = 20\n",
    "# df_train = df_china.iloc[:-N] \n",
    "# df_test = df_china[-N:] # last N years\n",
    "\n",
    "# print(f'Training years: {df_train.shape[0]}')\n",
    "# print(f'Test years: {df_test.shape[0]}')\n",
    "\n",
    "# imp = IterativeImputer(max_iter=10, random_state=2022)\n",
    "# train = df_train.iloc[:, :49]\n",
    "# print(train.shape)\n",
    "# imp.fit(train) # exclude last column\n",
    "\n",
    "# test = df_test.iloc[:, :49]\n",
    "# print(test.shape)\n",
    "# df_predict_array = imp.transform(test)\n",
    "# print(df_predict_array.shape)"
   ]
  },
  {
   "cell_type": "code",
   "execution_count": null,
   "id": "259ca5d4",
   "metadata": {},
   "outputs": [],
   "source": [
    "df_china_impute = multivariate_imputation(df_china, 'CHN', 'China')\n",
    "display(df_china_impute)\n",
    "\n",
    "df_us_impute = multivariate_imputation(df_us, 'USA', 'United States')\n",
    "display(df_us_impute)\n",
    "\n",
    "df_india_impute = multivariate_imputation(df_india, 'IND', 'India')\n",
    "display(df_india_impute)"
   ]
  },
  {
   "cell_type": "markdown",
   "id": "a3a9883f",
   "metadata": {},
   "source": [
    "Saving imputed data into csv files"
   ]
  },
  {
   "cell_type": "code",
   "execution_count": null,
   "id": "5bfa2c67",
   "metadata": {},
   "outputs": [],
   "source": [
    "df_china_impute.to_csv('output/worldbank_china_impute.csv', index=False)\n",
    "df_us_impute.to_csv('output/worldbank_us_impute.csv', index=False)\n",
    "df_india_impute.to_csv('output/worldbank_india_impute.csv', index=False)\n",
    "print('Completed!')"
   ]
  },
  {
   "cell_type": "code",
   "execution_count": null,
   "metadata": {},
   "outputs": [],
   "source": []
  }
 ],
 "metadata": {
  "interpreter": {
   "hash": "5e0e143810b327d5e077938793196a872c643ae5d9cadd9e9dd1877f5ab05453"
  },
  "kernelspec": {
   "display_name": "Python 3",
   "language": "python",
   "name": "python3"
  },
  "language_info": {
   "codemirror_mode": {
    "name": "ipython",
    "version": 3
   },
   "file_extension": ".py",
   "mimetype": "text/x-python",
   "name": "python",
   "nbconvert_exporter": "python",
   "pygments_lexer": "ipython3",
   "version": "3.8.5"
  }
 },
 "nbformat": 4,
 "nbformat_minor": 5
}
