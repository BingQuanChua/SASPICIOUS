{
 "cells": [
  {
   "cell_type": "code",
   "execution_count": 104,
   "metadata": {},
   "outputs": [],
   "source": [
    "import pandas as pd\n",
    "from sklearn.feature_selection import RFECV\n",
    "from sklearn.preprocessing import MinMaxScaler\n",
    "from sklearn.ensemble import RandomForestRegressor\n",
    "from boruta import BorutaPy"
   ]
  },
  {
   "cell_type": "code",
   "execution_count": 105,
   "metadata": {
    "scrolled": false
   },
   "outputs": [
    {
     "data": {
      "text/html": [
       "<div>\n",
       "<style scoped>\n",
       "    .dataframe tbody tr th:only-of-type {\n",
       "        vertical-align: middle;\n",
       "    }\n",
       "\n",
       "    .dataframe tbody tr th {\n",
       "        vertical-align: top;\n",
       "    }\n",
       "\n",
       "    .dataframe thead th {\n",
       "        text-align: right;\n",
       "    }\n",
       "</style>\n",
       "<table border=\"1\" class=\"dataframe\">\n",
       "  <thead>\n",
       "    <tr style=\"text-align: right;\">\n",
       "      <th></th>\n",
       "      <th>Country Name</th>\n",
       "      <th>Year</th>\n",
       "      <th>Urban population (% of total population)</th>\n",
       "      <th>Urban population</th>\n",
       "      <th>Urban population growth (annual %)</th>\n",
       "      <th>Population, total</th>\n",
       "      <th>Population growth (annual %)</th>\n",
       "      <th>Poverty headcount ratio at $1.90 a day (2011 PPP) (% of population)</th>\n",
       "      <th>Prevalence of underweight, weight for age (% of children under 5)</th>\n",
       "      <th>Community health workers (per 1,000 people)</th>\n",
       "      <th>...</th>\n",
       "      <th>Forest area (% of land area)</th>\n",
       "      <th>Forest area (sq. km)</th>\n",
       "      <th>Land area where elevation is below 5 meters (% of total land area)</th>\n",
       "      <th>Urban land area where elevation is below 5 meters (% of total land area)</th>\n",
       "      <th>Urban land area where elevation is below 5 meters (sq. km)</th>\n",
       "      <th>Rural land area where elevation is below 5 meters (% of total land area)</th>\n",
       "      <th>Rural land area where elevation is below 5 meters (sq. km)</th>\n",
       "      <th>Arable land (% of land area)</th>\n",
       "      <th>Agricultural land (% of land area)</th>\n",
       "      <th>Agricultural land (sq. km)</th>\n",
       "    </tr>\n",
       "  </thead>\n",
       "  <tbody>\n",
       "    <tr>\n",
       "      <th>0</th>\n",
       "      <td>Aruba</td>\n",
       "      <td>1960</td>\n",
       "      <td>50.776</td>\n",
       "      <td>27525.0</td>\n",
       "      <td>NaN</td>\n",
       "      <td>54208.0</td>\n",
       "      <td>NaN</td>\n",
       "      <td>NaN</td>\n",
       "      <td>NaN</td>\n",
       "      <td>NaN</td>\n",
       "      <td>...</td>\n",
       "      <td>NaN</td>\n",
       "      <td>NaN</td>\n",
       "      <td>NaN</td>\n",
       "      <td>NaN</td>\n",
       "      <td>NaN</td>\n",
       "      <td>NaN</td>\n",
       "      <td>NaN</td>\n",
       "      <td>NaN</td>\n",
       "      <td>NaN</td>\n",
       "      <td>NaN</td>\n",
       "    </tr>\n",
       "    <tr>\n",
       "      <th>1</th>\n",
       "      <td>Aruba</td>\n",
       "      <td>1961</td>\n",
       "      <td>50.761</td>\n",
       "      <td>28139.0</td>\n",
       "      <td>2.206183</td>\n",
       "      <td>55434.0</td>\n",
       "      <td>2.236462</td>\n",
       "      <td>NaN</td>\n",
       "      <td>NaN</td>\n",
       "      <td>NaN</td>\n",
       "      <td>...</td>\n",
       "      <td>NaN</td>\n",
       "      <td>NaN</td>\n",
       "      <td>NaN</td>\n",
       "      <td>NaN</td>\n",
       "      <td>NaN</td>\n",
       "      <td>NaN</td>\n",
       "      <td>NaN</td>\n",
       "      <td>11.111111</td>\n",
       "      <td>11.111111</td>\n",
       "      <td>20.0</td>\n",
       "    </tr>\n",
       "    <tr>\n",
       "      <th>2</th>\n",
       "      <td>Aruba</td>\n",
       "      <td>1962</td>\n",
       "      <td>50.746</td>\n",
       "      <td>28537.0</td>\n",
       "      <td>1.404498</td>\n",
       "      <td>56234.0</td>\n",
       "      <td>1.432843</td>\n",
       "      <td>NaN</td>\n",
       "      <td>NaN</td>\n",
       "      <td>NaN</td>\n",
       "      <td>...</td>\n",
       "      <td>NaN</td>\n",
       "      <td>NaN</td>\n",
       "      <td>NaN</td>\n",
       "      <td>NaN</td>\n",
       "      <td>NaN</td>\n",
       "      <td>NaN</td>\n",
       "      <td>NaN</td>\n",
       "      <td>11.111111</td>\n",
       "      <td>11.111111</td>\n",
       "      <td>20.0</td>\n",
       "    </tr>\n",
       "    <tr>\n",
       "      <th>3</th>\n",
       "      <td>Aruba</td>\n",
       "      <td>1963</td>\n",
       "      <td>50.730</td>\n",
       "      <td>28763.0</td>\n",
       "      <td>0.788835</td>\n",
       "      <td>56699.0</td>\n",
       "      <td>0.823502</td>\n",
       "      <td>NaN</td>\n",
       "      <td>NaN</td>\n",
       "      <td>NaN</td>\n",
       "      <td>...</td>\n",
       "      <td>NaN</td>\n",
       "      <td>NaN</td>\n",
       "      <td>NaN</td>\n",
       "      <td>NaN</td>\n",
       "      <td>NaN</td>\n",
       "      <td>NaN</td>\n",
       "      <td>NaN</td>\n",
       "      <td>11.111111</td>\n",
       "      <td>11.111111</td>\n",
       "      <td>20.0</td>\n",
       "    </tr>\n",
       "    <tr>\n",
       "      <th>4</th>\n",
       "      <td>Aruba</td>\n",
       "      <td>1964</td>\n",
       "      <td>50.715</td>\n",
       "      <td>28922.0</td>\n",
       "      <td>0.551271</td>\n",
       "      <td>57029.0</td>\n",
       "      <td>0.580334</td>\n",
       "      <td>NaN</td>\n",
       "      <td>NaN</td>\n",
       "      <td>NaN</td>\n",
       "      <td>...</td>\n",
       "      <td>NaN</td>\n",
       "      <td>NaN</td>\n",
       "      <td>NaN</td>\n",
       "      <td>NaN</td>\n",
       "      <td>NaN</td>\n",
       "      <td>NaN</td>\n",
       "      <td>NaN</td>\n",
       "      <td>11.111111</td>\n",
       "      <td>11.111111</td>\n",
       "      <td>20.0</td>\n",
       "    </tr>\n",
       "  </tbody>\n",
       "</table>\n",
       "<p>5 rows × 78 columns</p>\n",
       "</div>"
      ],
      "text/plain": [
       "  Country Name  Year  Urban population (% of total population)  \\\n",
       "0        Aruba  1960                                    50.776   \n",
       "1        Aruba  1961                                    50.761   \n",
       "2        Aruba  1962                                    50.746   \n",
       "3        Aruba  1963                                    50.730   \n",
       "4        Aruba  1964                                    50.715   \n",
       "\n",
       "   Urban population  Urban population growth (annual %)  Population, total  \\\n",
       "0           27525.0                                 NaN            54208.0   \n",
       "1           28139.0                            2.206183            55434.0   \n",
       "2           28537.0                            1.404498            56234.0   \n",
       "3           28763.0                            0.788835            56699.0   \n",
       "4           28922.0                            0.551271            57029.0   \n",
       "\n",
       "   Population growth (annual %)  \\\n",
       "0                           NaN   \n",
       "1                      2.236462   \n",
       "2                      1.432843   \n",
       "3                      0.823502   \n",
       "4                      0.580334   \n",
       "\n",
       "   Poverty headcount ratio at $1.90 a day (2011 PPP) (% of population)  \\\n",
       "0                                                NaN                     \n",
       "1                                                NaN                     \n",
       "2                                                NaN                     \n",
       "3                                                NaN                     \n",
       "4                                                NaN                     \n",
       "\n",
       "   Prevalence of underweight, weight for age (% of children under 5)  \\\n",
       "0                                                NaN                   \n",
       "1                                                NaN                   \n",
       "2                                                NaN                   \n",
       "3                                                NaN                   \n",
       "4                                                NaN                   \n",
       "\n",
       "   Community health workers (per 1,000 people)  ...  \\\n",
       "0                                          NaN  ...   \n",
       "1                                          NaN  ...   \n",
       "2                                          NaN  ...   \n",
       "3                                          NaN  ...   \n",
       "4                                          NaN  ...   \n",
       "\n",
       "   Forest area (% of land area)  Forest area (sq. km)  \\\n",
       "0                           NaN                   NaN   \n",
       "1                           NaN                   NaN   \n",
       "2                           NaN                   NaN   \n",
       "3                           NaN                   NaN   \n",
       "4                           NaN                   NaN   \n",
       "\n",
       "   Land area where elevation is below 5 meters (% of total land area)  \\\n",
       "0                                                NaN                    \n",
       "1                                                NaN                    \n",
       "2                                                NaN                    \n",
       "3                                                NaN                    \n",
       "4                                                NaN                    \n",
       "\n",
       "   Urban land area where elevation is below 5 meters (% of total land area)  \\\n",
       "0                                                NaN                          \n",
       "1                                                NaN                          \n",
       "2                                                NaN                          \n",
       "3                                                NaN                          \n",
       "4                                                NaN                          \n",
       "\n",
       "   Urban land area where elevation is below 5 meters (sq. km)  \\\n",
       "0                                                NaN            \n",
       "1                                                NaN            \n",
       "2                                                NaN            \n",
       "3                                                NaN            \n",
       "4                                                NaN            \n",
       "\n",
       "   Rural land area where elevation is below 5 meters (% of total land area)  \\\n",
       "0                                                NaN                          \n",
       "1                                                NaN                          \n",
       "2                                                NaN                          \n",
       "3                                                NaN                          \n",
       "4                                                NaN                          \n",
       "\n",
       "   Rural land area where elevation is below 5 meters (sq. km)  \\\n",
       "0                                                NaN            \n",
       "1                                                NaN            \n",
       "2                                                NaN            \n",
       "3                                                NaN            \n",
       "4                                                NaN            \n",
       "\n",
       "   Arable land (% of land area)  Agricultural land (% of land area)  \\\n",
       "0                           NaN                                 NaN   \n",
       "1                     11.111111                           11.111111   \n",
       "2                     11.111111                           11.111111   \n",
       "3                     11.111111                           11.111111   \n",
       "4                     11.111111                           11.111111   \n",
       "\n",
       "   Agricultural land (sq. km)  \n",
       "0                         NaN  \n",
       "1                        20.0  \n",
       "2                        20.0  \n",
       "3                        20.0  \n",
       "4                        20.0  \n",
       "\n",
       "[5 rows x 78 columns]"
      ]
     },
     "execution_count": 105,
     "metadata": {},
     "output_type": "execute_result"
    }
   ],
   "source": [
    "df = pd.read_csv('output\\dataset_worldbank_transposed.csv')\n",
    "df.head()"
   ]
  },
  {
   "cell_type": "code",
   "execution_count": 106,
   "metadata": {
    "scrolled": false
   },
   "outputs": [
    {
     "name": "stdout",
     "output_type": "stream",
     "text": [
      "<class 'pandas.core.frame.DataFrame'>\n",
      "RangeIndex: 16226 entries, 0 to 16225\n",
      "Data columns (total 78 columns):\n",
      " #   Column                                                                                      Non-Null Count  Dtype  \n",
      "---  ------                                                                                      --------------  -----  \n",
      " 0   Country Name                                                                                16226 non-null  object \n",
      " 1   Year                                                                                        16226 non-null  int64  \n",
      " 2   Urban population (% of total population)                                                    16034 non-null  float64\n",
      " 3   Urban population                                                                            16001 non-null  float64\n",
      " 4   Urban population growth (annual %)                                                          15738 non-null  float64\n",
      " 5   Population, total                                                                           16123 non-null  float64\n",
      " 6   Population growth (annual %)                                                                15857 non-null  float64\n",
      " 7   Poverty headcount ratio at $1.90 a day (2011 PPP) (% of population)                         2218 non-null   float64\n",
      " 8   Prevalence of underweight, weight for age (% of children under 5)                           1226 non-null   float64\n",
      " 9   Community health workers (per 1,000 people)                                                 213 non-null    float64\n",
      " 10  Mortality rate, under-5 (per 1,000 live births)                                             11945 non-null  float64\n",
      " 11  Primary completion rate, total (% of relevant age group)                                    7177 non-null   float64\n",
      " 12  School enrollment, primary and secondary (gross), gender parity index (GPI)                 7947 non-null   float64\n",
      " 13  Agriculture, forestry, and fishing, value added (% of GDP)                                  10009 non-null  float64\n",
      " 14  CPIA public sector management and institutions cluster average (1=low to 6=high)            1881 non-null   float64\n",
      " 15  Ease of doing business rank (1=most business-friendly regulations)                          189 non-null    float64\n",
      " 16  Terrestrial and marine protected areas (% of total territorial area)                        775 non-null    float64\n",
      " 17  Marine protected areas (% of territorial waters)                                            610 non-null    float64\n",
      " 18  Terrestrial protected areas (% of total land area)                                          776 non-null    float64\n",
      " 19  Annual freshwater withdrawals, total (% of internal resources)                              1194 non-null   float64\n",
      " 20  Annual freshwater withdrawals, total (billion cubic meters)                                 1219 non-null   float64\n",
      " 21  Population in urban agglomerations of more than 1 million (% of total population)           9696 non-null   float64\n",
      " 22  Population living in areas where elevation is below 5 meters (% of total population)        681 non-null    float64\n",
      " 23  Urban population living in areas where elevation is below 5 meters (% of total population)  681 non-null    float64\n",
      " 24  Rural population living in areas where elevation is below 5 meters (% of total population)  681 non-null    float64\n",
      " 25  Droughts, floods, extreme temperatures (% of population, average 1990-2009)                 168 non-null    float64\n",
      " 26  GHG net emissions/removals by LUCF (Mt of CO2 equivalent)                                   941 non-null    float64\n",
      " 27  Disaster risk reduction progress score (1-5 scale; 5=best)                                  83 non-null     float64\n",
      " 28  SF6 gas emissions (thousand metric tons of CO2 equivalent)                                  709 non-null    float64\n",
      " 29  PFC gas emissions (thousand metric tons of CO2 equivalent)                                  704 non-null    float64\n",
      " 30  Nitrous oxide emissions (% change from 1990)                                                5522 non-null   float64\n",
      " 31  Nitrous oxide emissions (thousand metric tons of CO2 equivalent)                            11948 non-null  float64\n",
      " 32  Methane emissions (% change from 1990)                                                      5500 non-null   float64\n",
      " 33  Methane emissions (kt of CO2 equivalent)                                                    11948 non-null  float64\n",
      " 34  HFC gas emissions (thousand metric tons of CO2 equivalent)                                  704 non-null    float64\n",
      " 35  Total greenhouse gas emissions (% change from 1990)                                         4961 non-null   float64\n",
      " 36  Total greenhouse gas emissions (kt of CO2 equivalent)                                       11726 non-null  float64\n",
      " 37  Other greenhouse gas emissions (% change from 1990)                                         5147 non-null   float64\n",
      " 38  Other greenhouse gas emissions, HFC, PFC and SF6 (thousand metric tons of CO2 equivalent)   10965 non-null  float64\n",
      " 39  CO2 emissions from solid fuel consumption (% of total)                                      12746 non-null  float64\n",
      " 40  CO2 emissions from solid fuel consumption (kt)                                              12071 non-null  float64\n",
      " 41  CO2 emissions (kg per 2017 PPP $ of GDP)                                                    6438 non-null   float64\n",
      " 42  CO2 emissions (kg per PPP $ of GDP)                                                         6524 non-null   float64\n",
      " 43  CO2 emissions (metric tons per capita)                                                      13342 non-null  float64\n",
      " 44  CO2 emissions from liquid fuel consumption (% of total)                                     12746 non-null  float64\n",
      " 45  CO2 emissions from liquid fuel consumption (kt)                                             13131 non-null  float64\n",
      " 46  CO2 emissions (kt)                                                                          13345 non-null  float64\n",
      " 47  CO2 emissions (kg per 2015 US$ of GDP)                                                      10956 non-null  float64\n",
      " 48  CO2 emissions from gaseous fuel consumption (% of total)                                    12746 non-null  float64\n",
      " 49  CO2 emissions from gaseous fuel consumption (kt)                                            12327 non-null  float64\n",
      " 50  CO2 intensity (kg per kg of oil equivalent energy use)                                      8192 non-null   float64\n",
      " 51  Energy use (kg of oil equivalent per capita)                                                7978 non-null   float64\n",
      " 52  Electric power consumption (kWh per capita)                                                 7787 non-null   float64\n",
      " 53  Energy use (kg of oil equivalent) per $1,000 GDP (constant 2017 PPP)                        4477 non-null   float64\n",
      " 54  Renewable energy consumption (% of total final energy consumption)                          7319 non-null   float64\n",
      " 55  Electricity production from renewable sources, excluding hydroelectric (% of total)         8110 non-null   float64\n",
      " 56  Electricity production from renewable sources, excluding hydroelectric (kWh)                8360 non-null   float64\n",
      " 57  Renewable electricity output (% of total electricity output)                                6894 non-null   float64\n",
      " 58  Electricity production from oil sources (% of total)                                        8110 non-null   float64\n",
      " 59  Electricity production from nuclear sources (% of total)                                    7982 non-null   float64\n",
      " 60  Electricity production from natural gas sources (% of total)                                8110 non-null   float64\n",
      " 61  Electricity production from hydroelectric sources (% of total)                              8110 non-null   float64\n",
      " 62  Electricity production from coal sources (% of total)                                       8110 non-null   float64\n",
      " 63  Access to electricity (% of population)                                                     6755 non-null   float64\n",
      " 64  Foreign direct investment, net inflows (% of GDP)                                           10319 non-null  float64\n",
      " 65  Cereal yield (kg per hectare)                                                               12199 non-null  float64\n",
      " 66  Average precipitation in depth (mm per year)                                                2022 non-null   float64\n",
      " 67  Agricultural irrigated land (% of total agricultural land)                                  973 non-null    float64\n",
      " 68  Forest area (% of land area)                                                                8018 non-null   float64\n",
      " 69  Forest area (sq. km)                                                                        8034 non-null   float64\n",
      " 70  Land area where elevation is below 5 meters (% of total land area)                          678 non-null    float64\n",
      " 71  Urban land area where elevation is below 5 meters (% of total land area)                    678 non-null    float64\n",
      " 72  Urban land area where elevation is below 5 meters (sq. km)                                  681 non-null    float64\n",
      " 73  Rural land area where elevation is below 5 meters (% of total land area)                    678 non-null    float64\n",
      " 74  Rural land area where elevation is below 5 meters (sq. km)                                  681 non-null    float64\n",
      " 75  Arable land (% of land area)                                                                13613 non-null  float64\n",
      " 76  Agricultural land (% of land area)                                                          13764 non-null  float64\n",
      " 77  Agricultural land (sq. km)                                                                  13929 non-null  float64\n",
      "dtypes: float64(76), int64(1), object(1)\n",
      "memory usage: 9.7+ MB\n"
     ]
    }
   ],
   "source": [
    "df.info()"
   ]
  },
  {
   "cell_type": "code",
   "execution_count": 107,
   "metadata": {
    "scrolled": false
   },
   "outputs": [
    {
     "data": {
      "text/plain": [
       "266"
      ]
     },
     "execution_count": 107,
     "metadata": {},
     "output_type": "execute_result"
    }
   ],
   "source": [
    "df['Country Name'].nunique()"
   ]
  },
  {
   "cell_type": "code",
   "execution_count": 108,
   "metadata": {
    "scrolled": false
   },
   "outputs": [
    {
     "data": {
      "text/plain": [
       "78"
      ]
     },
     "execution_count": 108,
     "metadata": {},
     "output_type": "execute_result"
    }
   ],
   "source": [
    "len(df.columns)"
   ]
  },
  {
   "cell_type": "markdown",
   "metadata": {},
   "source": [
    "# Boruta"
   ]
  },
  {
   "cell_type": "code",
   "execution_count": 109,
   "metadata": {},
   "outputs": [],
   "source": [
    "df2 = df.copy()"
   ]
  },
  {
   "cell_type": "code",
   "execution_count": 110,
   "metadata": {},
   "outputs": [],
   "source": [
    "df2 = pd.get_dummies(df2)"
   ]
  },
  {
   "cell_type": "code",
   "execution_count": 111,
   "metadata": {},
   "outputs": [],
   "source": [
    "feature_names = df2.columns"
   ]
  },
  {
   "cell_type": "code",
   "execution_count": 112,
   "metadata": {
    "scrolled": true
   },
   "outputs": [
    {
     "name": "stdout",
     "output_type": "stream",
     "text": [
      "<class 'pandas.core.frame.DataFrame'>\n",
      "RangeIndex: 16226 entries, 0 to 16225\n",
      "Columns: 343 entries, Year to Country Name_Zimbabwe\n",
      "dtypes: float64(76), int64(1), uint8(266)\n",
      "memory usage: 13.6 MB\n"
     ]
    }
   ],
   "source": [
    "df2.info()"
   ]
  },
  {
   "cell_type": "code",
   "execution_count": 113,
   "metadata": {},
   "outputs": [],
   "source": [
    "df2.fillna(0,inplace=True)"
   ]
  },
  {
   "cell_type": "code",
   "execution_count": 114,
   "metadata": {},
   "outputs": [
    {
     "data": {
      "text/plain": [
       "Year                                        0\n",
       "Urban population (% of total population)    0\n",
       "Urban population                            0\n",
       "Urban population growth (annual %)          0\n",
       "Population, total                           0\n",
       "                                           ..\n",
       "Country Name_West Bank and Gaza             0\n",
       "Country Name_World                          0\n",
       "Country Name_Yemen, Rep.                    0\n",
       "Country Name_Zambia                         0\n",
       "Country Name_Zimbabwe                       0\n",
       "Length: 343, dtype: int64"
      ]
     },
     "execution_count": 114,
     "metadata": {},
     "output_type": "execute_result"
    }
   ],
   "source": [
    "df2.isnull().sum()"
   ]
  },
  {
   "cell_type": "code",
   "execution_count": 115,
   "metadata": {},
   "outputs": [],
   "source": [
    "del df2['Population, total']\n",
    "del df2['Population growth (annual %)']\n",
    "del df2['Urban population growth (annual %)']\n",
    "del df2['Urban population']\n",
    "del df2['Urban population (% of total population)']"
   ]
  },
  {
   "cell_type": "code",
   "execution_count": 116,
   "metadata": {},
   "outputs": [],
   "source": [
    "X = df2.drop('CO2 emissions (metric tons per capita)',axis=1)\n",
    "y = df2['CO2 emissions (metric tons per capita)']"
   ]
  },
  {
   "cell_type": "code",
   "execution_count": 117,
   "metadata": {},
   "outputs": [],
   "source": [
    "scaler = MinMaxScaler()"
   ]
  },
  {
   "cell_type": "code",
   "execution_count": 118,
   "metadata": {},
   "outputs": [],
   "source": [
    "X = scaler.fit_transform(X)"
   ]
  },
  {
   "cell_type": "code",
   "execution_count": 120,
   "metadata": {},
   "outputs": [],
   "source": [
    "rf =RandomForestRegressor(n_jobs=-1, max_depth =64)\n",
    "\n",
    "feat_selector = BorutaPy(rf, n_estimators=\"auto\", random_state = 1)"
   ]
  },
  {
   "cell_type": "code",
   "execution_count": 123,
   "metadata": {},
   "outputs": [],
   "source": [
    "x_filtered =feat_selector.fit_transform(X, y)"
   ]
  },
  {
   "cell_type": "code",
   "execution_count": 124,
   "metadata": {},
   "outputs": [
    {
     "data": {
      "text/plain": [
       "array([ True, False, False, False,  True, False, False,  True, False,\n",
       "       False, False, False, False, False, False,  True, False, False,\n",
       "       False, False, False, False, False, False, False, False, False,\n",
       "       False, False, False, False, False, False, False, False, False,\n",
       "       False, False,  True,  True, False,  True,  True,  True,  True,\n",
       "       False, False, False, False, False, False, False, False, False,\n",
       "       False, False,  True, False, False, False, False, False, False,\n",
       "       False, False, False, False, False,  True,  True,  True, False,\n",
       "       False, False, False, False, False, False, False, False, False,\n",
       "       False, False,  True, False, False, False,  True, False, False,\n",
       "       False, False, False, False, False, False, False, False, False,\n",
       "       False, False, False, False, False, False, False, False, False,\n",
       "       False, False, False, False, False, False, False, False, False,\n",
       "       False, False, False, False, False, False, False, False, False,\n",
       "       False, False, False, False, False, False, False, False, False,\n",
       "       False, False, False, False, False, False, False, False, False,\n",
       "       False, False, False, False, False, False, False, False, False,\n",
       "       False, False, False, False, False, False, False, False, False,\n",
       "       False, False, False, False, False, False, False, False, False,\n",
       "       False, False, False, False, False, False, False, False, False,\n",
       "       False, False, False, False, False, False, False, False, False,\n",
       "       False, False, False, False, False, False, False, False, False,\n",
       "       False,  True, False, False, False, False, False, False, False,\n",
       "       False, False, False, False, False, False, False, False, False,\n",
       "       False, False, False, False, False, False, False, False, False,\n",
       "       False, False, False, False, False, False, False, False, False,\n",
       "       False, False, False, False, False, False, False, False, False,\n",
       "       False, False, False, False, False, False, False, False, False,\n",
       "       False, False, False, False, False, False, False, False, False,\n",
       "       False, False, False, False, False, False, False, False, False,\n",
       "       False,  True, False, False, False, False, False, False, False,\n",
       "       False, False, False, False, False, False, False, False, False,\n",
       "       False, False, False, False, False, False, False, False, False,\n",
       "       False, False, False, False, False, False, False, False, False,\n",
       "       False, False, False, False, False, False, False, False, False,\n",
       "       False, False, False, False, False, False, False, False, False,\n",
       "       False, False, False, False, False, False, False, False, False,\n",
       "       False, False, False, False])"
      ]
     },
     "execution_count": 124,
     "metadata": {},
     "output_type": "execute_result"
    }
   ],
   "source": [
    "feat_selector.support_"
   ]
  },
  {
   "cell_type": "code",
   "execution_count": 125,
   "metadata": {},
   "outputs": [
    {
     "data": {
      "text/plain": [
       "array([  1,  75,  73,  90,   1,  25,  23,   1,  69, 159,  41,  37,  32,\n",
       "        75,  84,   1, 131, 133, 145, 176,  66, 265, 171, 140,  38,  10,\n",
       "        34,  10, 136,  52,   2,  54,   8,  24,  20,  15,  27,   8,   1,\n",
       "         1,   2,   1,   1,   1,   1,  21,  50,  15,  61,  45,  54,  19,\n",
       "        81,   3,  29,  39,   1,  13,  12,  72,  30,  11,  16, 150, 138,\n",
       "       160, 145, 148,   1,   1,   1, 242, 123, 266, 215,  65, 310, 163,\n",
       "       114,  22, 151,  91, 257,   1, 187, 190, 229,   1,  29, 225,  98,\n",
       "       226, 169,  82, 288,  70, 274, 235, 172, 124, 189,  51,   5,  41,\n",
       "       293, 278, 122, 242, 194, 240, 116,  35, 290,  56, 298, 310, 117,\n",
       "       268, 176, 154, 197, 238, 165, 230, 245, 130,  26,  98,  95, 225,\n",
       "        94, 112, 198, 197, 227, 291, 284, 223, 239, 182,  87, 218,  62,\n",
       "        96, 252, 259,  43,  41,  32, 102,  64, 126, 129, 158, 185,  58,\n",
       "        79, 248, 203, 270, 242,  67, 106,  44, 212, 310, 250, 228, 256,\n",
       "        63, 270, 170, 236, 178,  85,  78, 110, 263,  88, 248, 234,  47,\n",
       "       254, 200,  72, 120, 142, 310,  58, 217, 111, 189, 108,  93, 221,\n",
       "       174,  76, 104, 310,   1, 183, 214, 208, 275, 181, 283, 267, 265,\n",
       "       126, 285, 101,  50, 252, 109, 244, 199, 253,  17,  92, 282, 205,\n",
       "       192, 139, 277, 168, 153, 186, 207, 146, 174, 134, 255, 273, 259,\n",
       "       246, 310,  77, 219, 165, 207, 115, 294,   5, 271, 233,  19, 210,\n",
       "       194, 292, 184, 237, 158, 310, 202, 310, 155,  81,  99, 133, 280,\n",
       "         2, 127, 210, 166, 201, 210, 150, 107, 221, 204, 310,   1,  59,\n",
       "         3, 262, 191, 310, 216,  55, 178, 138, 141, 249,  60, 310, 280,\n",
       "       276, 105, 221, 287,  48, 299, 295, 259, 180,  86,  33, 129, 310,\n",
       "       152, 300, 302, 301, 281,  46, 194, 148, 163, 167, 297, 122, 297,\n",
       "       287, 120,  68, 156, 180,  83, 310, 104, 289, 262,   5, 233, 214,\n",
       "       161, 136, 100, 113,  36, 143, 310, 310, 118, 272, 231,  90])"
      ]
     },
     "execution_count": 125,
     "metadata": {},
     "output_type": "execute_result"
    }
   ],
   "source": [
    "feat_selector.ranking_"
   ]
  },
  {
   "cell_type": "code",
   "execution_count": 126,
   "metadata": {},
   "outputs": [],
   "source": [
    "feature_ranks = list(zip(feature_names,\n",
    "                        feat_selector.ranking_,\n",
    "                        feat_selector.support_))"
   ]
  },
  {
   "cell_type": "code",
   "execution_count": 127,
   "metadata": {
    "scrolled": true
   },
   "outputs": [
    {
     "name": "stdout",
     "output_type": "stream",
     "text": [
      "Features: Year                           Rank： 1, Keep: True\n",
      "Features: Population, total              Rank： 1, Keep: True\n",
      "Features: Prevalence of underweight, weight for age (% of children under 5) Rank： 1, Keep: True\n",
      "Features: Terrestrial and marine protected areas (% of total territorial area) Rank： 1, Keep: True\n",
      "Features: CO2 emissions from solid fuel consumption (% of total) Rank： 1, Keep: True\n",
      "Features: CO2 emissions from solid fuel consumption (kt) Rank： 1, Keep: True\n",
      "Features: CO2 emissions (kg per PPP $ of GDP) Rank： 1, Keep: True\n",
      "Features: CO2 emissions (metric tons per capita) Rank： 1, Keep: True\n",
      "Features: CO2 emissions from liquid fuel consumption (% of total) Rank： 1, Keep: True\n",
      "Features: CO2 emissions from liquid fuel consumption (kt) Rank： 1, Keep: True\n",
      "Features: Renewable electricity output (% of total electricity output) Rank： 1, Keep: True\n",
      "Features: Forest area (sq. km)           Rank： 1, Keep: True\n",
      "Features: Land area where elevation is below 5 meters (% of total land area) Rank： 1, Keep: True\n",
      "Features: Urban land area where elevation is below 5 meters (% of total land area) Rank： 1, Keep: True\n",
      "Features: Country Name_Andorra           Rank： 1, Keep: True\n",
      "Features: Country Name_Argentina         Rank： 1, Keep: True\n",
      "Features: Country Name_Kazakhstan        Rank： 1, Keep: True\n",
      "Features: Country Name_Philippines       Rank： 1, Keep: True\n"
     ]
    }
   ],
   "source": [
    "for feat in feature_ranks:\n",
    "    if feat[2] == True:\n",
    "        print('Features: {:<30} Rank： {}, Keep: {}'.format(feat[0],feat[1],feat[2]))"
   ]
  },
  {
   "cell_type": "code",
   "execution_count": 128,
   "metadata": {},
   "outputs": [
    {
     "data": {
      "text/plain": [
       "(16226, 337)"
      ]
     },
     "execution_count": 128,
     "metadata": {},
     "output_type": "execute_result"
    }
   ],
   "source": [
    "X.shape"
   ]
  },
  {
   "cell_type": "code",
   "execution_count": 129,
   "metadata": {},
   "outputs": [
    {
     "data": {
      "text/plain": [
       "(16226, 18)"
      ]
     },
     "execution_count": 129,
     "metadata": {},
     "output_type": "execute_result"
    }
   ],
   "source": [
    "x_filtered.shape"
   ]
  }
 ],
 "metadata": {
  "kernelspec": {
   "display_name": "Python 3",
   "language": "python",
   "name": "python3"
  },
  "language_info": {
   "codemirror_mode": {
    "name": "ipython",
    "version": 3
   },
   "file_extension": ".py",
   "mimetype": "text/x-python",
   "name": "python",
   "nbconvert_exporter": "python",
   "pygments_lexer": "ipython3",
   "version": "3.8.3"
  }
 },
 "nbformat": 4,
 "nbformat_minor": 4
}
