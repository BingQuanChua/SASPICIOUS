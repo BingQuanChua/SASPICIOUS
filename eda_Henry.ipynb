{
 "cells": [
  {
   "cell_type": "code",
   "execution_count": null,
   "id": "e18a1814",
   "metadata": {},
   "outputs": [],
   "source": [
    "import pandas as pd\n",
    "import numpy as np\n",
    "import matplotlib.pyplot as plt\n",
    "import seaborn as sns\n",
    "import plotly.express as px\n",
    "import plotly.graph_objects as go\n",
    "import math\n",
    "import os"
   ]
  },
  {
   "cell_type": "code",
   "execution_count": null,
   "id": "fe860674",
   "metadata": {},
   "outputs": [],
   "source": [
    "# function to read specific csv files from the output folder and merge them\n",
    "def merge_owid_worldbank_data(country):\n",
    "    \n",
    "    country = country.lower() # just in case, lol\n",
    "    \n",
    "    df_owid = pd.read_csv(f'output/owid_{country}_impute.csv')\n",
    "    df_worldbank = pd.read_csv(f'output/worldbank_{country}_impute.csv')\n",
    "    \n",
    "    df_country = df_owid.merge(df_worldbank, how='left', on='year')\n",
    "    df_country.drop(['iso_code_x', 'country_x'], axis=1, inplace=True)\n",
    "    df_country.rename(columns={'iso_code_y': 'iso_code',\n",
    "                               'country_y': 'country'}, inplace=True)\n",
    "    \n",
    "    # save merged dfs\n",
    "    df_country.to_csv(f'output/merged_{country}.csv', index=False)\n",
    "    \n",
    "    return df_country"
   ]
  },
  {
   "cell_type": "code",
   "execution_count": null,
   "id": "13c872a5",
   "metadata": {},
   "outputs": [],
   "source": [
    "# df_china = pd.read_csv('output/merged_china.csv')\n",
    "# df_us = pd.read_csv('output/merged_us.csv')\n",
    "# df_india = pd.read_csv('output/merged_india.csv')\n",
    "\n",
    "df_sector = pd.read_csv('dataset\\owid\\ghg-emissions-by-sector.csv')\n",
    "df_china =  merge_owid_worldbank_data('china')\n",
    "df_us =  merge_owid_worldbank_data('us')\n",
    "df_india = merge_owid_worldbank_data('india')"
   ]
  },
  {
   "cell_type": "code",
   "execution_count": null,
   "id": "563c1807",
   "metadata": {},
   "outputs": [],
   "source": [
    "df_sector.head()"
   ]
  },
  {
   "cell_type": "code",
   "execution_count": null,
   "id": "b1ae099f",
   "metadata": {},
   "outputs": [],
   "source": [
    "df_sector.columns = df_sector.columns.str.replace(\"(GHG Emissions, CAIT)\", \"\")\n",
    "df_sector.columns = df_sector.columns.str.replace(r\"\\(.*\\)\",\"\")\n",
    "df_sector.columns"
   ]
  },
  {
   "cell_type": "code",
   "execution_count": null,
   "id": "57304af6",
   "metadata": {},
   "outputs": [],
   "source": []
  },
  {
   "cell_type": "code",
   "execution_count": null,
   "id": "570c57d0",
   "metadata": {},
   "outputs": [],
   "source": [
    "df_sector_china = df_sector[df_sector['Code'] == \"CHN\"]\n",
    "df_sector_india = df_sector[df_sector['Code'] == \"IND\"]\n",
    "df_sector_usa = df_sector[df_sector['Code'] == \"USA\"]"
   ]
  },
  {
   "cell_type": "code",
   "execution_count": null,
   "id": "a58a8017",
   "metadata": {},
   "outputs": [],
   "source": [
    "df_sector_merged_china = df_sector.merge(df_sector_china, left_on=['Code','Year','Entity'], right_on=['Code','Year','Entity'],suffixes=('', '_y'))\n",
    "df_sector_merged_china.columns = df_sector_merged_china.columns.str.replace(\"_y\", \"\")\n",
    "df_sector_merged_china.head()\n"
   ]
  },
  {
   "cell_type": "code",
   "execution_count": null,
   "id": "85bd41e9",
   "metadata": {},
   "outputs": [],
   "source": [
    "df_sector_merged_india = df_sector.merge(df_sector_india, left_on=['Code','Year','Entity'], right_on=['Code','Year','Entity'],suffixes=('', '_y'))\n",
    "df_sector_merged_india.columns = df_sector_merged_india.columns.str.replace(\"_y\", \"\")\n",
    "df_sector_merged_india.head()"
   ]
  },
  {
   "cell_type": "code",
   "execution_count": null,
   "id": "b2476db1",
   "metadata": {},
   "outputs": [],
   "source": [
    "df_sector_merged_usa = df_sector.merge(df_sector_usa, left_on=['Code','Year','Entity'], right_on=['Code','Year','Entity'],suffixes=('', '_y'))\n",
    "df_sector_merged_usa.columns = df_sector_merged_usa.columns.str.replace(\"_y\", \"\")\n",
    "df_sector_merged_usa.head()"
   ]
  },
  {
   "cell_type": "code",
   "execution_count": null,
   "id": "a94d3235",
   "metadata": {},
   "outputs": [],
   "source": [
    "## TO DO\n",
    "# come up with 2 EDA questions + 1 ML question\n",
    "# ...\n",
    "# Covid impact to CO2 ( Mar 2020 - Mar 2021)"
   ]
  },
  {
   "cell_type": "code",
   "execution_count": null,
   "id": "3c1c764a",
   "metadata": {},
   "outputs": [],
   "source": []
  },
  {
   "cell_type": "code",
   "execution_count": null,
   "id": "37b72002",
   "metadata": {},
   "outputs": [],
   "source": []
  }
 ],
 "metadata": {
  "interpreter": {
   "hash": "cb0fa31df687c6a70c96cd5f23259ba71a27792e9361d34492310e4b94d35548"
  },
  "kernelspec": {
   "display_name": "Anaconda (base)",
   "language": "python",
   "name": "python3"
  },
  "language_info": {
   "codemirror_mode": {
    "name": "ipython",
    "version": 3
   },
   "file_extension": ".py",
   "mimetype": "text/x-python",
   "name": "python",
   "nbconvert_exporter": "python",
   "pygments_lexer": "ipython3",
   "version": "3.8.8"
  }
 },
 "nbformat": 4,
 "nbformat_minor": 5
}
