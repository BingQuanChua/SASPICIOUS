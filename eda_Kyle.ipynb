{
 "cells": [
  {
   "cell_type": "code",
   "execution_count": null,
   "metadata": {},
   "outputs": [],
   "source": [
    "import pandas as pd\n",
    "import numpy as np\n",
    "import matplotlib as mpl\n",
    "import matplotlib.pyplot as plt\n",
    "import seaborn as sns\n",
    "import math\n",
    "import os"
   ]
  },
  {
   "cell_type": "code",
   "execution_count": null,
   "metadata": {},
   "outputs": [],
   "source": [
    "# df_china = pd.read_csv('output/merged_china.csv')\n",
    "# df_us = pd.read_csv('output/merged_us.csv')\n",
    "# df_india = pd.read_csv('output/merged_india.csv')\n",
    "\n",
    "df_raw_owid = pd.read_csv('dataset/owid/owid-co2-data.csv')\n",
    "df_raw_ghg = pd.read_csv('dataset/owid/ghg-emissions-by-sector.csv')\n",
    "df_raw_worldbank = pd.read_csv('dataset/worldbank/API.csv')\n",
    "df_worldbank_meta_country = pd.read_csv('dataset/worldbank/Metadata_Country_API_19_DS2_en_csv_v2_3159902.csv')"
   ]
  },
  {
   "cell_type": "markdown",
   "metadata": {},
   "source": [
    "## Overall process\n",
    "\n",
    "### Preprocessing (again)\n",
    "1. Identify null value\n",
    "2. Overlapping columns (or indicators)\n",
    "2. Imputation \n",
    "    - woid (imputation drop columns)\n",
    "    - worldbank (imputation\n",
    "3. Data transformation\n",
    "\n",
    "reference: [5 stages of data prep for k-means](https://medium.com/@evgen.ryzhkov/5-stages-of-data-preprocessing-for-k-means-clustering-b755426f9932)\n",
    "\n",
    "### EDA\n",
    "- Only looking at a few attributes\n",
    "\n",
    "#### For OWID\n",
    "- test\n",
    "\n",
    "#### For Worldbank\n",
    "- Test\n",
    "\n",
    "\n",
    "### K-Means\n",
    "- Euclidean K Means\n",
    "- DBA K Means\n",
    "- Soft DTW K Means"
   ]
  },
  {
   "cell_type": "markdown",
   "metadata": {},
   "source": [
    "## EDA"
   ]
  },
  {
   "cell_type": "code",
   "execution_count": null,
   "metadata": {},
   "outputs": [],
   "source": [
    "df_worldbank = df_raw_worldbank.drop(columns=['Country Code', 'Indicator Code','2017','2018','2019','2020'])\n",
    "df_co2 = (df_worldbank[df_worldbank['Indicator Name'] == 'CO2 emissions from gaseous fuel consumption (% of total)']).drop(columns=['Indicator Name'])\n",
    "df_co2.set_index('Country Name', inplace=True)\n",
    "df_co2 = df_co2.fillna(0)\n",
    "df_co2"
   ]
  },
  {
   "cell_type": "code",
   "execution_count": null,
   "metadata": {},
   "outputs": [],
   "source": [
    "# copy the data\n",
    "df_co2_normalized = df_co2.copy()\n",
    "  \n",
    "# apply normalization techniques\n",
    "for column in df_co2_normalized.columns:\n",
    "    # max scaled normalization\n",
    "    df_co2_normalized[column] = df_co2_normalized[column]  / 100\n",
    "      \n",
    "# view normalized data\n",
    "df_co2_normalized.tail()"
   ]
  },
  {
   "cell_type": "markdown",
   "metadata": {},
   "source": [
    "## Preprocessing"
   ]
  },
  {
   "cell_type": "markdown",
   "metadata": {},
   "source": [
    "### Clustering"
   ]
  },
  {
   "cell_type": "code",
   "execution_count": null,
   "metadata": {},
   "outputs": [],
   "source": [
    "from tslearn.clustering import TimeSeriesKMeans\n",
    "from tslearn.utils import to_time_series_dataset\n",
    "\n",
    "# Matplotlib customization\n",
    "%matplotlib inline\n",
    "mpl.rcParams.update(mpl.rcParamsDefault)\n",
    "mpl.rcParams['font.size'] = 14\n",
    "mpl.rcParams['figure.dpi'] = 150.\n",
    "mpl.rcParams[\"figure.figsize\"] = (20,50)"
   ]
  },
  {
   "cell_type": "code",
   "execution_count": null,
   "metadata": {},
   "outputs": [],
   "source": [
    "seed = 1\n",
    "np.random.seed(seed)"
   ]
  },
  {
   "cell_type": "code",
   "execution_count": null,
   "metadata": {},
   "outputs": [],
   "source": [
    "# Set number of cluster\n",
    "\n",
    "cluster_number = 10"
   ]
  },
  {
   "cell_type": "code",
   "execution_count": null,
   "metadata": {},
   "outputs": [],
   "source": [
    "# training set (there's no testing set)\n",
    "\n",
    "X_train_co2 = to_time_series_dataset(df_co2_normalized.copy())"
   ]
  },
  {
   "cell_type": "code",
   "execution_count": null,
   "metadata": {},
   "outputs": [],
   "source": [
    "def euclideanKMeans(cluster, seed, X_train):\n",
    "    print(\"Euclidean k-means\")\n",
    "    km = TimeSeriesKMeans(n_clusters=cluster, \n",
    "                          verbose=True, \n",
    "                          random_state=seed, \n",
    "                          max_iter=10)\n",
    "    y_pred = km.fit_predict(X_train)\n",
    "#     clusters = pd.Series(data=y_pred, index=X_train.index)\n",
    "#     clusters\n",
    "\n",
    "    plt.figure()\n",
    "    for yi in range(cluster):\n",
    "        plt.subplot(cluster, 1, yi+1)\n",
    "        for xx in X_train[y_pred == yi]:\n",
    "            plt.plot(xx.ravel(), \"k-\", alpha=.2)\n",
    "        plt.plot(km.cluster_centers_[yi].ravel(), \"r-\")\n",
    "        plt.ylim(0, 1)\n",
    "        plt.text(0.01, 0.50,'Cluster %d' % (yi + 1),\n",
    "                 transform=plt.gca().transAxes)\n",
    "\n",
    "    print(\"Euclidean k-means Chart\")\n",
    "    plt.show()\n",
    "    return y_pred"
   ]
  },
  {
   "cell_type": "code",
   "execution_count": null,
   "metadata": {},
   "outputs": [],
   "source": [
    "# DBA-k-means\n",
    "def dbaKMeans(cluster, seed, X_train):\n",
    "    print(\"DBA k-means\")\n",
    "    dba_km = TimeSeriesKMeans(n_clusters=cluster,\n",
    "                              n_init=2,\n",
    "                              metric=\"dtw\",\n",
    "                              verbose=True,\n",
    "                              max_iter_barycenter=10,\n",
    "                              random_state=seed)\n",
    "    y_pred = dba_km.fit_predict(X_train)\n",
    "\n",
    "    for yi in range(cluster):\n",
    "        plt.subplot(cluster, 1, yi+1)\n",
    "        for xx in X_train[y_pred == yi]:\n",
    "            plt.plot(xx.ravel(), \"k-\", alpha=.2)\n",
    "        plt.plot(dba_km.cluster_centers_[yi].ravel(), \"r-\")\n",
    "        plt.ylim(0, 1)\n",
    "        plt.text(0.01, 0.50,'Cluster %d' % (yi + 1),\n",
    "                 transform=plt.gca().transAxes)\n",
    "\n",
    "\n",
    "    print(\"DBA k-means Chart\")\n",
    "    plt.show()\n",
    "    return y_pred"
   ]
  },
  {
   "cell_type": "code",
   "execution_count": null,
   "metadata": {},
   "outputs": [],
   "source": [
    "# Soft-DTW-k-means\n",
    "def softDTWKmean(cluster, seed, X_train):\n",
    "    print(\"Soft-DTW k-means\")\n",
    "    sdtw_km = TimeSeriesKMeans(n_clusters=cluster,\n",
    "                               metric=\"softdtw\",\n",
    "                               metric_params={\"gamma\": .01},\n",
    "                               verbose=True,\n",
    "                               random_state=seed)\n",
    "    y_pred = sdtw_km.fit_predict(X_train)\n",
    "\n",
    "    for yi in range(cluster):\n",
    "        plt.subplot(cluster, 1, yi+1)\n",
    "        for xx in X_train[y_pred == yi]:\n",
    "            plt.plot(xx.ravel(), \"k-\", alpha=.2)\n",
    "        plt.plot(sdtw_km.cluster_centers_[yi].ravel(), \"r-\")\n",
    "        plt.ylim(0, 1)\n",
    "        plt.text(0.01, 0.50,'Cluster %d' % (yi),\n",
    "                 transform=plt.gca().transAxes)\n",
    "\n",
    "    print(\"Soft-DTW k-means Chart\")\n",
    "    plt.show()\n",
    "    return y_pred"
   ]
  },
  {
   "cell_type": "code",
   "execution_count": null,
   "metadata": {},
   "outputs": [],
   "source": [
    "def mergeClusterNames(y_pred, df_index):\n",
    "    clusters = pd.Series(data=y_pred, index=df_index.index)\n",
    "    df_cluster = clusters.to_frame()\n",
    "    df_cluster.columns = ['cluster']\n",
    "    return df_cluster\n",
    "\n",
    "def getSingleCluster(df_cluster, n):\n",
    "    # cluster 1 in the chart represent cluster 0 in the data.\n",
    "    display(df_cluster[df_cluster['cluster'] == n-1])"
   ]
  },
  {
   "cell_type": "code",
   "execution_count": null,
   "metadata": {},
   "outputs": [],
   "source": [
    "y_pred_X_china_euclideanKM = euclideanKMeans(15, seed, X_train_co2)"
   ]
  },
  {
   "cell_type": "code",
   "execution_count": null,
   "metadata": {},
   "outputs": [],
   "source": []
  },
  {
   "cell_type": "code",
   "execution_count": null,
   "metadata": {},
   "outputs": [],
   "source": [
    "cluster_china_euclideanKM = mergeClusterNames(y_pred_X_china_euclideanKM, df_china_normalized_tranposed)\n",
    "getSingleCluster(cluster_china_euclideanKM, 2)"
   ]
  },
  {
   "cell_type": "code",
   "execution_count": null,
   "metadata": {},
   "outputs": [],
   "source": []
  }
 ],
 "metadata": {
  "kernelspec": {
   "display_name": "Python 3",
   "language": "python",
   "name": "python3"
  },
  "language_info": {
   "codemirror_mode": {
    "name": "ipython",
    "version": 3
   },
   "file_extension": ".py",
   "mimetype": "text/x-python",
   "name": "python",
   "nbconvert_exporter": "python",
   "pygments_lexer": "ipython3",
   "version": "3.8.5"
  }
 },
 "nbformat": 4,
 "nbformat_minor": 5
}
