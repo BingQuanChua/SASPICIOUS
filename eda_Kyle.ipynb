{
 "cells": [
  {
   "cell_type": "code",
   "execution_count": 1,
   "id": "e18a1814",
   "metadata": {},
   "outputs": [],
   "source": [
    "import pandas as pd\n",
    "import numpy as np\n",
    "import matplotlib.pyplot as plt\n",
    "import seaborn as sns\n",
    "import plotly.express as px\n",
    "import plotly.graph_objects as go\n",
    "import altair as alt\n",
    "import math\n",
    "import os"
   ]
  },
  {
   "cell_type": "code",
   "execution_count": 3,
   "id": "13c872a5",
   "metadata": {},
   "outputs": [],
   "source": [
    "df_china = pd.read_csv(f'output/merged_china.csv')\n",
    "df_us = pd.read_csv(f'output/merged_us.csv')\n",
    "df_india = pd.read_csv(f'output/merged_india.csv')"
   ]
  },
  {
   "cell_type": "code",
   "execution_count": null,
   "id": "a94d3235",
   "metadata": {},
   "outputs": [],
   "source": [
    "## to do\n",
    "# come up with 2 EDA questoins"
   ]
  },
  {
   "cell_type": "code",
   "execution_count": null,
   "id": "3c1c764a",
   "metadata": {},
   "outputs": [],
   "source": []
  },
  {
   "cell_type": "code",
   "execution_count": null,
   "id": "37b72002",
   "metadata": {},
   "outputs": [],
   "source": []
  }
 ],
 "metadata": {
  "kernelspec": {
   "display_name": "Anaconda (base)",
   "language": "python",
   "name": "anaconda-base"
  },
  "language_info": {
   "codemirror_mode": {
    "name": "ipython",
    "version": 3
   },
   "file_extension": ".py",
   "mimetype": "text/x-python",
   "name": "python",
   "nbconvert_exporter": "python",
   "pygments_lexer": "ipython3",
   "version": "3.8.8"
  }
 },
 "nbformat": 4,
 "nbformat_minor": 5
}
