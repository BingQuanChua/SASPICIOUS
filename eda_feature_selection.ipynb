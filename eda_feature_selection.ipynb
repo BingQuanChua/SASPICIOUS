{
 "cells": [
  {
   "cell_type": "code",
   "execution_count": null,
   "metadata": {},
   "outputs": [],
   "source": [
    "import pandas as pd\n",
    "import numpy as np\n",
    "import matplotlib.pyplot as plt\n",
    "import seaborn as sns\n",
    "import plotly.express as px\n",
    "import plotly.graph_objects as go\n",
    "import math\n",
    "import os\n",
    "import plotly.express as px\n",
    "import seaborn as sns\n",
    "import matplotlib.pyplot as plt \n",
    "from sklearn.ensemble import RandomForestRegressor\n",
    "from boruta import BorutaPy\n",
    "from sklearn.feature_selection import RFECV\n",
    "from sklearn.preprocessing import MinMaxScaler"
   ]
  },
  {
   "cell_type": "markdown",
   "metadata": {},
   "source": [
    "##### Import Dataset"
   ]
  },
  {
   "cell_type": "code",
   "execution_count": null,
   "metadata": {},
   "outputs": [],
   "source": [
    "df_original = pd.read_csv('output\\dataset_worldbank_transposed.csv')\n",
    "df_original"
   ]
  },
  {
   "cell_type": "markdown",
   "metadata": {},
   "source": [
    "##### Remove Noisy Country"
   ]
  },
  {
   "cell_type": "code",
   "execution_count": null,
   "metadata": {},
   "outputs": [],
   "source": [
    "countries_to_drop = ['Channel Islands',\n",
    " 'Curacao',\n",
    " 'Isle of Man',\n",
    " 'Kosovo',\n",
    " 'Monaco',\n",
    " 'Northern Mariana Islands',\n",
    " 'Not classified',\n",
    " 'San Marino',\n",
    " 'Sint Maarten (Dutch part)',\n",
    " 'South Sudan',\n",
    " 'St. Martin (French part)']\n",
    "\n",
    "df_original = df_original[~df_original['Country Name'].isin(countries_to_drop)]\n",
    "df_original"
   ]
  },
  {
   "cell_type": "markdown",
   "metadata": {},
   "source": [
    "##### Drop Missing Values > 50%"
   ]
  },
  {
   "cell_type": "code",
   "execution_count": null,
   "metadata": {},
   "outputs": [],
   "source": [
    "# function to visualize the proportion of missing value\n",
    "def visual_nan(df, name=\"\", isSorted=False, savePlot=True):\n",
    "    \n",
    "    sort = ''\n",
    "    if isSorted:\n",
    "        df=df[df.isna().sum().sort_values().keys()]\n",
    "        sort = '_sorted'\n",
    "    missing_value = df.isna().melt(value_name=\"missing\")\n",
    "\n",
    "    ax = sns.displot(data=missing_value,\n",
    "                      y=\"variable\",\n",
    "                      hue=\"missing\",\n",
    "                      multiple=\"fill\",\n",
    "                      height=10,\n",
    "                      aspect=1.5)\n",
    "    plt.xlabel(\"Proportion of missing value\")\n",
    "    plt.title(f\"Missing values of {name}\")\n",
    "    \n",
    "    if savePlot:\n",
    "        filename = name.split('.')\n",
    "        plt.savefig(f\"plot/{filename[0]}{sort}.png\")\n",
    "\n",
    "    return ax"
   ]
  },
  {
   "cell_type": "code",
   "execution_count": null,
   "metadata": {},
   "outputs": [],
   "source": [
    "visual_nan(df_original, 'worldbank-original', isSorted=True)"
   ]
  },
  {
   "cell_type": "code",
   "execution_count": null,
   "metadata": {},
   "outputs": [],
   "source": [
    "# function to display the number of missing values and missing ratio\n",
    "def missing_ratio_summary(df):\n",
    "    missing = pd.DataFrame(df.isna().sum(), columns=['missing'])\n",
    "    missing.reset_index(inplace=True)\n",
    "    missing.rename(columns={'index':'col'}, inplace=True)\n",
    "    missing['ratio'] = (missing['missing']/len(df)*100).round(2)\n",
    "\n",
    "    display(missing.sort_values(by=['ratio']))\n",
    "    \n",
    "# function to return a list of columns with more than x% of missing values \n",
    "def get_X_missing(df, X):\n",
    "    missing = pd.DataFrame(df.isna().sum(), columns=['missing'])\n",
    "    missing.reset_index(inplace=True)\n",
    "    missing.rename(columns={'index':'col'}, inplace=True)\n",
    "    missing['ratio'] = (missing['missing']/len(df)*100).round(2)\n",
    "    \n",
    "    missing_list = missing[missing['ratio'] > X]['col'].tolist()\n",
    "    return missing_list\n",
    "    \n",
    "missing_ratio_summary(df_original)"
   ]
  },
  {
   "cell_type": "code",
   "execution_count": null,
   "metadata": {},
   "outputs": [],
   "source": [
    "missing = pd.DataFrame(df_original.isna().sum(), columns=['missing'])\n",
    "missing.reset_index(inplace=True)\n",
    "missing.rename(columns={'index':'col'}, inplace=True)\n",
    "missing['ratio'] = (missing['missing']/len(df_original)*100).round(2)\n",
    "missing_list = missing[missing['ratio'] > 50]['col'].tolist()\n",
    "missing_list"
   ]
  },
  {
   "cell_type": "code",
   "execution_count": null,
   "metadata": {},
   "outputs": [],
   "source": [
    "df_original = df_original.drop(columns=missing_list)"
   ]
  },
  {
   "cell_type": "code",
   "execution_count": null,
   "metadata": {},
   "outputs": [],
   "source": [
    "# Remove CO2 columns\n",
    "y_cols = [c for c in df_original.columns if c.lower()[:13] == 'co2 emissions']\n",
    "y_cols"
   ]
  },
  {
   "cell_type": "code",
   "execution_count": null,
   "metadata": {},
   "outputs": [],
   "source": [
    "# df_original.drop(col_list, 1)"
   ]
  },
  {
   "cell_type": "code",
   "execution_count": null,
   "metadata": {},
   "outputs": [],
   "source": [
    "col_list = [col for col in df_original.columns.tolist() if df_original[col].dtype.name == \"object\"]\n",
    "df_oh = df_original[col_list]\n",
    "df = df_original.drop(col_list, 1)\n",
    "df_oh = pd.get_dummies(df_oh)\n",
    "df = pd.concat([df, df_oh], axis=1)\n",
    "df.head()"
   ]
  },
  {
   "cell_type": "code",
   "execution_count": null,
   "metadata": {},
   "outputs": [],
   "source": [
    "cols = [c for c in df.columns if c.lower()[:13] != 'co2 emissions']\n",
    "df = df[df.columns.intersection(cols)]\n",
    "df.head()"
   ]
  },
  {
   "cell_type": "code",
   "execution_count": null,
   "metadata": {},
   "outputs": [],
   "source": [
    "# def multivariate_imputation(df, iso_code, country):\n",
    "    \n",
    "#     N = 20\n",
    "#     df_train = df.iloc[:-N] \n",
    "#     df_test = df[-N:] # last N years\n",
    "\n",
    "#     print(f'Training years: {df_train.shape[0]}')\n",
    "#     print(f'Test years: {df_test.shape[0]}')\n",
    "    \n",
    "#     visual_nan(df_train.shape[0], name=\"\", isSorted=False, savePlot=True)\n",
    "    \n",
    "#     imp = IterativeImputer(max_iter=10, random_state=2022)\n",
    "#     imp.fit(df_train.iloc[:, :49]) # exclude last column\n",
    "\n",
    "#     df_predict_array = imp.transform(df_test.iloc[:, :49])\n",
    "\n",
    "#     columns = df.columns.tolist()[:49]\n",
    "#     df_predict = pd.DataFrame(df_predict_array, columns=columns) # array to df\n",
    "    \n",
    "#     df_predict['iso_code'] = iso_code\n",
    "#     df_predict['country'] = country\n",
    "#     df_predict['year'] = df_test['Year'].to_list() # predicted years\n",
    "\n",
    "#     return df_predict"
   ]
  },
  {
   "cell_type": "code",
   "execution_count": null,
   "metadata": {},
   "outputs": [],
   "source": [
    "rf =RandomForestRegressor(n_jobs=-1, max_depth =64)\n",
    "feat_selector = BorutaPy(rf, n_estimators=\"auto\", random_state = 1)"
   ]
  },
  {
   "cell_type": "code",
   "execution_count": null,
   "metadata": {},
   "outputs": [],
   "source": [
    "def ranking(ranks, names, order=1):\n",
    "    minmax = MinMaxScaler()\n",
    "    ranks = minmax.fit_transform(order*np.array([ranks]).T).T[0]\n",
    "    ranks = map(lambda x: round(x,2), ranks)\n",
    "    return dict(zip(names, ranks))"
   ]
  },
  {
   "cell_type": "code",
   "execution_count": null,
   "metadata": {},
   "outputs": [],
   "source": [
    "import pandas as pd\n",
    "from sklearn import preprocessing\n",
    "\n",
    "x = df.values #returns a numpy array\n",
    "min_max_scaler = preprocessing.MinMaxScaler()\n",
    "# x_scaled = min_max_scaler.fit_transform(x)\n",
    "x_scaled = pd.DataFrame(min_max_scaler.fit_transform(df), index=df.index, columns=df.columns)\n",
    "df = pd.DataFrame(x_scaled)"
   ]
  },
  {
   "cell_type": "code",
   "execution_count": null,
   "metadata": {},
   "outputs": [],
   "source": [
    "# import pandas as pd\n",
    "# import numpy as np\n",
    "\n",
    "# def clean_dataset(df):\n",
    "#     assert isinstance(df, pd.DataFrame), \"df needs to be a pd.DataFrame\"\n",
    "#     df.fillna(0, inplace=True)\n",
    "#     df.replace([np.inf, -np.inf], np.nan, inplace=True)\n",
    "#     # return df[indices_to_keep].astype(np.float64)"
   ]
  },
  {
   "cell_type": "code",
   "execution_count": null,
   "metadata": {},
   "outputs": [],
   "source": [
    "# clean_dataset(df)\n",
    "df.fillna(0, inplace=True)\n",
    "df.head()\n",
    "# X.head()"
   ]
  },
  {
   "cell_type": "code",
   "execution_count": null,
   "metadata": {},
   "outputs": [],
   "source": [
    "y = df_original['CO2 emissions (metric tons per capita)'].fillna(0)\n",
    "X = df\n",
    "colnames = X.columns"
   ]
  },
  {
   "cell_type": "code",
   "execution_count": null,
   "metadata": {},
   "outputs": [],
   "source": [
    "feat_selector.fit(X.values, y.values.ravel())\n",
    "boruta_score = ranking(list(map(float, feat_selector.ranking_)), colnames, order=-1)\n",
    "boruta_score = pd.DataFrame(list(boruta_score.items()), columns=['Features', 'Score'])\n",
    "boruta_score = boruta_score.sort_values(\"Score\", ascending = False)"
   ]
  },
  {
   "cell_type": "code",
   "execution_count": null,
   "metadata": {},
   "outputs": [],
   "source": [
    "print('---------Top 10 for CO2 emissions (metric tons per capita)----------')\n",
    "display(boruta_score.head(11))\n",
    "\n",
    "print('---------Bottom 10 for CO2 emissions (metric tons per capita)----------')\n",
    "boruta_score.tail(10)"
   ]
  },
  {
   "cell_type": "code",
   "execution_count": null,
   "metadata": {},
   "outputs": [],
   "source": [
    "sns_boruta_plot = sns.catplot(x=\"Score\", y=\"Features\", data = boruta_score[:], kind = \"bar\", \n",
    "               height=14, aspect=1.9, palette='coolwarm')\n",
    "plt.title(\"Boruta all Features\")"
   ]
  },
  {
   "cell_type": "code",
   "execution_count": null,
   "metadata": {},
   "outputs": [],
   "source": [
    "boruta_score.head(11)['Features'].values"
   ]
  },
  {
   "cell_type": "code",
   "execution_count": null,
   "metadata": {},
   "outputs": [],
   "source": [
    "cols_to_keep = np.delete(boruta_score.head(11)['Features'].values, [0, 2, 7])\n",
    "#Remove Cols that should not be in final dataset\n",
    "df_final = df_original[cols_to_keep]\n",
    "df_final"
   ]
  },
  {
   "cell_type": "code",
   "execution_count": null,
   "metadata": {},
   "outputs": [],
   "source": []
  }
 ],
 "metadata": {
  "interpreter": {
   "hash": "5e0e143810b327d5e077938793196a872c643ae5d9cadd9e9dd1877f5ab05453"
  },
  "kernelspec": {
   "display_name": "Python 3.8.8 64-bit ('base': conda)",
   "language": "python",
   "name": "python3"
  },
  "language_info": {
   "codemirror_mode": {
    "name": "ipython",
    "version": 3
   },
   "file_extension": ".py",
   "mimetype": "text/x-python",
   "name": "python",
   "nbconvert_exporter": "python",
   "pygments_lexer": "ipython3",
   "version": "3.8.8"
  },
  "orig_nbformat": 4
 },
 "nbformat": 4,
 "nbformat_minor": 2
}
